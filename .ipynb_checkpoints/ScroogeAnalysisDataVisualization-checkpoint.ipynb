{
 "cells": [
  {
   "cell_type": "markdown",
   "metadata": {},
   "source": [
    "# First, an overview of what a single panel of visits looks like"
   ]
  },
  {
   "cell_type": "code",
   "execution_count": 2,
   "metadata": {},
   "outputs": [],
   "source": [
    "import pandas as pd\n",
    "import numpy as np\n",
    "import os\n",
    "\n",
    "os.chdir(\"/Users/burke/Documents/research/scrooge\")\n",
    "\n",
    "oneDocscreeningServices = pd.read_excel(\"SingleProvider10YearLifetimeScreeningServices.xlsx\")\n",
    "oneDocscreeningServices['year'] = oneDocscreeningServices.visitDate.dt.year\n",
    "oneDocscreeningServices['timeWithSDM'] = oneDocscreeningServices.timeSpent + 5.2\n",
    "\n",
    "oneDocPanel = pd.read_excel(\"SingleProvider10YearPanel.xlsx\")\n",
    "oneDocVisits = pd.read_excel(\"SingleProvider10YearLifetimeVisits.xlsx\")\n",
    "oneDocVisits['year'] = oneDocVisits.visitDate.dt.year\n",
    "\n",
    "lastYearScreening = oneDocscreeningServices[oneDocscreeningServices.year==2026]\n",
    "\n",
    "\n",
    "lastYearVisits = oneDocVisits[oneDocVisits.year==2026]"
   ]
  },
  {
   "cell_type": "code",
   "execution_count": 3,
   "metadata": {},
   "outputs": [
    {
     "name": "stdout",
     "output_type": "stream",
     "text": [
      "3712\n",
      "8525\n",
      "18279.0\n"
     ]
    }
   ],
   "source": [
    "print len(lastYearVisits)\n",
    "print len(lastYearScreening)\n",
    "print lastYearScreening['timeSpent'].sum()"
   ]
  },
  {
   "cell_type": "code",
   "execution_count": 4,
   "metadata": {},
   "outputs": [
    {
     "data": {
      "text/html": [
       "<div>\n",
       "<style scoped>\n",
       "    .dataframe tbody tr th:only-of-type {\n",
       "        vertical-align: middle;\n",
       "    }\n",
       "\n",
       "    .dataframe tbody tr th {\n",
       "        vertical-align: top;\n",
       "    }\n",
       "\n",
       "    .dataframe thead th {\n",
       "        text-align: right;\n",
       "    }\n",
       "</style>\n",
       "<table border=\"1\" class=\"dataframe\">\n",
       "  <thead>\n",
       "    <tr style=\"text-align: right;\">\n",
       "      <th></th>\n",
       "      <th>Service</th>\n",
       "      <th>grade</th>\n",
       "      <th>localPatientID</th>\n",
       "      <th>screeningIndex</th>\n",
       "      <th>timeSpent</th>\n",
       "      <th>visitDate</th>\n",
       "      <th>year</th>\n",
       "      <th>timeWithSDM</th>\n",
       "    </tr>\n",
       "  </thead>\n",
       "  <tbody>\n",
       "    <tr>\n",
       "      <th>0</th>\n",
       "      <td>Skin Cancer Prevention: Behavioral Counseling</td>\n",
       "      <td>B</td>\n",
       "      <td>19818</td>\n",
       "      <td>6</td>\n",
       "      <td>1.50</td>\n",
       "      <td>2026-01-01 21:15:11.423</td>\n",
       "      <td>2026</td>\n",
       "      <td>6.70</td>\n",
       "    </tr>\n",
       "    <tr>\n",
       "      <th>1</th>\n",
       "      <td>Sexually Transmitted Infections: Behavioral Co...</td>\n",
       "      <td>B</td>\n",
       "      <td>19818</td>\n",
       "      <td>8</td>\n",
       "      <td>3.00</td>\n",
       "      <td>2026-01-01 21:15:11.423</td>\n",
       "      <td>2026</td>\n",
       "      <td>8.20</td>\n",
       "    </tr>\n",
       "    <tr>\n",
       "      <th>2</th>\n",
       "      <td>Intimate Partner Violence: Screening</td>\n",
       "      <td>B</td>\n",
       "      <td>19818</td>\n",
       "      <td>20</td>\n",
       "      <td>1.00</td>\n",
       "      <td>2026-01-01 21:15:11.423</td>\n",
       "      <td>2026</td>\n",
       "      <td>6.20</td>\n",
       "    </tr>\n",
       "    <tr>\n",
       "      <th>3</th>\n",
       "      <td>Human Immunodeficiency Virus (HIV) Infection: ...</td>\n",
       "      <td>A</td>\n",
       "      <td>19818</td>\n",
       "      <td>21</td>\n",
       "      <td>1.00</td>\n",
       "      <td>2026-01-01 21:15:11.423</td>\n",
       "      <td>2026</td>\n",
       "      <td>6.20</td>\n",
       "    </tr>\n",
       "    <tr>\n",
       "      <th>4</th>\n",
       "      <td>High Blood Pressure in Adults: Screening</td>\n",
       "      <td>A</td>\n",
       "      <td>19818</td>\n",
       "      <td>23</td>\n",
       "      <td>0.25</td>\n",
       "      <td>2026-01-01 21:15:11.423</td>\n",
       "      <td>2026</td>\n",
       "      <td>5.45</td>\n",
       "    </tr>\n",
       "  </tbody>\n",
       "</table>\n",
       "</div>"
      ],
      "text/plain": [
       "                                             Service grade  localPatientID  \\\n",
       "0      Skin Cancer Prevention: Behavioral Counseling     B           19818   \n",
       "1  Sexually Transmitted Infections: Behavioral Co...     B           19818   \n",
       "2               Intimate Partner Violence: Screening     B           19818   \n",
       "3  Human Immunodeficiency Virus (HIV) Infection: ...     A           19818   \n",
       "4           High Blood Pressure in Adults: Screening     A           19818   \n",
       "\n",
       "   screeningIndex  timeSpent               visitDate  year  timeWithSDM  \n",
       "0               6       1.50 2026-01-01 21:15:11.423  2026         6.70  \n",
       "1               8       3.00 2026-01-01 21:15:11.423  2026         8.20  \n",
       "2              20       1.00 2026-01-01 21:15:11.423  2026         6.20  \n",
       "3              21       1.00 2026-01-01 21:15:11.423  2026         6.20  \n",
       "4              23       0.25 2026-01-01 21:15:11.423  2026         5.45  "
      ]
     },
     "execution_count": 4,
     "metadata": {},
     "output_type": "execute_result"
    }
   ],
   "source": [
    "lastYearScreening.head(5)"
   ]
  },
  {
   "cell_type": "markdown",
   "metadata": {},
   "source": [
    "## Table 1 — Summary of Screening Services with and without SDM (Need some 95% CIs)"
   ]
  },
  {
   "cell_type": "code",
   "execution_count": 5,
   "metadata": {},
   "outputs": [
    {
     "data": {
      "text/html": [
       "<style  type=\"text/css\" >\n",
       "</style>  \n",
       "<table id=\"T_4c6f3175_a611_11e8_9200_f218981efa40\" > \n",
       "<thead>    <tr> \n",
       "        <th class=\"blank level0\" ></th> \n",
       "        <th class=\"col_heading level0 col0\" >timeWithSDM</th> \n",
       "        <th class=\"col_heading level0 col1\" >timeSpent</th> \n",
       "    </tr>    <tr> \n",
       "        <th class=\"index_name level0\" >Service</th> \n",
       "        <th class=\"blank\" ></th> \n",
       "        <th class=\"blank\" ></th> \n",
       "    </tr></thead> \n",
       "<tbody>    <tr> \n",
       "        <th id=\"T_4c6f3175_a611_11e8_9200_f218981efa40level0_row0\" class=\"row_heading level0 row0\" >Healthful Diet and Physical Activity for Cardiovascular Disease Prevention in Adults Without Known Risk Factors: Behavioral Counseling</th> \n",
       "        <td id=\"T_4c6f3175_a611_11e8_9200_f218981efa40row0_col0\" class=\"data row0 col0\" >102.95</td> \n",
       "        <td id=\"T_4c6f3175_a611_11e8_9200_f218981efa40row0_col1\" class=\"data row0 col1\" >72.18</td> \n",
       "    </tr>    <tr> \n",
       "        <th id=\"T_4c6f3175_a611_11e8_9200_f218981efa40level0_row1\" class=\"row_heading level0 row1\" >Healthful Diet and Physical Activity for Cardiovascular Disease Prevention in Adults With Cardiovascular Risk Factors: Behavioral Counseling</th> \n",
       "        <td id=\"T_4c6f3175_a611_11e8_9200_f218981efa40row1_col0\" class=\"data row1 col0\" >95.41</td> \n",
       "        <td id=\"T_4c6f3175_a611_11e8_9200_f218981efa40row1_col1\" class=\"data row1 col1\" >66.90</td> \n",
       "    </tr>    <tr> \n",
       "        <th id=\"T_4c6f3175_a611_11e8_9200_f218981efa40level0_row2\" class=\"row_heading level0 row2\" >Abnormal Blood Glucose and Type 2 Diabetes Mellitus: Screening</th> \n",
       "        <td id=\"T_4c6f3175_a611_11e8_9200_f218981efa40row2_col0\" class=\"data row2 col0\" >65.54</td> \n",
       "        <td id=\"T_4c6f3175_a611_11e8_9200_f218981efa40row2_col1\" class=\"data row2 col1\" >45.95</td> \n",
       "    </tr>    <tr> \n",
       "        <th id=\"T_4c6f3175_a611_11e8_9200_f218981efa40level0_row3\" class=\"row_heading level0 row3\" >Alcohol Misuse: Screening and Behavioral Counseling Interventions in Primary Care</th> \n",
       "        <td id=\"T_4c6f3175_a611_11e8_9200_f218981efa40row3_col0\" class=\"data row3 col0\" >33.49</td> \n",
       "        <td id=\"T_4c6f3175_a611_11e8_9200_f218981efa40row3_col1\" class=\"data row3 col1\" >16.42</td> \n",
       "    </tr>    <tr> \n",
       "        <th id=\"T_4c6f3175_a611_11e8_9200_f218981efa40level0_row4\" class=\"row_heading level0 row4\" >Skin Cancer Prevention: Behavioral Counseling</th> \n",
       "        <td id=\"T_4c6f3175_a611_11e8_9200_f218981efa40row4_col0\" class=\"data row4 col0\" >51.59</td> \n",
       "        <td id=\"T_4c6f3175_a611_11e8_9200_f218981efa40row4_col1\" class=\"data row4 col1\" >11.55</td> \n",
       "    </tr>    <tr> \n",
       "        <th id=\"T_4c6f3175_a611_11e8_9200_f218981efa40level0_row5\" class=\"row_heading level0 row5\" >Intimate Partner Violence: Screening</th> \n",
       "        <td id=\"T_4c6f3175_a611_11e8_9200_f218981efa40row5_col0\" class=\"data row5 col0\" >70.16</td> \n",
       "        <td id=\"T_4c6f3175_a611_11e8_9200_f218981efa40row5_col1\" class=\"data row5 col1\" >11.32</td> \n",
       "    </tr>    <tr> \n",
       "        <th id=\"T_4c6f3175_a611_11e8_9200_f218981efa40level0_row6\" class=\"row_heading level0 row6\" >Colorectal Cancer: Screening</th> \n",
       "        <td id=\"T_4c6f3175_a611_11e8_9200_f218981efa40row6_col0\" class=\"data row6 col0\" >44.12</td> \n",
       "        <td id=\"T_4c6f3175_a611_11e8_9200_f218981efa40row6_col1\" class=\"data row6 col1\" >7.12</td> \n",
       "    </tr>    <tr> \n",
       "        <th id=\"T_4c6f3175_a611_11e8_9200_f218981efa40level0_row7\" class=\"row_heading level0 row7\" >Human Immunodeficiency Virus (HIV) Infection: Screening One Tie</th> \n",
       "        <td id=\"T_4c6f3175_a611_11e8_9200_f218981efa40row7_col0\" class=\"data row7 col0\" >42.68</td> \n",
       "        <td id=\"T_4c6f3175_a611_11e8_9200_f218981efa40row7_col1\" class=\"data row7 col1\" >6.88</td> \n",
       "    </tr>    <tr> \n",
       "        <th id=\"T_4c6f3175_a611_11e8_9200_f218981efa40level0_row8\" class=\"row_heading level0 row8\" >Statin Use for the Primary Prevention of Cardiovascular Disease in Adults: Preventive Medication</th> \n",
       "        <td id=\"T_4c6f3175_a611_11e8_9200_f218981efa40row8_col0\" class=\"data row8 col0\" >18.87</td> \n",
       "        <td id=\"T_4c6f3175_a611_11e8_9200_f218981efa40row8_col1\" class=\"data row8 col1\" >6.12</td> \n",
       "    </tr>    <tr> \n",
       "        <th id=\"T_4c6f3175_a611_11e8_9200_f218981efa40level0_row9\" class=\"row_heading level0 row9\" >Influenza</th> \n",
       "        <td id=\"T_4c6f3175_a611_11e8_9200_f218981efa40row9_col0\" class=\"data row9 col0\" >64.51</td> \n",
       "        <td id=\"T_4c6f3175_a611_11e8_9200_f218981efa40row9_col1\" class=\"data row9 col1\" >5.66</td> \n",
       "    </tr>    <tr> \n",
       "        <th id=\"T_4c6f3175_a611_11e8_9200_f218981efa40level0_row10\" class=\"row_heading level0 row10\" >Tobacco Smoking Cessation in Adults: Behavioral and Pharmacotherapy Interventions</th> \n",
       "        <td id=\"T_4c6f3175_a611_11e8_9200_f218981efa40row10_col0\" class=\"data row10 col0\" >15.44</td> \n",
       "        <td id=\"T_4c6f3175_a611_11e8_9200_f218981efa40row10_col1\" class=\"data row10 col1\" >5.65</td> \n",
       "    </tr>    <tr> \n",
       "        <th id=\"T_4c6f3175_a611_11e8_9200_f218981efa40level0_row11\" class=\"row_heading level0 row11\" >Depression in Adults: Screening</th> \n",
       "        <td id=\"T_4c6f3175_a611_11e8_9200_f218981efa40row11_col0\" class=\"data row11 col0\" >44.94</td> \n",
       "        <td id=\"T_4c6f3175_a611_11e8_9200_f218981efa40row11_col1\" class=\"data row11 col1\" >3.94</td> \n",
       "    </tr>    <tr> \n",
       "        <th id=\"T_4c6f3175_a611_11e8_9200_f218981efa40level0_row12\" class=\"row_heading level0 row12\" >Obesity in Adults: Screening and Management</th> \n",
       "        <td id=\"T_4c6f3175_a611_11e8_9200_f218981efa40row12_col0\" class=\"data row12 col0\" >23.04</td> \n",
       "        <td id=\"T_4c6f3175_a611_11e8_9200_f218981efa40row12_col1\" class=\"data row12 col1\" >3.72</td> \n",
       "    </tr>    <tr> \n",
       "        <th id=\"T_4c6f3175_a611_11e8_9200_f218981efa40level0_row13\" class=\"row_heading level0 row13\" >Varicella</th> \n",
       "        <td id=\"T_4c6f3175_a611_11e8_9200_f218981efa40row13_col0\" class=\"data row13 col0\" >40.57</td> \n",
       "        <td id=\"T_4c6f3175_a611_11e8_9200_f218981efa40row13_col1\" class=\"data row13 col1\" >3.56</td> \n",
       "    </tr>    <tr> \n",
       "        <th id=\"T_4c6f3175_a611_11e8_9200_f218981efa40level0_row14\" class=\"row_heading level0 row14\" >Tetanus</th> \n",
       "        <td id=\"T_4c6f3175_a611_11e8_9200_f218981efa40row14_col0\" class=\"data row14 col0\" >40.57</td> \n",
       "        <td id=\"T_4c6f3175_a611_11e8_9200_f218981efa40row14_col1\" class=\"data row14 col1\" >3.56</td> \n",
       "    </tr>    <tr> \n",
       "        <th id=\"T_4c6f3175_a611_11e8_9200_f218981efa40level0_row15\" class=\"row_heading level0 row15\" >Pneumococcal</th> \n",
       "        <td id=\"T_4c6f3175_a611_11e8_9200_f218981efa40row15_col0\" class=\"data row15 col0\" >40.57</td> \n",
       "        <td id=\"T_4c6f3175_a611_11e8_9200_f218981efa40row15_col1\" class=\"data row15 col1\" >3.56</td> \n",
       "    </tr>    <tr> \n",
       "        <th id=\"T_4c6f3175_a611_11e8_9200_f218981efa40level0_row16\" class=\"row_heading level0 row16\" >Zoster</th> \n",
       "        <td id=\"T_4c6f3175_a611_11e8_9200_f218981efa40row16_col0\" class=\"data row16 col0\" >40.57</td> \n",
       "        <td id=\"T_4c6f3175_a611_11e8_9200_f218981efa40row16_col1\" class=\"data row16 col1\" >3.56</td> \n",
       "    </tr>    <tr> \n",
       "        <th id=\"T_4c6f3175_a611_11e8_9200_f218981efa40level0_row17\" class=\"row_heading level0 row17\" >Cervical Cancer: Screening</th> \n",
       "        <td id=\"T_4c6f3175_a611_11e8_9200_f218981efa40row17_col0\" class=\"data row17 col0\" >21.60</td> \n",
       "        <td id=\"T_4c6f3175_a611_11e8_9200_f218981efa40row17_col1\" class=\"data row17 col1\" >3.48</td> \n",
       "    </tr>    <tr> \n",
       "        <th id=\"T_4c6f3175_a611_11e8_9200_f218981efa40level0_row18\" class=\"row_heading level0 row18\" >High Blood Pressure in Adults: Screening</th> \n",
       "        <td id=\"T_4c6f3175_a611_11e8_9200_f218981efa40row18_col0\" class=\"data row18 col0\" >61.68</td> \n",
       "        <td id=\"T_4c6f3175_a611_11e8_9200_f218981efa40row18_col1\" class=\"data row18 col1\" >2.83</td> \n",
       "    </tr>    <tr> \n",
       "        <th id=\"T_4c6f3175_a611_11e8_9200_f218981efa40level0_row19\" class=\"row_heading level0 row19\" >Breast Cancer: Screening</th> \n",
       "        <td id=\"T_4c6f3175_a611_11e8_9200_f218981efa40row19_col0\" class=\"data row19 col0\" >15.81</td> \n",
       "        <td id=\"T_4c6f3175_a611_11e8_9200_f218981efa40row19_col1\" class=\"data row19 col1\" >2.55</td> \n",
       "    </tr>    <tr> \n",
       "        <th id=\"T_4c6f3175_a611_11e8_9200_f218981efa40level0_row20\" class=\"row_heading level0 row20\" >Hepatitis C: Screening</th> \n",
       "        <td id=\"T_4c6f3175_a611_11e8_9200_f218981efa40row20_col0\" class=\"data row20 col0\" >15.71</td> \n",
       "        <td id=\"T_4c6f3175_a611_11e8_9200_f218981efa40row20_col1\" class=\"data row20 col1\" >2.53</td> \n",
       "    </tr>    <tr> \n",
       "        <th id=\"T_4c6f3175_a611_11e8_9200_f218981efa40level0_row21\" class=\"row_heading level0 row21\" >Chlamydia and Gonorrhea: Screening</th> \n",
       "        <td id=\"T_4c6f3175_a611_11e8_9200_f218981efa40row21_col0\" class=\"data row21 col0\" >14.78</td> \n",
       "        <td id=\"T_4c6f3175_a611_11e8_9200_f218981efa40row21_col1\" class=\"data row21 col1\" >2.38</td> \n",
       "    </tr>    <tr> \n",
       "        <th id=\"T_4c6f3175_a611_11e8_9200_f218981efa40level0_row22\" class=\"row_heading level0 row22\" >Falls Prevention in Community-Dwelling Older Adults: Interventions</th> \n",
       "        <td id=\"T_4c6f3175_a611_11e8_9200_f218981efa40row22_col0\" class=\"data row22 col0\" >15.17</td> \n",
       "        <td id=\"T_4c6f3175_a611_11e8_9200_f218981efa40row22_col1\" class=\"data row22 col1\" >1.91</td> \n",
       "    </tr>    <tr> \n",
       "        <th id=\"T_4c6f3175_a611_11e8_9200_f218981efa40level0_row23\" class=\"row_heading level0 row23\" >Osteoporosis to Prevent Fractures: Screening — Under 65</th> \n",
       "        <td id=\"T_4c6f3175_a611_11e8_9200_f218981efa40row23_col0\" class=\"data row23 col0\" >8.89</td> \n",
       "        <td id=\"T_4c6f3175_a611_11e8_9200_f218981efa40row23_col1\" class=\"data row23 col1\" >1.43</td> \n",
       "    </tr>    <tr> \n",
       "        <th id=\"T_4c6f3175_a611_11e8_9200_f218981efa40level0_row24\" class=\"row_heading level0 row24\" >Prostate Cancer Screening</th> \n",
       "        <td id=\"T_4c6f3175_a611_11e8_9200_f218981efa40row24_col0\" class=\"data row24 col0\" >7.03</td> \n",
       "        <td id=\"T_4c6f3175_a611_11e8_9200_f218981efa40row24_col1\" class=\"data row24 col1\" >1.13</td> \n",
       "    </tr>    <tr> \n",
       "        <th id=\"T_4c6f3175_a611_11e8_9200_f218981efa40level0_row25\" class=\"row_heading level0 row25\" >Sexually Transmitted Infections: Behavioral Counseling - women under 25</th> \n",
       "        <td id=\"T_4c6f3175_a611_11e8_9200_f218981efa40row25_col0\" class=\"data row25 col0\" >3.01</td> \n",
       "        <td id=\"T_4c6f3175_a611_11e8_9200_f218981efa40row25_col1\" class=\"data row25 col1\" >1.10</td> \n",
       "    </tr>    <tr> \n",
       "        <th id=\"T_4c6f3175_a611_11e8_9200_f218981efa40level0_row26\" class=\"row_heading level0 row26\" >Aspirin Use to Prevent Cardiovascular Disease and Colorectal Cancer: Preventive Medication</th> \n",
       "        <td id=\"T_4c6f3175_a611_11e8_9200_f218981efa40row26_col0\" class=\"data row26 col0\" >4.47</td> \n",
       "        <td id=\"T_4c6f3175_a611_11e8_9200_f218981efa40row26_col1\" class=\"data row26 col1\" >1.00</td> \n",
       "    </tr>    <tr> \n",
       "        <th id=\"T_4c6f3175_a611_11e8_9200_f218981efa40level0_row27\" class=\"row_heading level0 row27\" >Latent Tuberculosis Infection: Screening Under 65</th> \n",
       "        <td id=\"T_4c6f3175_a611_11e8_9200_f218981efa40row27_col0\" class=\"data row27 col0\" >5.27</td> \n",
       "        <td id=\"T_4c6f3175_a611_11e8_9200_f218981efa40row27_col1\" class=\"data row27 col1\" >0.85</td> \n",
       "    </tr>    <tr> \n",
       "        <th id=\"T_4c6f3175_a611_11e8_9200_f218981efa40level0_row28\" class=\"row_heading level0 row28\" >Hepatitis B Virus Infection: Screening</th> \n",
       "        <td id=\"T_4c6f3175_a611_11e8_9200_f218981efa40row28_col0\" class=\"data row28 col0\" >5.17</td> \n",
       "        <td id=\"T_4c6f3175_a611_11e8_9200_f218981efa40row28_col1\" class=\"data row28 col1\" >0.83</td> \n",
       "    </tr>    <tr> \n",
       "        <th id=\"T_4c6f3175_a611_11e8_9200_f218981efa40level0_row29\" class=\"row_heading level0 row29\" >Osteoporosis to Prevent Fractures: Screening — Women over 65</th> \n",
       "        <td id=\"T_4c6f3175_a611_11e8_9200_f218981efa40row29_col0\" class=\"data row29 col0\" >5.06</td> \n",
       "        <td id=\"T_4c6f3175_a611_11e8_9200_f218981efa40row29_col1\" class=\"data row29 col1\" >0.82</td> \n",
       "    </tr>    <tr> \n",
       "        <th id=\"T_4c6f3175_a611_11e8_9200_f218981efa40level0_row30\" class=\"row_heading level0 row30\" >Breast Cancer: Medications for Risk Reduction</th> \n",
       "        <td id=\"T_4c6f3175_a611_11e8_9200_f218981efa40row30_col0\" class=\"data row30 col0\" >2.79</td> \n",
       "        <td id=\"T_4c6f3175_a611_11e8_9200_f218981efa40row30_col1\" class=\"data row30 col1\" >0.62</td> \n",
       "    </tr>    <tr> \n",
       "        <th id=\"T_4c6f3175_a611_11e8_9200_f218981efa40level0_row31\" class=\"row_heading level0 row31\" >Sexually Transmitted Infections: Behavioral Counseling - high risk</th> \n",
       "        <td id=\"T_4c6f3175_a611_11e8_9200_f218981efa40row31_col0\" class=\"data row31 col0\" >1.64</td> \n",
       "        <td id=\"T_4c6f3175_a611_11e8_9200_f218981efa40row31_col1\" class=\"data row31 col1\" >0.60</td> \n",
       "    </tr>    <tr> \n",
       "        <th id=\"T_4c6f3175_a611_11e8_9200_f218981efa40level0_row32\" class=\"row_heading level0 row32\" >Abdominal Aortic Aneurysm: Screening</th> \n",
       "        <td id=\"T_4c6f3175_a611_11e8_9200_f218981efa40row32_col0\" class=\"data row32 col0\" >3.10</td> \n",
       "        <td id=\"T_4c6f3175_a611_11e8_9200_f218981efa40row32_col1\" class=\"data row32 col1\" >0.50</td> \n",
       "    </tr>    <tr> \n",
       "        <th id=\"T_4c6f3175_a611_11e8_9200_f218981efa40level0_row33\" class=\"row_heading level0 row33\" >BRCA-Related Cancer: Risk Assessment, Genetic Counseling, and Genetic Testing</th> \n",
       "        <td id=\"T_4c6f3175_a611_11e8_9200_f218981efa40row33_col0\" class=\"data row33 col0\" >2.89</td> \n",
       "        <td id=\"T_4c6f3175_a611_11e8_9200_f218981efa40row33_col1\" class=\"data row33 col1\" >0.47</td> \n",
       "    </tr>    <tr> \n",
       "        <th id=\"T_4c6f3175_a611_11e8_9200_f218981efa40level0_row34\" class=\"row_heading level0 row34\" >Hep A and Hep B</th> \n",
       "        <td id=\"T_4c6f3175_a611_11e8_9200_f218981efa40row34_col0\" class=\"data row34 col0\" >5.03</td> \n",
       "        <td id=\"T_4c6f3175_a611_11e8_9200_f218981efa40row34_col1\" class=\"data row34 col1\" >0.44</td> \n",
       "    </tr>    <tr> \n",
       "        <th id=\"T_4c6f3175_a611_11e8_9200_f218981efa40level0_row35\" class=\"row_heading level0 row35\" >Lung Cancer: Screening(55-64)</th> \n",
       "        <td id=\"T_4c6f3175_a611_11e8_9200_f218981efa40row35_col0\" class=\"data row35 col0\" >2.48</td> \n",
       "        <td id=\"T_4c6f3175_a611_11e8_9200_f218981efa40row35_col1\" class=\"data row35 col1\" >0.40</td> \n",
       "    </tr>    <tr> \n",
       "        <th id=\"T_4c6f3175_a611_11e8_9200_f218981efa40level0_row36\" class=\"row_heading level0 row36\" >Human Immunodeficiency Virus (HIV) Infection: Screening Annual</th> \n",
       "        <td id=\"T_4c6f3175_a611_11e8_9200_f218981efa40row36_col0\" class=\"data row36 col0\" >2.17</td> \n",
       "        <td id=\"T_4c6f3175_a611_11e8_9200_f218981efa40row36_col1\" class=\"data row36 col1\" >0.35</td> \n",
       "    </tr>    <tr> \n",
       "        <th id=\"T_4c6f3175_a611_11e8_9200_f218981efa40level0_row37\" class=\"row_heading level0 row37\" >Syphilis Infection in Nonpregnant Adults and Adolescents: Screening</th> \n",
       "        <td id=\"T_4c6f3175_a611_11e8_9200_f218981efa40row37_col0\" class=\"data row37 col0\" >2.17</td> \n",
       "        <td id=\"T_4c6f3175_a611_11e8_9200_f218981efa40row37_col1\" class=\"data row37 col1\" >0.35</td> \n",
       "    </tr>    <tr> \n",
       "        <th id=\"T_4c6f3175_a611_11e8_9200_f218981efa40level0_row38\" class=\"row_heading level0 row38\" >Lung Cancer: Screening(65-74)</th> \n",
       "        <td id=\"T_4c6f3175_a611_11e8_9200_f218981efa40row38_col0\" class=\"data row38 col0\" >1.34</td> \n",
       "        <td id=\"T_4c6f3175_a611_11e8_9200_f218981efa40row38_col1\" class=\"data row38 col1\" >0.22</td> \n",
       "    </tr>    <tr> \n",
       "        <th id=\"T_4c6f3175_a611_11e8_9200_f218981efa40level0_row39\" class=\"row_heading level0 row39\" >Osteoporosis to Prevent Fractures: Screening — Men over 65</th> \n",
       "        <td id=\"T_4c6f3175_a611_11e8_9200_f218981efa40row39_col0\" class=\"data row39 col0\" >1.14</td> \n",
       "        <td id=\"T_4c6f3175_a611_11e8_9200_f218981efa40row39_col1\" class=\"data row39 col1\" >0.18</td> \n",
       "    </tr>    <tr> \n",
       "        <th id=\"T_4c6f3175_a611_11e8_9200_f218981efa40level0_row40\" class=\"row_heading level0 row40\" >Lung Cancer: Screening(75-80)</th> \n",
       "        <td id=\"T_4c6f3175_a611_11e8_9200_f218981efa40row40_col0\" class=\"data row40 col0\" >0.10</td> \n",
       "        <td id=\"T_4c6f3175_a611_11e8_9200_f218981efa40row40_col1\" class=\"data row40 col1\" >0.02</td> \n",
       "    </tr></tbody> \n",
       "</table> "
      ],
      "text/plain": [
       "<pandas.io.formats.style.Styler at 0x11f221dd0>"
      ]
     },
     "execution_count": 5,
     "metadata": {},
     "output_type": "execute_result"
    }
   ],
   "source": [
    "lastYearScreening.groupby(\"Service\").agg({'timeSpent' : lambda x : np.sum(x)/60, 'timeWithSDM' :lambda x : np.sum(x)/60 }).sort_values('timeSpent', ascending=False).style.format(\"{:4.2f}\")"
   ]
  },
  {
   "cell_type": "markdown",
   "metadata": {},
   "source": [
    "## Data Point  2 — Total time on screening services under different conditions"
   ]
  },
  {
   "cell_type": "markdown",
   "metadata": {},
   "source": [
    "### Overall Times in Base Case (time in minutes)"
   ]
  },
  {
   "cell_type": "code",
   "execution_count": 58,
   "metadata": {},
   "outputs": [
    {
     "data": {
      "text/plain": [
       "timeWithSDM    62609.0\n",
       "timeSpent      18279.0\n",
       "dtype: float64"
      ]
     },
     "execution_count": 58,
     "metadata": {},
     "output_type": "execute_result"
    }
   ],
   "source": [
    "lastYearScreening.agg({'timeSpent':np.sum, 'timeWithSDM' : np.sum})"
   ]
  },
  {
   "cell_type": "markdown",
   "metadata": {},
   "source": [
    "### Excluding Level C Screening (time in hours)"
   ]
  },
  {
   "cell_type": "code",
   "execution_count": 59,
   "metadata": {},
   "outputs": [
    {
     "data": {
      "text/plain": [
       "timeWithSDM    52620.1\n",
       "timeSpent      13136.5\n",
       "dtype: float64"
      ]
     },
     "execution_count": 59,
     "metadata": {},
     "output_type": "execute_result"
    }
   ],
   "source": [
    "noLevelC = lastYearScreening.loc[lastYearScreening.grade != 'C']\n",
    "noLevelC.agg({'timeSpent':np.sum, 'timeWithSDM' : np.sum})"
   ]
  },
  {
   "cell_type": "markdown",
   "metadata": {},
   "source": [
    "### Excluding Level B Screening"
   ]
  },
  {
   "cell_type": "code",
   "execution_count": 60,
   "metadata": {},
   "outputs": [
    {
     "data": {
      "text/plain": [
       "timeWithSDM    11391.35\n",
       "timeSpent       1599.75\n",
       "dtype: float64"
      ]
     },
     "execution_count": 60,
     "metadata": {},
     "output_type": "execute_result"
    }
   ],
   "source": [
    "levelAOnly = lastYearScreening.loc[lastYearScreening.grade == 'A']\n",
    "levelAOnly.agg({'timeSpent':np.sum, 'timeWithSDM' : np.sum})"
   ]
  },
  {
   "cell_type": "markdown",
   "metadata": {},
   "source": [
    "### What services are we talking about for Level A only..."
   ]
  },
  {
   "cell_type": "code",
   "execution_count": 61,
   "metadata": {},
   "outputs": [
    {
     "data": {
      "text/html": [
       "<style  type=\"text/css\" >\n",
       "</style>  \n",
       "<table id=\"T_61f8dd7d_a267_11e8_8a1f_f218981efa40\" > \n",
       "<thead>    <tr> \n",
       "        <th class=\"blank level0\" ></th> \n",
       "        <th class=\"col_heading level0 col0\" >timeWithSDM</th> \n",
       "        <th class=\"col_heading level0 col1\" >timeSpent</th> \n",
       "    </tr>    <tr> \n",
       "        <th class=\"index_name level0\" >Service</th> \n",
       "        <th class=\"blank\" ></th> \n",
       "        <th class=\"blank\" ></th> \n",
       "    </tr></thead> \n",
       "<tbody>    <tr> \n",
       "        <th id=\"T_61f8dd7d_a267_11e8_8a1f_f218981efa40level0_row0\" class=\"row_heading level0 row0\" >Colorectal Cancer: Screening</th> \n",
       "        <td id=\"T_61f8dd7d_a267_11e8_8a1f_f218981efa40row0_col0\" class=\"data row0 col0\" >44.12</td> \n",
       "        <td id=\"T_61f8dd7d_a267_11e8_8a1f_f218981efa40row0_col1\" class=\"data row0 col1\" >7.12</td> \n",
       "    </tr>    <tr> \n",
       "        <th id=\"T_61f8dd7d_a267_11e8_8a1f_f218981efa40level0_row1\" class=\"row_heading level0 row1\" >Human Immunodeficiency Virus (HIV) Infection: Screening One Tie</th> \n",
       "        <td id=\"T_61f8dd7d_a267_11e8_8a1f_f218981efa40row1_col0\" class=\"data row1 col0\" >42.68</td> \n",
       "        <td id=\"T_61f8dd7d_a267_11e8_8a1f_f218981efa40row1_col1\" class=\"data row1 col1\" >6.88</td> \n",
       "    </tr>    <tr> \n",
       "        <th id=\"T_61f8dd7d_a267_11e8_8a1f_f218981efa40level0_row2\" class=\"row_heading level0 row2\" >Tobacco Smoking Cessation in Adults: Behavioral and Pharmacotherapy Interventions</th> \n",
       "        <td id=\"T_61f8dd7d_a267_11e8_8a1f_f218981efa40row2_col0\" class=\"data row2 col0\" >15.44</td> \n",
       "        <td id=\"T_61f8dd7d_a267_11e8_8a1f_f218981efa40row2_col1\" class=\"data row2 col1\" >5.65</td> \n",
       "    </tr>    <tr> \n",
       "        <th id=\"T_61f8dd7d_a267_11e8_8a1f_f218981efa40level0_row3\" class=\"row_heading level0 row3\" >Cervical Cancer: Screening</th> \n",
       "        <td id=\"T_61f8dd7d_a267_11e8_8a1f_f218981efa40row3_col0\" class=\"data row3 col0\" >21.60</td> \n",
       "        <td id=\"T_61f8dd7d_a267_11e8_8a1f_f218981efa40row3_col1\" class=\"data row3 col1\" >3.48</td> \n",
       "    </tr>    <tr> \n",
       "        <th id=\"T_61f8dd7d_a267_11e8_8a1f_f218981efa40level0_row4\" class=\"row_heading level0 row4\" >High Blood Pressure in Adults: Screening</th> \n",
       "        <td id=\"T_61f8dd7d_a267_11e8_8a1f_f218981efa40row4_col0\" class=\"data row4 col0\" >61.68</td> \n",
       "        <td id=\"T_61f8dd7d_a267_11e8_8a1f_f218981efa40row4_col1\" class=\"data row4 col1\" >2.83</td> \n",
       "    </tr>    <tr> \n",
       "        <th id=\"T_61f8dd7d_a267_11e8_8a1f_f218981efa40level0_row5\" class=\"row_heading level0 row5\" >Human Immunodeficiency Virus (HIV) Infection: Screening Annual</th> \n",
       "        <td id=\"T_61f8dd7d_a267_11e8_8a1f_f218981efa40row5_col0\" class=\"data row5 col0\" >2.17</td> \n",
       "        <td id=\"T_61f8dd7d_a267_11e8_8a1f_f218981efa40row5_col1\" class=\"data row5 col1\" >0.35</td> \n",
       "    </tr>    <tr> \n",
       "        <th id=\"T_61f8dd7d_a267_11e8_8a1f_f218981efa40level0_row6\" class=\"row_heading level0 row6\" >Syphilis Infection in Nonpregnant Adults and Adolescents: Screening</th> \n",
       "        <td id=\"T_61f8dd7d_a267_11e8_8a1f_f218981efa40row6_col0\" class=\"data row6 col0\" >2.17</td> \n",
       "        <td id=\"T_61f8dd7d_a267_11e8_8a1f_f218981efa40row6_col1\" class=\"data row6 col1\" >0.35</td> \n",
       "    </tr></tbody> \n",
       "</table> "
      ],
      "text/plain": [
       "<pandas.io.formats.style.Styler at 0x120b1d810>"
      ]
     },
     "execution_count": 61,
     "metadata": {},
     "output_type": "execute_result"
    }
   ],
   "source": [
    "levelAOnly.groupby(\"Service\").agg({'timeSpent' : lambda x : np.sum(x)/60, 'timeWithSDM' :lambda x : np.sum(x)/60 }).sort_values('timeSpent', ascending=False).style.format(\"{:4.2f}\")"
   ]
  },
  {
   "cell_type": "markdown",
   "metadata": {},
   "source": [
    "\n",
    "\n",
    "# Then, looking across 400 providers (will increase the estimate) to capture some variance"
   ]
  },
  {
   "cell_type": "code",
   "execution_count": 9,
   "metadata": {},
   "outputs": [],
   "source": [
    "allScreeningServices = pd.read_csv(\"allScreenings.csv\")\n",
    "allScreeningServices.visitDate = pd.to_datetime(allScreeningServices.visitDate)\n",
    "\n",
    "allScreeningServices['year'] = allScreeningServices.visitDate.dt.year\n",
    "allScreeningServices['timeWithSDM'] = allScreeningServices.timeSpent + 5.2\n",
    "\n",
    "allVisits = pd.read_csv(\"allVisits.csv\")\n",
    "allVisits.visitDate = pd.to_datetime(allVisits.visitDate)\n",
    "allVisits['year'] = allVisits.visitDate.dt.year\n",
    "\n",
    "\n",
    "lastYearAllScreening = allScreeningServices[allScreeningServices.year==2026]\n",
    "lastYearAllVisits = allVisits[allVisits.year==2026]\n",
    "\n",
    "allProviders = pd.read_csv(\"allProviders.csv\")"
   ]
  },
  {
   "cell_type": "code",
   "execution_count": 12,
   "metadata": {},
   "outputs": [],
   "source": []
  },
  {
   "cell_type": "markdown",
   "metadata": {},
   "source": [
    "# Total Time Needed for Prevention + SDM"
   ]
  },
  {
   "cell_type": "markdown",
   "metadata": {},
   "source": [
    "### Total hours of screening and variation at the provider level with SDM"
   ]
  },
  {
   "cell_type": "code",
   "execution_count": 85,
   "metadata": {},
   "outputs": [
    {
     "name": "stdout",
     "output_type": "stream",
     "text": [
      "count    400.000000\n",
      "mean       3.797402\n",
      "std        0.786779\n",
      "min        1.265424\n",
      "25%        3.260305\n",
      "50%        3.788752\n",
      "75%        4.345497\n",
      "max        6.153122\n",
      "Name: timeWithSDM, dtype: float64\n"
     ]
    }
   ],
   "source": [
    "# note -  will convert all hours of yearly screening to hours of screeing per day by dividing by \n",
    "# 48 weeks * 5 days per week = 240\n",
    "print (lastYearAllScreening.groupby('providerID')['timeWithSDM'].sum() / 60 / 240).describe()\n",
    "meanTimeForCompleteScreeningPlusSDM = (lastYearAllScreening.groupby('providerID')['timeWithSDM'].sum() / 60 / 240).mean()"
   ]
  },
  {
   "cell_type": "markdown",
   "metadata": {},
   "source": [
    "### Total hours of screening ande variation at the provider level without SDM"
   ]
  },
  {
   "cell_type": "code",
   "execution_count": 108,
   "metadata": {},
   "outputs": [
    {
     "name": "stdout",
     "output_type": "stream",
     "text": [
      "count    400.000000\n",
      "mean       1.103902\n",
      "std        0.228285\n",
      "min        0.356507\n",
      "25%        0.949602\n",
      "50%        1.100398\n",
      "75%        1.260938\n",
      "max        1.807510\n",
      "Name: timeSpent, dtype: float64\n"
     ]
    }
   ],
   "source": [
    "print (lastYearAllScreening.groupby('providerID')['timeSpent'].sum() / 60 / 240).describe()\n",
    "meanTImeForCompleteScreeningMinusSDM = (lastYearAllScreening.groupby('providerID')['timeSpent'].sum() / 60 / 240).mean()"
   ]
  },
  {
   "cell_type": "markdown",
   "metadata": {},
   "source": [
    "### Total iours of screening and vartiation at the provider level omitting level C screening"
   ]
  },
  {
   "cell_type": "code",
   "execution_count": 37,
   "metadata": {},
   "outputs": [
    {
     "name": "stdout",
     "output_type": "stream",
     "text": [
      "count    400.000000\n",
      "mean       0.799102\n",
      "std        0.165744\n",
      "min        0.263021\n",
      "25%        0.684314\n",
      "50%        0.798849\n",
      "75%        0.916965\n",
      "max        1.301233\n",
      "Name: timeSpent, dtype: float64\n",
      "count    400.000000\n",
      "mean       3.195440\n",
      "std        0.662353\n",
      "min        1.079854\n",
      "25%        2.738302\n",
      "50%        3.196462\n",
      "75%        3.658668\n",
      "max        5.162594\n",
      "Name: timeWithSDM, dtype: float64\n"
     ]
    }
   ],
   "source": [
    "noLevelC = lastYearAllScreening.loc[lastYearAllScreening.grade != 'C']\n",
    "print (noLevelC.groupby('providerID')['timeSpent'].sum() / 60 /240).describe()\n",
    "print (noLevelC.groupby('providerID')['timeWithSDM'].sum() / 60 / 240).describe()"
   ]
  },
  {
   "cell_type": "markdown",
   "metadata": {},
   "source": [
    "### Total hours of screening and variation at the provider level omitting level B and level C screening"
   ]
  },
  {
   "cell_type": "code",
   "execution_count": 38,
   "metadata": {},
   "outputs": [
    {
     "name": "stdout",
     "output_type": "stream",
     "text": [
      "count    400.000000\n",
      "mean       0.098687\n",
      "std        0.020599\n",
      "min        0.033628\n",
      "25%        0.084596\n",
      "50%        0.097786\n",
      "75%        0.112339\n",
      "max        0.160660\n",
      "Name: timeSpent, dtype: float64\n",
      "count    400.000000\n",
      "mean       0.691412\n",
      "std        0.143854\n",
      "min        0.234767\n",
      "25%        0.593496\n",
      "50%        0.686408\n",
      "75%        0.788883\n",
      "max        1.120493\n",
      "Name: timeWithSDM, dtype: float64\n"
     ]
    }
   ],
   "source": [
    "levelAOnly = lastYearAllScreening.loc[lastYearAllScreening.grade == 'A']\n",
    "print (levelAOnly.groupby('providerID')['timeSpent'].sum() / 60 / 240).describe()\n",
    "print (levelAOnly.groupby('providerID')['timeWithSDM'].sum() / 60 / 240).describe()\n"
   ]
  },
  {
   "cell_type": "code",
   "execution_count": 109,
   "metadata": {},
   "outputs": [],
   "source": [
    "levelAWithSDM = (levelAOnly.groupby('providerID')['timeWithSDM'].sum() / 60 / 240).mean()\n",
    "levelAWithoutSDM = (levelAOnly.groupby('providerID')['timeSpent'].sum() / 60 / 240).mean()\n",
    "\n",
    "levelBOnly = lastYearAllScreening.loc[lastYearAllScreening.grade == 'B']\n",
    "levelBWithSDM = (levelBOnly.groupby('providerID')['timeWithSDM'].sum() / 60 / 240).mean()\n",
    "levelBWithoutSDM = (levelBOnly.groupby('providerID')['timeSpent'].sum() / 60 / 240).mean()\n",
    "\n",
    "levelCOnly = lastYearAllScreening.loc[lastYearAllScreening.grade == 'C']\n",
    "levelCWithSDM = (levelCOnly.groupby('providerID')['timeWithSDM'].sum() / 60 / 240).mean()\n",
    "levelCWithoutSDM = (levelCOnly.groupby('providerID')['timeSpent'].sum() / 60 / 240).mean()\n",
    "\n",
    "\n"
   ]
  },
  {
   "cell_type": "markdown",
   "metadata": {},
   "source": [
    "# Total Time available for Prevention"
   ]
  },
  {
   "cell_type": "code",
   "execution_count": 68,
   "metadata": {},
   "outputs": [],
   "source": [
    "allProviders['totalClinicalTime'] = allProviders.hoursWorked * allProviders.proportionClinical\n",
    "allProviders['totalTimePerDay'] = allProviders.hoursWorked / 240\n",
    "allProviders['fractionPreventive'] = np.random.normal(.168, .04, len(allProviders))\n",
    "allProviders['fractionPreventivePlusDoc'] = allProviders.fractionPreventive + allProviders.fractionPreventive * np.random.normal(.385, 0.02, len(allProviders))\n",
    "# for now, our time available for prevention will not include documentation time\n",
    "allProviders['timeAvailableForPreventionPerYear'] = allProviders.fractionPreventive * allProviders.totalClinicalTime\n",
    "allProviders['timeAvailableForPreventionPerDay'] = allProviders.timeAvailableForPreventionPerYear / 240\n",
    "allProviders['totalClinicalTimePerDay'] = allProviders.totalClinicalTime / 240\n",
    "allProviders['totalNonClinicalTimePerDay'] = allProviders.hoursWorked * (1-allProviders.proportionClinical) / 240\n",
    "allProviders['totalClincalNonPreventionTimePerDay'] = allProviders.totalClinicalTimePerDay- allProviders.timeAvailableForPreventionPerDay"
   ]
  },
  {
   "cell_type": "code",
   "execution_count": 53,
   "metadata": {},
   "outputs": [
    {
     "data": {
      "text/plain": [
       "count    400.000000\n",
       "mean       0.481497\n",
       "std        0.143205\n",
       "min        0.062089\n",
       "25%        0.376801\n",
       "50%        0.481805\n",
       "75%        0.570202\n",
       "max        0.951703\n",
       "Name: timeAvailableForPreventionPerDay, dtype: float64"
      ]
     },
     "execution_count": 53,
     "metadata": {},
     "output_type": "execute_result"
    }
   ],
   "source": [
    "allProviders.timeAvailableForPreventionPerDay.describe()"
   ]
  },
  {
   "cell_type": "code",
   "execution_count": 69,
   "metadata": {},
   "outputs": [
    {
     "name": "stdout",
     "output_type": "stream",
     "text": [
      "10.6040220653\n",
      "2.8605820071\n",
      "7.74344005824\n",
      "2.37152460048\n",
      "0.489057406612\n"
     ]
    }
   ],
   "source": [
    "print allProviders.totalTimePerDay.mean()\n",
    "print allProviders.totalClinicalTimePerDay.mean()\n",
    "print allProviders.totalNonClinicalTimePerDay.mean()\n",
    "print allProviders.totalClincalNonPreventionTimePerDay.mean()\n",
    "print allProviders.timeAvailableForPreventionPerDay.mean()"
   ]
  },
  {
   "cell_type": "code",
   "execution_count": 83,
   "metadata": {},
   "outputs": [
    {
     "name": "stdout",
     "output_type": "stream",
     "text": [
      "10.6040220653\n",
      "0.144890226211\n"
     ]
    },
    {
     "data": {
      "image/png": "[encoded data removed]",
      "text/plain": [
       "<Figure size 432x288 with 1 Axes>"
      ]
     },
     "metadata": {},
     "output_type": "display_data"
    }
   ],
   "source": [
    "%matplotlib inline\n",
    "import matplotlib.pyplot as plt\n",
    "\n",
    "totalTimePerDay = allProviders.totalNonClinicalTimePerDay.mean() +  allProviders.totalClincalNonPreventionTimePerDay.mean() + allProviders.timeAvailableForPreventionPerDay.mean()\n",
    "print totalTimePerDay\n",
    "\n",
    "plt.pie([allProviders.totalNonClinicalTimePerDay.mean(), allProviders.totalClincalNonPreventionTimePerDay.mean(), \n",
    "        allProviders.timeAvailableForPreventionPerDay.mean()], \n",
    "        labels=['Non Clinical Time', 'Clinical, not prevention', 'Clinical, Prevention'], explode = [0,0,.3])\n",
    "\n",
    "timeAvailableForPreventionArea = 3.141592653589 * allProviders.timeAvailableForPreventionPerDay.mean()/totalTimePerDay\n",
    "print timeAvailableForPreventionArea"
   ]
  },
  {
   "cell_type": "code",
   "execution_count": 107,
   "metadata": {},
   "outputs": [
    {
     "ename": "SyntaxError",
     "evalue": "invalid syntax (<ipython-input-107-cb8a7ff97ed6>, line 2)",
     "output_type": "error",
     "traceback": [
      "\u001b[0;36m  File \u001b[0;32m\"<ipython-input-107-cb8a7ff97ed6>\"\u001b[0;36m, line \u001b[0;32m2\u001b[0m\n\u001b[0;31m    levelsWithSDM.loc[(1:400,'A'),]\u001b[0m\n\u001b[0m                        ^\u001b[0m\n\u001b[0;31mSyntaxError\u001b[0m\u001b[0;31m:\u001b[0m invalid syntax\n"
     ]
    }
   ],
   "source": [
    "levelsWithSDM = lastYearAllScreening.groupby([\"providerID\", \"grade\"])['timeWithSDM'].sum()\n",
    "levelsWithSDM.loc[(1:400,'A'),]"
   ]
  },
  {
   "cell_type": "raw",
   "metadata": {},
   "source": [
    "areaOfOuterCircle = timeAvailableForPreventionArea * meanTimeForCompleteScreeningPlusSDM / allProviders.timeAvailableForPreventionPerDay.mean()\n",
    "radiusOfOuterCircle = np.sqrt(areaOfOuterCircle / 3.141592653589)\n",
    "\n",
    "areaOfInnerCircle = areaOfOuterCircle * (levelAWithoutSDM + levelBWithoutSDM + levelCWithoutSDM) / (levelAWithSDM + levelBWithSDM + levelCWithSDM)\n",
    "radiusOfInnerCircle = np.sqrt(areaOfInnerCircle  / 3.141592653589)\n",
    "\n",
    "\n",
    "fig, ax = plt.subplots()\n",
    "\n",
    "\n",
    "ax.pie([levelAWithSDM, levelBWithSDM, levelCWithSDM], labels=['A', 'B', 'C'] radius=radiusOfOuterCircle)\n",
    "ax.pie([levelAWithoutSDM, levelBWithoutSDM, levelCWithoutSDM], radius=0.7)\n"
   ]
  },
  {
   "cell_type": "code",
   "execution_count": 86,
   "metadata": {},
   "outputs": [
    {
     "data": {
      "text/html": [
       "<div>\n",
       "<style scoped>\n",
       "    .dataframe tbody tr th:only-of-type {\n",
       "        vertical-align: middle;\n",
       "    }\n",
       "\n",
       "    .dataframe tbody tr th {\n",
       "        vertical-align: top;\n",
       "    }\n",
       "\n",
       "    .dataframe thead th {\n",
       "        text-align: right;\n",
       "    }\n",
       "</style>\n",
       "<table border=\"1\" class=\"dataframe\">\n",
       "  <thead>\n",
       "    <tr style=\"text-align: right;\">\n",
       "      <th></th>\n",
       "      <th>Unnamed: 0</th>\n",
       "      <th>Service</th>\n",
       "      <th>grade</th>\n",
       "      <th>localPatientID</th>\n",
       "      <th>screeningIndex</th>\n",
       "      <th>timeSpent</th>\n",
       "      <th>visitDate</th>\n",
       "      <th>providerID</th>\n",
       "      <th>year</th>\n",
       "      <th>timeWithSDM</th>\n",
       "    </tr>\n",
       "  </thead>\n",
       "  <tbody>\n",
       "    <tr>\n",
       "      <th>86316</th>\n",
       "      <td>0</td>\n",
       "      <td>Tobacco Smoking Cessation in Adults: Behaviora...</td>\n",
       "      <td>A</td>\n",
       "      <td>24684</td>\n",
       "      <td>2</td>\n",
       "      <td>3.0</td>\n",
       "      <td>2026-01-05 11:48:24.942288</td>\n",
       "      <td>1</td>\n",
       "      <td>2026</td>\n",
       "      <td>8.2</td>\n",
       "    </tr>\n",
       "    <tr>\n",
       "      <th>86317</th>\n",
       "      <td>1</td>\n",
       "      <td>Syphilis Infection in Nonpregnant Adults and A...</td>\n",
       "      <td>A</td>\n",
       "      <td>24684</td>\n",
       "      <td>3</td>\n",
       "      <td>1.0</td>\n",
       "      <td>2026-01-05 11:48:24.942288</td>\n",
       "      <td>1</td>\n",
       "      <td>2026</td>\n",
       "      <td>6.2</td>\n",
       "    </tr>\n",
       "    <tr>\n",
       "      <th>86318</th>\n",
       "      <td>2</td>\n",
       "      <td>Skin Cancer Prevention: Behavioral Counseling</td>\n",
       "      <td>B</td>\n",
       "      <td>24684</td>\n",
       "      <td>6</td>\n",
       "      <td>1.5</td>\n",
       "      <td>2026-01-05 11:48:24.942288</td>\n",
       "      <td>1</td>\n",
       "      <td>2026</td>\n",
       "      <td>6.7</td>\n",
       "    </tr>\n",
       "    <tr>\n",
       "      <th>86319</th>\n",
       "      <td>3</td>\n",
       "      <td>Sexually Transmitted Infections: Behavioral Co...</td>\n",
       "      <td>B</td>\n",
       "      <td>24684</td>\n",
       "      <td>8</td>\n",
       "      <td>3.0</td>\n",
       "      <td>2026-01-05 11:48:24.942288</td>\n",
       "      <td>1</td>\n",
       "      <td>2026</td>\n",
       "      <td>8.2</td>\n",
       "    </tr>\n",
       "    <tr>\n",
       "      <th>86320</th>\n",
       "      <td>4</td>\n",
       "      <td>Obesity in Adults: Screening and Management</td>\n",
       "      <td>B</td>\n",
       "      <td>24684</td>\n",
       "      <td>14</td>\n",
       "      <td>1.0</td>\n",
       "      <td>2026-01-05 11:48:24.942288</td>\n",
       "      <td>1</td>\n",
       "      <td>2026</td>\n",
       "      <td>6.2</td>\n",
       "    </tr>\n",
       "  </tbody>\n",
       "</table>\n",
       "</div>"
      ],
      "text/plain": [
       "       Unnamed: 0                                            Service grade  \\\n",
       "86316           0  Tobacco Smoking Cessation in Adults: Behaviora...     A   \n",
       "86317           1  Syphilis Infection in Nonpregnant Adults and A...     A   \n",
       "86318           2      Skin Cancer Prevention: Behavioral Counseling     B   \n",
       "86319           3  Sexually Transmitted Infections: Behavioral Co...     B   \n",
       "86320           4        Obesity in Adults: Screening and Management     B   \n",
       "\n",
       "       localPatientID  screeningIndex  timeSpent                  visitDate  \\\n",
       "86316           24684               2        3.0 2026-01-05 11:48:24.942288   \n",
       "86317           24684               3        1.0 2026-01-05 11:48:24.942288   \n",
       "86318           24684               6        1.5 2026-01-05 11:48:24.942288   \n",
       "86319           24684               8        3.0 2026-01-05 11:48:24.942288   \n",
       "86320           24684              14        1.0 2026-01-05 11:48:24.942288   \n",
       "\n",
       "       providerID  year  timeWithSDM  \n",
       "86316           1  2026          8.2  \n",
       "86317           1  2026          6.2  \n",
       "86318           1  2026          6.7  \n",
       "86319           1  2026          8.2  \n",
       "86320           1  2026          6.2  "
      ]
     },
     "execution_count": 86,
     "metadata": {},
     "output_type": "execute_result"
    }
   ],
   "source": [
    "lastYearAllScreening.head()"
   ]
  },
  {
   "cell_type": "code",
   "execution_count": null,
   "metadata": {},
   "outputs": [],
   "source": [
    "g"
   ]
  }
 ],
 "metadata": {
  "kernelspec": {
   "display_name": "Python 2",
   "language": "python",
   "name": "python2"
  },
  "language_info": {
   "codemirror_mode": {
    "name": "ipython",
    "version": 2
   },
   "file_extension": ".py",
   "mimetype": "text/x-python",
   "name": "python",
   "nbconvert_exporter": "python",
   "pygments_lexer": "ipython2",
   "version": "2.7.15"
  }
 },
 "nbformat": 4,
 "nbformat_minor": 2
}
