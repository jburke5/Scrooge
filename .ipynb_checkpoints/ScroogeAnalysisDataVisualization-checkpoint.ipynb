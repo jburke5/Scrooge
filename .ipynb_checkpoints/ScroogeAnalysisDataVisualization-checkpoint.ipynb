{
 "cells": [
  {
   "cell_type": "code",
   "execution_count": 13,
   "metadata": {
    "collapsed": false
   },
   "outputs": [],
   "source": [
    "import pandas as pd\n",
    "import numpy as np\n",
    "import os\n",
    "\n",
    "os.chdir(\"/Users/burke/Documents/research/scrooge\")\n",
    "\n",
    "oneDocscreeningServices = pd.read_excel(\"SingleProvider10YearLifetimeScreeningServices.xlsx\")\n",
    "oneDocscreeningServices['year'] = oneDocscreeningServices.visitDate.dt.year\n",
    "\n",
    "oneDocPanel = pd.read_excel(\"SingleProvider10YearPanel.xlsx\")\n",
    "oneDocVisits = pd.read_excel(\"SingleProvider10YearLifetimeVisits.xlsx\")\n",
    "oneDocVisits['year'] = oneDocVisits.visitDate.dt.year\n",
    "\n",
    "lastYearScreening = oneDocscreeningServices[oneDocscreeningServices.year==2026]\n",
    "learYearVisits = oneDocVisits[oneDocVisits.year==2026]"
   ]
  },
  {
   "cell_type": "code",
   "execution_count": 17,
   "metadata": {
    "collapsed": false
   },
   "outputs": [
    {
     "data": {
      "text/plain": [
       "2018    4140\n",
       "2019    3430\n",
       "2020    3149\n",
       "2021    3028\n",
       "2022    2904\n",
       "2024    2837\n",
       "2023    2829\n",
       "2026    2640\n",
       "2025    2626\n",
       "2027    2540\n",
       "Name: year, dtype: int64"
      ]
     },
     "execution_count": 17,
     "metadata": {},
     "output_type": "execute_result"
    }
   ],
   "source": [
    "oneDocVisits.year.value_counts()"
   ]
  },
  {
   "cell_type": "code",
   "execution_count": 19,
   "metadata": {
    "collapsed": false
   },
   "outputs": [
    {
     "data": {
      "text/plain": [
       "1267"
      ]
     },
     "execution_count": 19,
     "metadata": {},
     "output_type": "execute_result"
    }
   ],
   "source": [
    "len(oneDocPanel)"
   ]
  },
  {
   "cell_type": "code",
   "execution_count": 23,
   "metadata": {
    "collapsed": false
   },
   "outputs": [],
   "source": [
    "import datetime\n",
    "import numpy.random as random\n",
    "startOfYearTime = datetime.datetime.strptime(\"1/1/2018\" , \"%m/%d/%Y\")\n",
    "endOfYearTIme = datetime.datetime.strptime(\"12/31/2018\" , \"%m/%d/%Y\")\n",
    "\n",
    "timesForVisits = sorted([startOfYearTime + datetime.timedelta(days=(random.rand() * (endOfYearTIme-startOfYearTime).total_seconds() / 86400)) for i in range(0,100)  ])\n",
    "\n",
    "\n"
   ]
  },
  {
   "cell_type": "code",
   "execution_count": 24,
   "metadata": {
    "collapsed": false
   },
   "outputs": [
    {
     "data": {
      "text/plain": [
       "[datetime.datetime(2018, 5, 8, 3, 10, 13, 29190),\n",
       " datetime.datetime(2018, 6, 19, 6, 25, 31, 388577),\n",
       " datetime.datetime(2018, 5, 28, 12, 35, 41, 946785),\n",
       " datetime.datetime(2018, 1, 16, 4, 58, 24, 149894),\n",
       " datetime.datetime(2018, 1, 4, 6, 44, 15, 753451),\n",
       " datetime.datetime(2018, 11, 6, 6, 3, 29, 301104),\n",
       " datetime.datetime(2018, 1, 5, 22, 45, 41, 91338),\n",
       " datetime.datetime(2018, 9, 7, 3, 45, 49, 237083),\n",
       " datetime.datetime(2018, 12, 14, 1, 21, 45, 691846),\n",
       " datetime.datetime(2018, 5, 11, 7, 57, 53, 418451),\n",
       " datetime.datetime(2018, 1, 8, 2, 8, 58, 314828),\n",
       " datetime.datetime(2018, 11, 18, 13, 28, 37, 940352),\n",
       " datetime.datetime(2018, 1, 14, 12, 57, 23, 816954),\n",
       " datetime.datetime(2018, 11, 25, 22, 51, 24, 305991),\n",
       " datetime.datetime(2018, 10, 21, 11, 51, 14, 30689),\n",
       " datetime.datetime(2018, 8, 11, 7, 7, 17, 785561),\n",
       " datetime.datetime(2018, 9, 9, 17, 49, 16, 447916),\n",
       " datetime.datetime(2018, 9, 16, 10, 20, 50, 432946),\n",
       " datetime.datetime(2018, 9, 22, 18, 21, 0, 415506),\n",
       " datetime.datetime(2018, 3, 9, 18, 32, 55, 167408),\n",
       " datetime.datetime(2018, 11, 1, 2, 18, 34, 358821),\n",
       " datetime.datetime(2018, 10, 4, 16, 33, 14, 640074),\n",
       " datetime.datetime(2018, 10, 12, 3, 16, 21, 679004),\n",
       " datetime.datetime(2018, 3, 11, 2, 55, 39, 467112),\n",
       " datetime.datetime(2018, 4, 17, 21, 0, 44, 842782),\n",
       " datetime.datetime(2018, 4, 6, 4, 44, 36, 377188),\n",
       " datetime.datetime(2018, 3, 10, 7, 35, 50, 497485),\n",
       " datetime.datetime(2018, 2, 26, 19, 49, 47, 505778),\n",
       " datetime.datetime(2018, 12, 18, 16, 24, 30, 640100),\n",
       " datetime.datetime(2018, 10, 10, 1, 30, 24, 409741),\n",
       " datetime.datetime(2018, 2, 1, 4, 56, 56, 279537),\n",
       " datetime.datetime(2018, 2, 27, 14, 38, 42, 247872),\n",
       " datetime.datetime(2018, 1, 31, 11, 3, 53, 548382),\n",
       " datetime.datetime(2018, 5, 9, 10, 2, 52, 503598),\n",
       " datetime.datetime(2018, 8, 5, 19, 42, 52, 451483),\n",
       " datetime.datetime(2018, 8, 18, 2, 44, 23, 972648),\n",
       " datetime.datetime(2018, 12, 26, 2, 53, 24, 453108),\n",
       " datetime.datetime(2018, 11, 18, 14, 52, 42, 144702),\n",
       " datetime.datetime(2018, 11, 16, 0, 47, 34, 367198),\n",
       " datetime.datetime(2018, 5, 15, 5, 6, 53, 485468),\n",
       " datetime.datetime(2018, 5, 25, 13, 20, 8, 790041),\n",
       " datetime.datetime(2018, 6, 24, 3, 16, 5, 548558),\n",
       " datetime.datetime(2018, 2, 22, 18, 52, 35, 143612),\n",
       " datetime.datetime(2018, 9, 11, 4, 29, 28, 475062),\n",
       " datetime.datetime(2018, 11, 11, 13, 34, 59, 116244),\n",
       " datetime.datetime(2018, 4, 26, 6, 2, 2, 527925),\n",
       " datetime.datetime(2018, 4, 17, 22, 51, 20, 963690),\n",
       " datetime.datetime(2018, 4, 11, 0, 17, 10, 402434),\n",
       " datetime.datetime(2018, 10, 19, 7, 34, 20, 689441),\n",
       " datetime.datetime(2018, 8, 3, 18, 47, 47, 528902),\n",
       " datetime.datetime(2018, 3, 3, 0, 27, 30, 394947),\n",
       " datetime.datetime(2018, 1, 21, 19, 27, 32, 834931),\n",
       " datetime.datetime(2018, 1, 26, 16, 57, 14, 280393),\n",
       " datetime.datetime(2018, 8, 17, 12, 9, 7, 601061),\n",
       " datetime.datetime(2018, 10, 20, 23, 3, 48, 446071),\n",
       " datetime.datetime(2018, 11, 5, 18, 39, 19, 168981),\n",
       " datetime.datetime(2018, 8, 23, 12, 41, 6, 229523),\n",
       " datetime.datetime(2018, 9, 27, 13, 15, 40, 732855),\n",
       " datetime.datetime(2018, 5, 27, 12, 58, 20, 318586),\n",
       " datetime.datetime(2018, 10, 28, 13, 9, 51, 626361),\n",
       " datetime.datetime(2018, 1, 15, 20, 5, 7, 718580),\n",
       " datetime.datetime(2018, 1, 18, 19, 52, 47, 320097),\n",
       " datetime.datetime(2018, 12, 8, 7, 9, 46, 447883),\n",
       " datetime.datetime(2018, 3, 9, 12, 19, 59, 434396),\n",
       " datetime.datetime(2018, 8, 8, 8, 43, 58, 592913),\n",
       " datetime.datetime(2018, 9, 25, 10, 30, 3, 198713),\n",
       " datetime.datetime(2018, 3, 4, 8, 22, 20, 108751),\n",
       " datetime.datetime(2018, 7, 21, 4, 1, 16, 110467),\n",
       " datetime.datetime(2018, 6, 12, 15, 47, 0, 46576),\n",
       " datetime.datetime(2018, 8, 6, 4, 38, 47, 515471),\n",
       " datetime.datetime(2018, 6, 2, 8, 15, 57, 445882),\n",
       " datetime.datetime(2018, 2, 26, 1, 17, 57, 917497),\n",
       " datetime.datetime(2018, 11, 13, 2, 9, 8, 800587),\n",
       " datetime.datetime(2018, 6, 19, 11, 52, 30, 752399),\n",
       " datetime.datetime(2018, 9, 3, 3, 13, 6, 164428),\n",
       " datetime.datetime(2018, 1, 30, 3, 50, 57, 89285),\n",
       " datetime.datetime(2018, 5, 4, 17, 8, 31, 878929),\n",
       " datetime.datetime(2018, 2, 19, 11, 44, 33, 68943),\n",
       " datetime.datetime(2018, 11, 20, 22, 32, 18, 744644),\n",
       " datetime.datetime(2018, 9, 23, 21, 59, 34, 341617),\n",
       " datetime.datetime(2018, 4, 12, 22, 59, 17, 619272),\n",
       " datetime.datetime(2018, 9, 20, 16, 54, 7, 829923),\n",
       " datetime.datetime(2018, 9, 8, 6, 52, 0, 716590),\n",
       " datetime.datetime(2018, 5, 27, 15, 1, 42, 244914),\n",
       " datetime.datetime(2018, 4, 14, 1, 48, 52, 517623),\n",
       " datetime.datetime(2018, 3, 4, 11, 52, 3, 720928),\n",
       " datetime.datetime(2018, 10, 26, 6, 33, 4, 101672),\n",
       " datetime.datetime(2018, 10, 27, 20, 47, 27, 518059),\n",
       " datetime.datetime(2018, 6, 12, 9, 56, 9, 528101),\n",
       " datetime.datetime(2018, 1, 23, 22, 13, 14, 306332),\n",
       " datetime.datetime(2018, 11, 9, 7, 3, 56, 923598),\n",
       " datetime.datetime(2018, 8, 19, 9, 13, 36, 620122),\n",
       " datetime.datetime(2018, 4, 29, 13, 33, 19, 529192),\n",
       " datetime.datetime(2018, 4, 27, 23, 45, 7, 332418),\n",
       " datetime.datetime(2018, 6, 9, 22, 23, 1, 197411),\n",
       " datetime.datetime(2018, 4, 3, 13, 52, 56, 945514),\n",
       " datetime.datetime(2018, 9, 12, 7, 30, 41, 532279),\n",
       " datetime.datetime(2018, 9, 14, 3, 56, 53, 19953),\n",
       " datetime.datetime(2018, 3, 8, 15, 40, 51, 363562),\n",
       " datetime.datetime(2018, 1, 8, 14, 43, 43, 990084)]"
      ]
     },
     "execution_count": 24,
     "metadata": {},
     "output_type": "execute_result"
    }
   ],
   "source": [
    "timesForVisits"
   ]
  },
  {
   "cell_type": "code",
   "execution_count": null,
   "metadata": {
    "collapsed": true
   },
   "outputs": [],
   "source": []
  }
 ],
 "metadata": {
  "kernelspec": {
   "display_name": "Python 2",
   "language": "python",
   "name": "python2"
  },
  "language_info": {
   "codemirror_mode": {
    "name": "ipython",
    "version": 2
   },
   "file_extension": ".py",
   "mimetype": "text/x-python",
   "name": "python",
   "nbconvert_exporter": "python",
   "pygments_lexer": "ipython2",
   "version": "2.7.14"
  }
 },
 "nbformat": 4,
 "nbformat_minor": 2
}
