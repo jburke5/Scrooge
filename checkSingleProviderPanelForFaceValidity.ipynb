{
 "cells": [
  {
   "cell_type": "markdown",
   "metadata": {},
   "source": [
    "# First, an overview of what a single panel of visits looks like"
   ]
  },
  {
   "cell_type": "code",
   "execution_count": 1,
   "metadata": {},
   "outputs": [],
   "source": [
    "import pandas as pd\n",
    "import numpy as np\n",
    "import os\n",
    "\n",
    "os.chdir(\"/Users/burke/Documents/research/scrooge\")\n",
    "\n",
    "oneDocscreeningServices = pd.read_excel(\"SingleProvider10YearLifetimeScreeningServices.xlsx\")\n",
    "oneDocscreeningServices['year'] = oneDocscreeningServices.visitDate.dt.year\n",
    "oneDocscreeningServices['timeWithSDM'] = oneDocscreeningServices.timeSpent + 5\n",
    "\n",
    "oneDocPanel = pd.read_excel(\"SingleProvider10YearPanel.xlsx\")\n",
    "oneDocVisits = pd.read_excel(\"SingleProvider10YearLifetimeVisits.xlsx\")\n",
    "oneDocVisits['year'] = oneDocVisits.visitDate.dt.year\n",
    "\n",
    "lastYearScreening = oneDocscreeningServices[oneDocscreeningServices.year==2027]\n",
    "lastYearVisits = oneDocVisits[oneDocVisits.year==2027]"
   ]
  },
  {
   "cell_type": "code",
   "execution_count": 2,
   "metadata": {},
   "outputs": [
    {
     "name": "stdout",
     "output_type": "stream",
     "text": [
      "3488\n",
      "11715\n",
      "27640.649999999998\n"
     ]
    }
   ],
   "source": [
    "print len(lastYearVisits)\n",
    "print len(lastYearScreening)\n",
    "print lastYearScreening['timeSpent'].sum()"
   ]
  },
  {
   "cell_type": "code",
   "execution_count": 3,
   "metadata": {},
   "outputs": [
    {
     "data": {
      "text/html": [
       "<div>\n",
       "<style scoped>\n",
       "    .dataframe tbody tr th:only-of-type {\n",
       "        vertical-align: middle;\n",
       "    }\n",
       "\n",
       "    .dataframe tbody tr th {\n",
       "        vertical-align: top;\n",
       "    }\n",
       "\n",
       "    .dataframe thead th {\n",
       "        text-align: right;\n",
       "    }\n",
       "</style>\n",
       "<table border=\"1\" class=\"dataframe\">\n",
       "  <thead>\n",
       "    <tr style=\"text-align: right;\">\n",
       "      <th></th>\n",
       "      <th>Service</th>\n",
       "      <th>grade</th>\n",
       "      <th>localPatientID</th>\n",
       "      <th>screeningIndex</th>\n",
       "      <th>timeSpent</th>\n",
       "      <th>visitDate</th>\n",
       "      <th>visitID</th>\n",
       "      <th>year</th>\n",
       "      <th>timeWithSDM</th>\n",
       "    </tr>\n",
       "  </thead>\n",
       "  <tbody>\n",
       "    <tr>\n",
       "      <th>0</th>\n",
       "      <td>Osteoporosis to Prevent Fractures: Screening —...</td>\n",
       "      <td>B</td>\n",
       "      <td>6252</td>\n",
       "      <td>11</td>\n",
       "      <td>1.0</td>\n",
       "      <td>2027-01-01 10:20:44.726</td>\n",
       "      <td>30834</td>\n",
       "      <td>2027</td>\n",
       "      <td>6.0</td>\n",
       "    </tr>\n",
       "    <tr>\n",
       "      <th>1</th>\n",
       "      <td>Depression in Adults: Screening</td>\n",
       "      <td>B</td>\n",
       "      <td>6252</td>\n",
       "      <td>30</td>\n",
       "      <td>0.5</td>\n",
       "      <td>2027-01-01 10:20:44.726</td>\n",
       "      <td>30834</td>\n",
       "      <td>2027</td>\n",
       "      <td>5.5</td>\n",
       "    </tr>\n",
       "    <tr>\n",
       "      <th>2</th>\n",
       "      <td>Skin Cancer Prevention: Behavioral Counseling</td>\n",
       "      <td>C</td>\n",
       "      <td>20201</td>\n",
       "      <td>7</td>\n",
       "      <td>1.5</td>\n",
       "      <td>2027-01-08 02:40:03.395</td>\n",
       "      <td>30838</td>\n",
       "      <td>2027</td>\n",
       "      <td>6.5</td>\n",
       "    </tr>\n",
       "    <tr>\n",
       "      <th>3</th>\n",
       "      <td>Osteoporosis to Prevent Fractures: Screening —...</td>\n",
       "      <td>B</td>\n",
       "      <td>20201</td>\n",
       "      <td>12</td>\n",
       "      <td>1.0</td>\n",
       "      <td>2027-01-08 02:40:03.395</td>\n",
       "      <td>30838</td>\n",
       "      <td>2027</td>\n",
       "      <td>6.0</td>\n",
       "    </tr>\n",
       "    <tr>\n",
       "      <th>4</th>\n",
       "      <td>Obesity in Adults: Screening and Management</td>\n",
       "      <td>B</td>\n",
       "      <td>20201</td>\n",
       "      <td>13</td>\n",
       "      <td>1.0</td>\n",
       "      <td>2027-01-08 02:40:03.395</td>\n",
       "      <td>30838</td>\n",
       "      <td>2027</td>\n",
       "      <td>6.0</td>\n",
       "    </tr>\n",
       "  </tbody>\n",
       "</table>\n",
       "</div>"
      ],
      "text/plain": [
       "                                             Service grade  localPatientID  \\\n",
       "0  Osteoporosis to Prevent Fractures: Screening —...     B            6252   \n",
       "1                    Depression in Adults: Screening     B            6252   \n",
       "2      Skin Cancer Prevention: Behavioral Counseling     C           20201   \n",
       "3  Osteoporosis to Prevent Fractures: Screening —...     B           20201   \n",
       "4        Obesity in Adults: Screening and Management     B           20201   \n",
       "\n",
       "   screeningIndex  timeSpent               visitDate  visitID  year  \\\n",
       "0              11        1.0 2027-01-01 10:20:44.726    30834  2027   \n",
       "1              30        0.5 2027-01-01 10:20:44.726    30834  2027   \n",
       "2               7        1.5 2027-01-08 02:40:03.395    30838  2027   \n",
       "3              12        1.0 2027-01-08 02:40:03.395    30838  2027   \n",
       "4              13        1.0 2027-01-08 02:40:03.395    30838  2027   \n",
       "\n",
       "   timeWithSDM  \n",
       "0          6.0  \n",
       "1          5.5  \n",
       "2          6.5  \n",
       "3          6.0  \n",
       "4          6.0  "
      ]
     },
     "execution_count": 3,
     "metadata": {},
     "output_type": "execute_result"
    }
   ],
   "source": [
    "lastYearScreening.head(5)"
   ]
  },
  {
   "cell_type": "markdown",
   "metadata": {},
   "source": [
    "## Table 1 — Summary of Screening Services with and without SDM (Need some 95% CIs)"
   ]
  },
  {
   "cell_type": "code",
   "execution_count": 5,
   "metadata": {},
   "outputs": [
    {
     "data": {
      "text/html": [
       "<style  type=\"text/css\" >\n",
       "</style>  \n",
       "<table id=\"T_3f06c417_d6f9_11e8_adae_f218981efa40\" > \n",
       "<thead>    <tr> \n",
       "        <th class=\"blank level0\" ></th> \n",
       "        <th class=\"col_heading level0 col0\" >timeWithSDM</th> \n",
       "        <th class=\"col_heading level0 col1\" >timeSpent</th> \n",
       "    </tr>    <tr> \n",
       "        <th class=\"index_name level0\" >Service</th> \n",
       "        <th class=\"blank\" ></th> \n",
       "        <th class=\"blank\" ></th> \n",
       "    </tr></thead> \n",
       "<tbody>    <tr> \n",
       "        <th id=\"T_3f06c417_d6f9_11e8_adae_f218981efa40level0_row0\" class=\"row_heading level0 row0\" >Healthful Diet and Physical Activity for Cardiovascular Disease Prevention in Adults Without Known Risk Factors: Behavioral Counseling</th> \n",
       "        <td id=\"T_3f06c417_d6f9_11e8_adae_f218981efa40row0_col0\" class=\"data row0 col0\" >192.64</td> \n",
       "        <td id=\"T_3f06c417_d6f9_11e8_adae_f218981efa40row0_col1\" class=\"data row0 col1\" >136.64</td> \n",
       "    </tr>    <tr> \n",
       "        <th id=\"T_3f06c417_d6f9_11e8_adae_f218981efa40level0_row1\" class=\"row_heading level0 row1\" >Healthful Diet and Physical Activity for Cardiovascular Disease Prevention in Adults With Cardiovascular Risk Factors: Behavioral Counseling</th> \n",
       "        <td id=\"T_3f06c417_d6f9_11e8_adae_f218981efa40row1_col0\" class=\"data row1 col0\" >189.20</td> \n",
       "        <td id=\"T_3f06c417_d6f9_11e8_adae_f218981efa40row1_col1\" class=\"data row1 col1\" >134.20</td> \n",
       "    </tr>    <tr> \n",
       "        <th id=\"T_3f06c417_d6f9_11e8_adae_f218981efa40level0_row2\" class=\"row_heading level0 row2\" >Alcohol Misuse: Screening and Behavioral Counseling Interventions in Primary Care</th> \n",
       "        <td id=\"T_3f06c417_d6f9_11e8_adae_f218981efa40row2_col0\" class=\"data row2 col0\" >70.17</td> \n",
       "        <td id=\"T_3f06c417_d6f9_11e8_adae_f218981efa40row2_col1\" class=\"data row2 col1\" >35.08</td> \n",
       "    </tr>    <tr> \n",
       "        <th id=\"T_3f06c417_d6f9_11e8_adae_f218981efa40level0_row3\" class=\"row_heading level0 row3\" >Skin Cancer Prevention: Behavioral Counseling</th> \n",
       "        <td id=\"T_3f06c417_d6f9_11e8_adae_f218981efa40row3_col0\" class=\"data row3 col0\" >101.62</td> \n",
       "        <td id=\"T_3f06c417_d6f9_11e8_adae_f218981efa40row3_col1\" class=\"data row3 col1\" >23.45</td> \n",
       "    </tr>    <tr> \n",
       "        <th id=\"T_3f06c417_d6f9_11e8_adae_f218981efa40level0_row4\" class=\"row_heading level0 row4\" >Tobacco Smoking Cessation in Adults: Behavioral and Pharmacotherapy Interventions</th> \n",
       "        <td id=\"T_3f06c417_d6f9_11e8_adae_f218981efa40row4_col0\" class=\"data row4 col0\" >32.13</td> \n",
       "        <td id=\"T_3f06c417_d6f9_11e8_adae_f218981efa40row4_col1\" class=\"data row4 col1\" >12.05</td> \n",
       "    </tr>    <tr> \n",
       "        <th id=\"T_3f06c417_d6f9_11e8_adae_f218981efa40level0_row5\" class=\"row_heading level0 row5\" >Influenza</th> \n",
       "        <td id=\"T_3f06c417_d6f9_11e8_adae_f218981efa40row5_col0\" class=\"data row5 col0\" >121.28</td> \n",
       "        <td id=\"T_3f06c417_d6f9_11e8_adae_f218981efa40row5_col1\" class=\"data row5 col1\" >11.03</td> \n",
       "    </tr>    <tr> \n",
       "        <th id=\"T_3f06c417_d6f9_11e8_adae_f218981efa40level0_row6\" class=\"row_heading level0 row6\" >Obesity in Adults: Screening and Management</th> \n",
       "        <td id=\"T_3f06c417_d6f9_11e8_adae_f218981efa40row6_col0\" class=\"data row6 col0\" >64.80</td> \n",
       "        <td id=\"T_3f06c417_d6f9_11e8_adae_f218981efa40row6_col1\" class=\"data row6 col1\" >10.80</td> \n",
       "    </tr>    <tr> \n",
       "        <th id=\"T_3f06c417_d6f9_11e8_adae_f218981efa40level0_row7\" class=\"row_heading level0 row7\" >Statin Use for the Primary Prevention of Cardiovascular Disease in Adults: Preventive Medication</th> \n",
       "        <td id=\"T_3f06c417_d6f9_11e8_adae_f218981efa40row7_col0\" class=\"data row7 col0\" >25.00</td> \n",
       "        <td id=\"T_3f06c417_d6f9_11e8_adae_f218981efa40row7_col1\" class=\"data row7 col1\" >8.33</td> \n",
       "    </tr>    <tr> \n",
       "        <th id=\"T_3f06c417_d6f9_11e8_adae_f218981efa40level0_row8\" class=\"row_heading level0 row8\" >Human Immunodeficiency Virus (HIV) Infection: Screening One Time</th> \n",
       "        <td id=\"T_3f06c417_d6f9_11e8_adae_f218981efa40row8_col0\" class=\"data row8 col0\" >45.80</td> \n",
       "        <td id=\"T_3f06c417_d6f9_11e8_adae_f218981efa40row8_col1\" class=\"data row8 col1\" >7.63</td> \n",
       "    </tr>    <tr> \n",
       "        <th id=\"T_3f06c417_d6f9_11e8_adae_f218981efa40level0_row9\" class=\"row_heading level0 row9\" >High Blood Pressure in Adults: Screening</th> \n",
       "        <td id=\"T_3f06c417_d6f9_11e8_adae_f218981efa40row9_col0\" class=\"data row9 col0\" >115.76</td> \n",
       "        <td id=\"T_3f06c417_d6f9_11e8_adae_f218981efa40row9_col1\" class=\"data row9 col1\" >5.51</td> \n",
       "    </tr>    <tr> \n",
       "        <th id=\"T_3f06c417_d6f9_11e8_adae_f218981efa40level0_row10\" class=\"row_heading level0 row10\" >Abnormal Blood Glucose and Type 2 Diabetes Mellitus: Screening</th> \n",
       "        <td id=\"T_3f06c417_d6f9_11e8_adae_f218981efa40row10_col0\" class=\"data row10 col0\" >32.90</td> \n",
       "        <td id=\"T_3f06c417_d6f9_11e8_adae_f218981efa40row10_col1\" class=\"data row10 col1\" >5.48</td> \n",
       "    </tr>    <tr> \n",
       "        <th id=\"T_3f06c417_d6f9_11e8_adae_f218981efa40level0_row11\" class=\"row_heading level0 row11\" >Depression in Adults: Screening</th> \n",
       "        <td id=\"T_3f06c417_d6f9_11e8_adae_f218981efa40row11_col0\" class=\"data row11 col0\" >59.31</td> \n",
       "        <td id=\"T_3f06c417_d6f9_11e8_adae_f218981efa40row11_col1\" class=\"data row11 col1\" >5.39</td> \n",
       "    </tr>    <tr> \n",
       "        <th id=\"T_3f06c417_d6f9_11e8_adae_f218981efa40level0_row12\" class=\"row_heading level0 row12\" >Pneumococcal</th> \n",
       "        <td id=\"T_3f06c417_d6f9_11e8_adae_f218981efa40row12_col0\" class=\"data row12 col0\" >29.80</td> \n",
       "        <td id=\"T_3f06c417_d6f9_11e8_adae_f218981efa40row12_col1\" class=\"data row12 col1\" >4.97</td> \n",
       "    </tr>    <tr> \n",
       "        <th id=\"T_3f06c417_d6f9_11e8_adae_f218981efa40level0_row13\" class=\"row_heading level0 row13\" >Cervical Cancer: Screening</th> \n",
       "        <td id=\"T_3f06c417_d6f9_11e8_adae_f218981efa40row13_col0\" class=\"data row13 col0\" >29.00</td> \n",
       "        <td id=\"T_3f06c417_d6f9_11e8_adae_f218981efa40row13_col1\" class=\"data row13 col1\" >4.83</td> \n",
       "    </tr>    <tr> \n",
       "        <th id=\"T_3f06c417_d6f9_11e8_adae_f218981efa40level0_row14\" class=\"row_heading level0 row14\" >Zoster</th> \n",
       "        <td id=\"T_3f06c417_d6f9_11e8_adae_f218981efa40row14_col0\" class=\"data row14 col0\" >28.70</td> \n",
       "        <td id=\"T_3f06c417_d6f9_11e8_adae_f218981efa40row14_col1\" class=\"data row14 col1\" >4.78</td> \n",
       "    </tr>    <tr> \n",
       "        <th id=\"T_3f06c417_d6f9_11e8_adae_f218981efa40level0_row15\" class=\"row_heading level0 row15\" >Colorectal Cancer: Screening</th> \n",
       "        <td id=\"T_3f06c417_d6f9_11e8_adae_f218981efa40row15_col0\" class=\"data row15 col0\" >28.40</td> \n",
       "        <td id=\"T_3f06c417_d6f9_11e8_adae_f218981efa40row15_col1\" class=\"data row15 col1\" >4.73</td> \n",
       "    </tr>    <tr> \n",
       "        <th id=\"T_3f06c417_d6f9_11e8_adae_f218981efa40level0_row16\" class=\"row_heading level0 row16\" >Tetanus</th> \n",
       "        <td id=\"T_3f06c417_d6f9_11e8_adae_f218981efa40row16_col0\" class=\"data row16 col0\" >51.98</td> \n",
       "        <td id=\"T_3f06c417_d6f9_11e8_adae_f218981efa40row16_col1\" class=\"data row16 col1\" >4.72</td> \n",
       "    </tr>    <tr> \n",
       "        <th id=\"T_3f06c417_d6f9_11e8_adae_f218981efa40level0_row17\" class=\"row_heading level0 row17\" >Breast Cancer: Screening</th> \n",
       "        <td id=\"T_3f06c417_d6f9_11e8_adae_f218981efa40row17_col0\" class=\"data row17 col0\" >27.00</td> \n",
       "        <td id=\"T_3f06c417_d6f9_11e8_adae_f218981efa40row17_col1\" class=\"data row17 col1\" >4.50</td> \n",
       "    </tr>    <tr> \n",
       "        <th id=\"T_3f06c417_d6f9_11e8_adae_f218981efa40level0_row18\" class=\"row_heading level0 row18\" >Hepatitis C: Screening</th> \n",
       "        <td id=\"T_3f06c417_d6f9_11e8_adae_f218981efa40row18_col0\" class=\"data row18 col0\" >22.30</td> \n",
       "        <td id=\"T_3f06c417_d6f9_11e8_adae_f218981efa40row18_col1\" class=\"data row18 col1\" >3.72</td> \n",
       "    </tr>    <tr> \n",
       "        <th id=\"T_3f06c417_d6f9_11e8_adae_f218981efa40level0_row19\" class=\"row_heading level0 row19\" >Varicella</th> \n",
       "        <td id=\"T_3f06c417_d6f9_11e8_adae_f218981efa40row19_col0\" class=\"data row19 col0\" >20.10</td> \n",
       "        <td id=\"T_3f06c417_d6f9_11e8_adae_f218981efa40row19_col1\" class=\"data row19 col1\" >3.35</td> \n",
       "    </tr>    <tr> \n",
       "        <th id=\"T_3f06c417_d6f9_11e8_adae_f218981efa40level0_row20\" class=\"row_heading level0 row20\" >Sexually Transmitted Infections: Behavioral Counseling - women under 25</th> \n",
       "        <td id=\"T_3f06c417_d6f9_11e8_adae_f218981efa40row20_col0\" class=\"data row20 col0\" >8.27</td> \n",
       "        <td id=\"T_3f06c417_d6f9_11e8_adae_f218981efa40row20_col1\" class=\"data row20 col1\" >3.10</td> \n",
       "    </tr>    <tr> \n",
       "        <th id=\"T_3f06c417_d6f9_11e8_adae_f218981efa40level0_row21\" class=\"row_heading level0 row21\" >Chlamydia and Gonorrhea: Screening -- older women at high risk</th> \n",
       "        <td id=\"T_3f06c417_d6f9_11e8_adae_f218981efa40row21_col0\" class=\"data row21 col0\" >17.10</td> \n",
       "        <td id=\"T_3f06c417_d6f9_11e8_adae_f218981efa40row21_col1\" class=\"data row21 col1\" >2.85</td> \n",
       "    </tr>    <tr> \n",
       "        <th id=\"T_3f06c417_d6f9_11e8_adae_f218981efa40level0_row22\" class=\"row_heading level0 row22\" >Hep A and Hep B</th> \n",
       "        <td id=\"T_3f06c417_d6f9_11e8_adae_f218981efa40row22_col0\" class=\"data row22 col0\" >10.18</td> \n",
       "        <td id=\"T_3f06c417_d6f9_11e8_adae_f218981efa40row22_col1\" class=\"data row22 col1\" >2.35</td> \n",
       "    </tr>    <tr> \n",
       "        <th id=\"T_3f06c417_d6f9_11e8_adae_f218981efa40level0_row23\" class=\"row_heading level0 row23\" >Falls Prevention in Community-Dwelling Older Adults: Interventions for high risk</th> \n",
       "        <td id=\"T_3f06c417_d6f9_11e8_adae_f218981efa40row23_col0\" class=\"data row23 col0\" >9.97</td> \n",
       "        <td id=\"T_3f06c417_d6f9_11e8_adae_f218981efa40row23_col1\" class=\"data row23 col1\" >2.30</td> \n",
       "    </tr>    <tr> \n",
       "        <th id=\"T_3f06c417_d6f9_11e8_adae_f218981efa40level0_row24\" class=\"row_heading level0 row24\" >Latent Tuberculosis Infection: Screening Under 65</th> \n",
       "        <td id=\"T_3f06c417_d6f9_11e8_adae_f218981efa40row24_col0\" class=\"data row24 col0\" >13.10</td> \n",
       "        <td id=\"T_3f06c417_d6f9_11e8_adae_f218981efa40row24_col1\" class=\"data row24 col1\" >2.18</td> \n",
       "    </tr>    <tr> \n",
       "        <th id=\"T_3f06c417_d6f9_11e8_adae_f218981efa40level0_row25\" class=\"row_heading level0 row25\" >Prostate Cancer Screening</th> \n",
       "        <td id=\"T_3f06c417_d6f9_11e8_adae_f218981efa40row25_col0\" class=\"data row25 col0\" >12.20</td> \n",
       "        <td id=\"T_3f06c417_d6f9_11e8_adae_f218981efa40row25_col1\" class=\"data row25 col1\" >2.03</td> \n",
       "    </tr>    <tr> \n",
       "        <th id=\"T_3f06c417_d6f9_11e8_adae_f218981efa40level0_row26\" class=\"row_heading level0 row26\" >Sexually Transmitted Infections: Behavioral Counseling - high risk</th> \n",
       "        <td id=\"T_3f06c417_d6f9_11e8_adae_f218981efa40row26_col0\" class=\"data row26 col0\" >5.07</td> \n",
       "        <td id=\"T_3f06c417_d6f9_11e8_adae_f218981efa40row26_col1\" class=\"data row26 col1\" >1.90</td> \n",
       "    </tr>    <tr> \n",
       "        <th id=\"T_3f06c417_d6f9_11e8_adae_f218981efa40level0_row27\" class=\"row_heading level0 row27\" >Intimate Partner Violence: Screening</th> \n",
       "        <td id=\"T_3f06c417_d6f9_11e8_adae_f218981efa40row27_col0\" class=\"data row27 col0\" >9.50</td> \n",
       "        <td id=\"T_3f06c417_d6f9_11e8_adae_f218981efa40row27_col1\" class=\"data row27 col1\" >1.58</td> \n",
       "    </tr>    <tr> \n",
       "        <th id=\"T_3f06c417_d6f9_11e8_adae_f218981efa40level0_row28\" class=\"row_heading level0 row28\" >Osteoporosis to Prevent Fractures: Screening — Women over 65</th> \n",
       "        <td id=\"T_3f06c417_d6f9_11e8_adae_f218981efa40row28_col0\" class=\"data row28 col0\" >8.30</td> \n",
       "        <td id=\"T_3f06c417_d6f9_11e8_adae_f218981efa40row28_col1\" class=\"data row28 col1\" >1.38</td> \n",
       "    </tr>    <tr> \n",
       "        <th id=\"T_3f06c417_d6f9_11e8_adae_f218981efa40level0_row29\" class=\"row_heading level0 row29\" >Hepatitis B Virus Infection: Screening</th> \n",
       "        <td id=\"T_3f06c417_d6f9_11e8_adae_f218981efa40row29_col0\" class=\"data row29 col0\" >8.20</td> \n",
       "        <td id=\"T_3f06c417_d6f9_11e8_adae_f218981efa40row29_col1\" class=\"data row29 col1\" >1.37</td> \n",
       "    </tr>    <tr> \n",
       "        <th id=\"T_3f06c417_d6f9_11e8_adae_f218981efa40level0_row30\" class=\"row_heading level0 row30\" >Aspirin Use to Prevent Cardiovascular Disease and Colorectal Cancer: Preventive Medication</th> \n",
       "        <td id=\"T_3f06c417_d6f9_11e8_adae_f218981efa40row30_col0\" class=\"data row30 col0\" >5.42</td> \n",
       "        <td id=\"T_3f06c417_d6f9_11e8_adae_f218981efa40row30_col1\" class=\"data row30 col1\" >1.25</td> \n",
       "    </tr>    <tr> \n",
       "        <th id=\"T_3f06c417_d6f9_11e8_adae_f218981efa40level0_row31\" class=\"row_heading level0 row31\" >Osteoporosis to Prevent Fractures: Screening — Women Under 65</th> \n",
       "        <td id=\"T_3f06c417_d6f9_11e8_adae_f218981efa40row31_col0\" class=\"data row31 col0\" >7.10</td> \n",
       "        <td id=\"T_3f06c417_d6f9_11e8_adae_f218981efa40row31_col1\" class=\"data row31 col1\" >1.18</td> \n",
       "    </tr>    <tr> \n",
       "        <th id=\"T_3f06c417_d6f9_11e8_adae_f218981efa40level0_row32\" class=\"row_heading level0 row32\" >BRCA-Related Cancer: Risk Assessment, Genetic Counseling, and Genetic Testing</th> \n",
       "        <td id=\"T_3f06c417_d6f9_11e8_adae_f218981efa40row32_col0\" class=\"data row32 col0\" >5.90</td> \n",
       "        <td id=\"T_3f06c417_d6f9_11e8_adae_f218981efa40row32_col1\" class=\"data row32 col1\" >0.98</td> \n",
       "    </tr>    <tr> \n",
       "        <th id=\"T_3f06c417_d6f9_11e8_adae_f218981efa40level0_row33\" class=\"row_heading level0 row33\" >Chlamydia and Gonorrhea: Screening -- women under 24</th> \n",
       "        <td id=\"T_3f06c417_d6f9_11e8_adae_f218981efa40row33_col0\" class=\"data row33 col0\" >4.90</td> \n",
       "        <td id=\"T_3f06c417_d6f9_11e8_adae_f218981efa40row33_col1\" class=\"data row33 col1\" >0.82</td> \n",
       "    </tr>    <tr> \n",
       "        <th id=\"T_3f06c417_d6f9_11e8_adae_f218981efa40level0_row34\" class=\"row_heading level0 row34\" >Lung Cancer: Screening(55-64)</th> \n",
       "        <td id=\"T_3f06c417_d6f9_11e8_adae_f218981efa40row34_col0\" class=\"data row34 col0\" >4.60</td> \n",
       "        <td id=\"T_3f06c417_d6f9_11e8_adae_f218981efa40row34_col1\" class=\"data row34 col1\" >0.77</td> \n",
       "    </tr>    <tr> \n",
       "        <th id=\"T_3f06c417_d6f9_11e8_adae_f218981efa40level0_row35\" class=\"row_heading level0 row35\" >Breast Cancer: Medications for Risk Reduction</th> \n",
       "        <td id=\"T_3f06c417_d6f9_11e8_adae_f218981efa40row35_col0\" class=\"data row35 col0\" >3.25</td> \n",
       "        <td id=\"T_3f06c417_d6f9_11e8_adae_f218981efa40row35_col1\" class=\"data row35 col1\" >0.75</td> \n",
       "    </tr>    <tr> \n",
       "        <th id=\"T_3f06c417_d6f9_11e8_adae_f218981efa40level0_row36\" class=\"row_heading level0 row36\" >Human Immunodeficiency Virus (HIV) Infection: Screening Annual - high risk</th> \n",
       "        <td id=\"T_3f06c417_d6f9_11e8_adae_f218981efa40row36_col0\" class=\"data row36 col0\" >4.50</td> \n",
       "        <td id=\"T_3f06c417_d6f9_11e8_adae_f218981efa40row36_col1\" class=\"data row36 col1\" >0.75</td> \n",
       "    </tr>    <tr> \n",
       "        <th id=\"T_3f06c417_d6f9_11e8_adae_f218981efa40level0_row37\" class=\"row_heading level0 row37\" >Abdominal Aortic Aneurysm: Screening</th> \n",
       "        <td id=\"T_3f06c417_d6f9_11e8_adae_f218981efa40row37_col0\" class=\"data row37 col0\" >4.40</td> \n",
       "        <td id=\"T_3f06c417_d6f9_11e8_adae_f218981efa40row37_col1\" class=\"data row37 col1\" >0.73</td> \n",
       "    </tr>    <tr> \n",
       "        <th id=\"T_3f06c417_d6f9_11e8_adae_f218981efa40level0_row38\" class=\"row_heading level0 row38\" >Syphilis Infection in Nonpregnant Adults and Adolescents: Screening</th> \n",
       "        <td id=\"T_3f06c417_d6f9_11e8_adae_f218981efa40row38_col0\" class=\"data row38 col0\" >3.70</td> \n",
       "        <td id=\"T_3f06c417_d6f9_11e8_adae_f218981efa40row38_col1\" class=\"data row38 col1\" >0.62</td> \n",
       "    </tr>    <tr> \n",
       "        <th id=\"T_3f06c417_d6f9_11e8_adae_f218981efa40level0_row39\" class=\"row_heading level0 row39\" >Lung Cancer: Screening(65-74)</th> \n",
       "        <td id=\"T_3f06c417_d6f9_11e8_adae_f218981efa40row39_col0\" class=\"data row39 col0\" >2.50</td> \n",
       "        <td id=\"T_3f06c417_d6f9_11e8_adae_f218981efa40row39_col1\" class=\"data row39 col1\" >0.42</td> \n",
       "    </tr>    <tr> \n",
       "        <th id=\"T_3f06c417_d6f9_11e8_adae_f218981efa40level0_row40\" class=\"row_heading level0 row40\" >Lung Cancer: Screening(75-80)</th> \n",
       "        <td id=\"T_3f06c417_d6f9_11e8_adae_f218981efa40row40_col0\" class=\"data row40 col0\" >0.90</td> \n",
       "        <td id=\"T_3f06c417_d6f9_11e8_adae_f218981efa40row40_col1\" class=\"data row40 col1\" >0.15</td> \n",
       "    </tr></tbody> \n",
       "</table> "
      ],
      "text/plain": [
       "<pandas.io.formats.style.Styler at 0x11ee45490>"
      ]
     },
     "execution_count": 5,
     "metadata": {},
     "output_type": "execute_result"
    }
   ],
   "source": [
    "lastYearScreening.groupby(\"Service\").agg({'timeSpent' : lambda x : np.sum(x)/60, 'timeWithSDM' :lambda x : np.sum(x)/60 }).sort_values('timeSpent', ascending=False).style.format(\"{:4.2f}\")"
   ]
  },
  {
   "cell_type": "markdown",
   "metadata": {},
   "source": [
    "## Data Point  2 — Total time on screening services under different conditions\n"
   ]
  },
  {
   "cell_type": "markdown",
   "metadata": {},
   "source": [
    "### Overall Times in Base Case (time in minutes)"
   ]
  },
  {
   "cell_type": "code",
   "execution_count": 7,
   "metadata": {},
   "outputs": [
    {
     "data": {
      "text/plain": [
       "timeWithSDM    86215.65\n",
       "timeSpent      27640.65\n",
       "dtype: float64"
      ]
     },
     "execution_count": 7,
     "metadata": {},
     "output_type": "execute_result"
    }
   ],
   "source": [
    "lastYearScreening.agg({'timeSpent':np.sum, 'timeWithSDM' : np.sum})"
   ]
  },
  {
   "cell_type": "markdown",
   "metadata": {},
   "source": [
    "### Excluding Level C Screening (time in hours)"
   ]
  },
  {
   "cell_type": "code",
   "execution_count": 8,
   "metadata": {},
   "outputs": [
    {
     "data": {
      "text/plain": [
       "timeWithSDM    67324.75\n",
       "timeSpent      17844.75\n",
       "dtype: float64"
      ]
     },
     "execution_count": 8,
     "metadata": {},
     "output_type": "execute_result"
    }
   ],
   "source": [
    "noLevelC = lastYearScreening.loc[lastYearScreening.grade != 'C']\n",
    "noLevelC.agg({'timeSpent':np.sum, 'timeWithSDM' : np.sum})"
   ]
  },
  {
   "cell_type": "markdown",
   "metadata": {},
   "source": [
    "### Excluding Level B Screening\n"
   ]
  },
  {
   "cell_type": "code",
   "execution_count": 9,
   "metadata": {},
   "outputs": [
    {
     "data": {
      "text/plain": [
       "timeWithSDM    15347.75\n",
       "timeSpent       2132.75\n",
       "dtype: float64"
      ]
     },
     "execution_count": 9,
     "metadata": {},
     "output_type": "execute_result"
    }
   ],
   "source": [
    "levelAOnly = lastYearScreening.loc[lastYearScreening.grade == 'A']\n",
    "levelAOnly.agg({'timeSpent':np.sum, 'timeWithSDM' : np.sum})"
   ]
  },
  {
   "cell_type": "markdown",
   "metadata": {},
   "source": [
    "### What services are we talking about for Level A only..."
   ]
  },
  {
   "cell_type": "code",
   "execution_count": 11,
   "metadata": {},
   "outputs": [
    {
     "data": {
      "text/html": [
       "<style  type=\"text/css\" >\n",
       "</style>  \n",
       "<table id=\"T_84103787_d6f9_11e8_933d_f218981efa40\" > \n",
       "<thead>    <tr> \n",
       "        <th class=\"blank level0\" ></th> \n",
       "        <th class=\"col_heading level0 col0\" >timeWithSDM</th> \n",
       "        <th class=\"col_heading level0 col1\" >timeSpent</th> \n",
       "    </tr>    <tr> \n",
       "        <th class=\"index_name level0\" >Service</th> \n",
       "        <th class=\"blank\" ></th> \n",
       "        <th class=\"blank\" ></th> \n",
       "    </tr></thead> \n",
       "<tbody>    <tr> \n",
       "        <th id=\"T_84103787_d6f9_11e8_933d_f218981efa40level0_row0\" class=\"row_heading level0 row0\" >Tobacco Smoking Cessation in Adults: Behavioral and Pharmacotherapy Interventions</th> \n",
       "        <td id=\"T_84103787_d6f9_11e8_933d_f218981efa40row0_col0\" class=\"data row0 col0\" >32.13</td> \n",
       "        <td id=\"T_84103787_d6f9_11e8_933d_f218981efa40row0_col1\" class=\"data row0 col1\" >12.05</td> \n",
       "    </tr>    <tr> \n",
       "        <th id=\"T_84103787_d6f9_11e8_933d_f218981efa40level0_row1\" class=\"row_heading level0 row1\" >Human Immunodeficiency Virus (HIV) Infection: Screening One Time</th> \n",
       "        <td id=\"T_84103787_d6f9_11e8_933d_f218981efa40row1_col0\" class=\"data row1 col0\" >45.80</td> \n",
       "        <td id=\"T_84103787_d6f9_11e8_933d_f218981efa40row1_col1\" class=\"data row1 col1\" >7.63</td> \n",
       "    </tr>    <tr> \n",
       "        <th id=\"T_84103787_d6f9_11e8_933d_f218981efa40level0_row2\" class=\"row_heading level0 row2\" >High Blood Pressure in Adults: Screening</th> \n",
       "        <td id=\"T_84103787_d6f9_11e8_933d_f218981efa40row2_col0\" class=\"data row2 col0\" >115.76</td> \n",
       "        <td id=\"T_84103787_d6f9_11e8_933d_f218981efa40row2_col1\" class=\"data row2 col1\" >5.51</td> \n",
       "    </tr>    <tr> \n",
       "        <th id=\"T_84103787_d6f9_11e8_933d_f218981efa40level0_row3\" class=\"row_heading level0 row3\" >Cervical Cancer: Screening</th> \n",
       "        <td id=\"T_84103787_d6f9_11e8_933d_f218981efa40row3_col0\" class=\"data row3 col0\" >29.00</td> \n",
       "        <td id=\"T_84103787_d6f9_11e8_933d_f218981efa40row3_col1\" class=\"data row3 col1\" >4.83</td> \n",
       "    </tr>    <tr> \n",
       "        <th id=\"T_84103787_d6f9_11e8_933d_f218981efa40level0_row4\" class=\"row_heading level0 row4\" >Colorectal Cancer: Screening</th> \n",
       "        <td id=\"T_84103787_d6f9_11e8_933d_f218981efa40row4_col0\" class=\"data row4 col0\" >24.90</td> \n",
       "        <td id=\"T_84103787_d6f9_11e8_933d_f218981efa40row4_col1\" class=\"data row4 col1\" >4.15</td> \n",
       "    </tr>    <tr> \n",
       "        <th id=\"T_84103787_d6f9_11e8_933d_f218981efa40level0_row5\" class=\"row_heading level0 row5\" >Human Immunodeficiency Virus (HIV) Infection: Screening Annual - high risk</th> \n",
       "        <td id=\"T_84103787_d6f9_11e8_933d_f218981efa40row5_col0\" class=\"data row5 col0\" >4.50</td> \n",
       "        <td id=\"T_84103787_d6f9_11e8_933d_f218981efa40row5_col1\" class=\"data row5 col1\" >0.75</td> \n",
       "    </tr>    <tr> \n",
       "        <th id=\"T_84103787_d6f9_11e8_933d_f218981efa40level0_row6\" class=\"row_heading level0 row6\" >Syphilis Infection in Nonpregnant Adults and Adolescents: Screening</th> \n",
       "        <td id=\"T_84103787_d6f9_11e8_933d_f218981efa40row6_col0\" class=\"data row6 col0\" >3.70</td> \n",
       "        <td id=\"T_84103787_d6f9_11e8_933d_f218981efa40row6_col1\" class=\"data row6 col1\" >0.62</td> \n",
       "    </tr></tbody> \n",
       "</table> "
      ],
      "text/plain": [
       "<pandas.io.formats.style.Styler at 0x11edf56d0>"
      ]
     },
     "execution_count": 11,
     "metadata": {},
     "output_type": "execute_result"
    }
   ],
   "source": [
    "levelAOnly.groupby(\"Service\").agg({'timeSpent' : lambda x : np.sum(x)/60, 'timeWithSDM' :lambda x : np.sum(x)/60 }).sort_values('timeSpent', ascending=False).style.format(\"{:4.2f}\")"
   ]
  },
  {
   "cell_type": "code",
   "execution_count": 12,
   "metadata": {},
   "outputs": [
    {
     "name": "stderr",
     "output_type": "stream",
     "text": [
      "/anaconda2/envs/scroogeAnaconda/lib/python2.7/site-packages/pandas/core/generic.py:4401: SettingWithCopyWarning: \n",
      "A value is trying to be set on a copy of a slice from a DataFrame.\n",
      "Try using .loc[row_indexer,col_indexer] = value instead\n",
      "\n",
      "See the caveats in the documentation: http://pandas.pydata.org/pandas-docs/stable/indexing.html#indexing-view-versus-copy\n",
      "  self[name] = value\n"
     ]
    }
   ],
   "source": [
    "oneDocPanel['localPatientID'] = oneDocPanel.index\n",
    "lastYearScreening.localPatientID = lastYearScreening.localPatientID.astype('int')\n",
    "longFormat = oneDocPanel.merge(lastYearScreening, on='localPatientID', how='left')"
   ]
  },
  {
   "cell_type": "code",
   "execution_count": 13,
   "metadata": {},
   "outputs": [],
   "source": [
    "longFormat['year'] = longFormat.visitDate.apply(lambda x: x.year)\n",
    "longFormat.drop(labels=['WTINT2YR', 'WTMEC2YR', 'sdmvpsu', 'sdmvstra', 'grade', 'visitDate', 'screeningIndex'], axis=1, inplace=True)\n",
    "longFormat.Service.fillna(\"None\", inplace=True)"
   ]
  },
  {
   "cell_type": "code",
   "execution_count": 14,
   "metadata": {},
   "outputs": [
    {
     "data": {
      "text/plain": [
       "<matplotlib.axes._subplots.AxesSubplot at 0x11dc4f990>"
      ]
     },
     "execution_count": 14,
     "metadata": {},
     "output_type": "execute_result"
    },
    {
     "data": {
      "image/png": "[encoded data removed]",
      "text/plain": [
       "<Figure size 432x288 with 1 Axes>"
      ]
     },
     "metadata": {},
     "output_type": "display_data"
    }
   ],
   "source": [
    "% matplotlib inline\n",
    "longFormat.groupby(\"localPatientID\")['Service'].count().hist(bins=50)"
   ]
  },
  {
   "cell_type": "code",
   "execution_count": 15,
   "metadata": {},
   "outputs": [],
   "source": [
    "pivoted = longFormat.pivot_table(index='localPatientID', columns='Service', values='timeSpent')\n",
    "pivoted['countPerRow'] = pivoted.count(axis=1)\n",
    "final = pivoted.merge(oneDocPanel, on='localPatientID', how='left')"
   ]
  },
  {
   "cell_type": "code",
   "execution_count": 16,
   "metadata": {},
   "outputs": [
    {
     "data": {
      "text/plain": [
       "<matplotlib.axes._subplots.AxesSubplot at 0x11da91890>"
      ]
     },
     "execution_count": 16,
     "metadata": {},
     "output_type": "execute_result"
    },
    {
     "data": {
      "image/png": "[encoded data removed]",
      "text/plain": [
       "<Figure size 432x288 with 1 Axes>"
      ]
     },
     "metadata": {},
     "output_type": "display_data"
    }
   ],
   "source": [
    "% matplotlib inline\n",
    "pd.set_option('display.max_columns', None)\n",
    "final.countPerRow.hist()"
   ]
  },
  {
   "cell_type": "code",
   "execution_count": 17,
   "metadata": {},
   "outputs": [
    {
     "data": {
      "text/plain": [
       "1411"
      ]
     },
     "execution_count": 17,
     "metadata": {},
     "output_type": "execute_result"
    }
   ],
   "source": [
    "len(pivoted.loc[pivoted.countPerRow > 0])"
   ]
  },
  {
   "cell_type": "code",
   "execution_count": 18,
   "metadata": {},
   "outputs": [
    {
     "data": {
      "text/plain": [
       "1633"
      ]
     },
     "execution_count": 18,
     "metadata": {},
     "output_type": "execute_result"
    }
   ],
   "source": [
    "% matplotlib inline\n",
    "len(lastYearVisits['localPatientID'].unique())"
   ]
  },
  {
   "cell_type": "markdown",
   "metadata": {},
   "source": [
    "### So...this actually is pretty pluasible, about 350 patients don't have a vsiit in a given year and another 220 don't have a screening service — but looking at those 220, it seems that most of them had a visit in the priotr year LESS than one year before their visit in the current year. THus, they'd already recieved all of the one time services and aren't eligible for any services that would happen within one hear"
   ]
  },
  {
   "cell_type": "code",
   "execution_count": null,
   "metadata": {},
   "outputs": [],
   "source": [
    "\n",
    "providerID = 1\n",
    "providerFields = []\n",
    "allVisits = pd.DataFrame(data=None, columns=Provider.visitColumns.extend(\"ProviderID\"))\n",
    "allScreenings = pd.DataFrame(data=None, columns=Provider.screeningColumns.extend(\"ProviderID\"))\n",
    "\n",
    "\n",
    "for provider in providers:\n",
    "    provider.providerID = providerID\n",
    "    providerFields.append({\"providerID\" : providerID, \"hoursWorked\" : provider.hoursWorkedPerYear, \"proportionClinical\" : provider.proportionClinicalFaceTime, \"panelSize\" : provider.panelSize})\n",
    "    providerID += 1\n",
    "\n",
    "allProviders = pd.DataFrame(providerFields)\n",
    "allProviders.to_csv(\"allProviders.csv\")\n",
    "\n",
    "for provider in providers:\n",
    "    provider.visits['providerID'] = provider.providerID\n",
    "    allVisits = pd.concat([allVisits, provider.visits])\n",
    "allVisits.to_csv(\"allVisits.csv\")\n",
    "\n",
    "for provider in providers:\n",
    "    provider.screeningServices['providerID'] = provider.providerID\n",
    "    provider.screeningServices['Service'] = provider.screeningServices['Service'].str.decode('ascii', 'ignore')\n",
    "\n",
    "    allScreenings = pd.concat([allScreenings, provider.screeningServices])\n",
    "allScreenings.to_csv(\"allScreenings.csv\", encoding = 'utf-8')\n",
    "\n"
   ]
  }
 ],
 "metadata": {
  "kernelspec": {
   "display_name": "Python 2",
   "language": "python",
   "name": "python2"
  },
  "language_info": {
   "codemirror_mode": {
    "name": "ipython",
    "version": 2
   },
   "file_extension": ".py",
   "mimetype": "text/x-python",
   "name": "python",
   "nbconvert_exporter": "python",
   "pygments_lexer": "ipython2",
   "version": "2.7.15"
  }
 },
 "nbformat": 4,
 "nbformat_minor": 2
}
