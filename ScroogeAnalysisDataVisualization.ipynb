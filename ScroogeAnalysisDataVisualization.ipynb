{
 "cells": [
  {
   "cell_type": "code",
   "execution_count": 38,
   "metadata": {
    "collapsed": false
   },
   "outputs": [],
   "source": [
    "import pandas as pd\n",
    "import numpy as np\n",
    "import os\n",
    "\n",
    "os.chdir(\"/Users/burke/Documents/research/scrooge\")\n",
    "\n",
    "oneDocscreeningServices = pd.read_excel(\"SingleProvider10YearLifetimeScreeningServices.xlsx\")\n",
    "oneDocscreeningServices['year'] = oneDocscreeningServices.visitDate.dt.year\n",
    "\n",
    "oneDocPanel = pd.read_excel(\"SingleProvider10YearPanel.xlsx\")\n",
    "oneDocVisits = pd.read_excel(\"SingleProvider10YearLifetimeVisits.xlsx\")\n",
    "oneDocVisits['year'] = oneDocVisits.visitDate.dt.year\n",
    "\n",
    "lastYearScreening = oneDocscreeningServices[oneDocscreeningServices.year==2026]\n",
    "lastYearVisits = oneDocVisits[oneDocVisits.year==2026]"
   ]
  },
  {
   "cell_type": "code",
   "execution_count": 44,
   "metadata": {
    "collapsed": false
   },
   "outputs": [
    {
     "name": "stdout",
     "output_type": "stream",
     "text": [
      "3464\n",
      "7908\n",
      "16650.45\n"
     ]
    }
   ],
   "source": [
    "print len(lastYearVisits)\n",
    "print len(lastYearScreening)\n",
    "print lastYearScreening['timeSpent'].sum()"
   ]
  },
  {
   "cell_type": "code",
   "execution_count": 51,
   "metadata": {
    "collapsed": false
   },
   "outputs": [
    {
     "data": {
      "text/plain": [
       "Service\n",
       "Healthful Diet and Physical Activity for Cardiovascular Disease Prevention in Adults Without Known Risk Factors: Behavioral Counseling          3782.0\n",
       "Healthful Diet and Physical Activity for Cardiovascular Disease Prevention in Adults With Cardiovascular Risk Factors: Behavioral Counseling    3464.8\n",
       "Abnormal Blood Glucose and Type 2 Diabetes Mellitus: Screening                                                                                  2525.4\n",
       "Alcohol Misuse: Screening and Behavioral Counseling Interventions in Primary Care                                                                985.0\n",
       "Skin Cancer Prevention: Behavioral Counseling                                                                                                    660.0\n",
       "Intimate Partner Violence: Screening                                                                                                             591.0\n",
       "Cervical Cancer: Screening                                                                                                                       383.0\n",
       "Colorectal Cancer: Screening                                                                                                                     371.0\n",
       "Human Immunodeficiency Virus (HIV) Infection: Screening One Tie                                                                                  355.0\n",
       "Tobacco Smoking Cessation in Adults: Behavioral and Pharmacotherapy Interventions                                                                312.0\n",
       "Name: timeSpent, dtype: float64"
      ]
     },
     "execution_count": 51,
     "metadata": {},
     "output_type": "execute_result"
    }
   ],
   "source": [
    "lastYearScreening.groupby(\"Service\")['timeSpent'].sum().nlargest(10)"
   ]
  }
 ],
 "metadata": {
  "kernelspec": {
   "display_name": "Python 2",
   "language": "python",
   "name": "python2"
  },
  "language_info": {
   "codemirror_mode": {
    "name": "ipython",
    "version": 2
   },
   "file_extension": ".py",
   "mimetype": "text/x-python",
   "name": "python",
   "nbconvert_exporter": "python",
   "pygments_lexer": "ipython2",
   "version": "2.7.14"
  }
 },
 "nbformat": 4,
 "nbformat_minor": 2
}
