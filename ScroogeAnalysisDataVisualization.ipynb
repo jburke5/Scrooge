{
 "cells": [
  {
   "cell_type": "code",
   "execution_count": 13,
   "metadata": {
    "collapsed": false
   },
   "outputs": [],
   "source": [
    "import pandas as pd\n",
    "import numpy as np\n",
    "import os\n",
    "\n",
    "os.chdir(\"/Users/burke/Documents/research/scrooge\")\n",
    "\n",
    "oneDocscreeningServices = pd.read_excel(\"SingleProvider10YearLifetimeScreeningServices.xlsx\")\n",
    "oneDocscreeningServices['year'] = oneDocscreeningServices.visitDate.dt.year\n",
    "\n",
    "oneDocPanel = pd.read_excel(\"SingleProvider10YearPanel.xlsx\")\n",
    "oneDocVisits = pd.read_excel(\"SingleProvider10YearLifetimeVisits.xlsx\")\n",
    "oneDocVisits['year'] = oneDocVisits.visitDate.dt.year\n",
    "\n",
    "lastYearScreening = oneDocscreeningServices[oneDocscreeningServices.year==2026]\n",
    "learYearVisits = oneDocVisits[oneDocVisits.year==2026]"
   ]
  },
  {
   "cell_type": "code",
   "execution_count": 17,
   "metadata": {
    "collapsed": false
   },
   "outputs": [
    {
     "data": {
      "text/plain": [
       "2018    4140\n",
       "2019    3430\n",
       "2020    3149\n",
       "2021    3028\n",
       "2022    2904\n",
       "2024    2837\n",
       "2023    2829\n",
       "2026    2640\n",
       "2025    2626\n",
       "2027    2540\n",
       "Name: year, dtype: int64"
      ]
     },
     "execution_count": 17,
     "metadata": {},
     "output_type": "execute_result"
    }
   ],
   "source": [
    "oneDocVisits.year.value_counts()"
   ]
  },
  {
   "cell_type": "code",
   "execution_count": 29,
   "metadata": {
    "collapsed": false
   },
   "outputs": [
    {
     "data": {
      "text/plain": [
       "patientID                                87200\n",
       "gender                                  Female\n",
       "age                                         28\n",
       "raceEth                     Non-Hispanic White\n",
       "WTINT2YR                               68967.6\n",
       "WTMEC2YR                               69107.4\n",
       "sdmvpsu                                      2\n",
       "sdmvstra                                   121\n",
       "bmi                                       20.3\n",
       "selfReportDiabetes                          No\n",
       "smokingStatus                                0\n",
       "selfReportHtn                               No\n",
       "selfReportHyperlipidemia                   Yes\n",
       "probWeight                         0.000290474\n",
       "Name: 60613, dtype: object"
      ]
     },
     "execution_count": 29,
     "metadata": {},
     "output_type": "execute_result"
    }
   ],
   "source": [
    "oneDocPanel.iloc[-1]"
   ]
  },
  {
   "cell_type": "code",
   "execution_count": 27,
   "metadata": {
    "collapsed": false
   },
   "outputs": [],
   "source": [
    "import datetime\n",
    "import numpy.random as random\n",
    "startOfYearTime = datetime.datetime.strptime(\"1/1/2018\" , \"%m/%d/%Y\")\n",
    "endOfYearTIme = datetime.datetime.strptime(\"12/31/2018\" , \"%m/%d/%Y\")\n",
    "\n",
    "timesForVisits = sorted([startOfYearTime + datetime.timedelta(days=(random.rand() * (endOfYearTIme-startOfYearTime).total_seconds() / 86400)) for i in range(0,100)  ], reverse=True)\n",
    "\n",
    "\n"
   ]
  },
  {
   "cell_type": "code",
   "execution_count": 28,
   "metadata": {
    "collapsed": false
   },
   "outputs": [
    {
     "data": {
      "text/plain": [
       "[datetime.datetime(2018, 12, 28, 21, 7, 5, 634003),\n",
       " datetime.datetime(2018, 12, 27, 10, 0, 38, 826918),\n",
       " datetime.datetime(2018, 12, 27, 3, 23, 58, 586421),\n",
       " datetime.datetime(2018, 12, 25, 13, 19, 26, 267524),\n",
       " datetime.datetime(2018, 12, 22, 22, 34, 27, 1723),\n",
       " datetime.datetime(2018, 12, 21, 14, 49, 53, 588199),\n",
       " datetime.datetime(2018, 12, 18, 13, 22, 15, 787457),\n",
       " datetime.datetime(2018, 12, 11, 8, 22, 8, 498946),\n",
       " datetime.datetime(2018, 12, 6, 3, 0, 9, 699914),\n",
       " datetime.datetime(2018, 12, 4, 2, 20, 38, 586712),\n",
       " datetime.datetime(2018, 12, 1, 3, 30, 15, 87607),\n",
       " datetime.datetime(2018, 11, 27, 8, 44, 25, 989028),\n",
       " datetime.datetime(2018, 11, 22, 23, 17, 31, 194442),\n",
       " datetime.datetime(2018, 11, 20, 15, 40, 13, 278447),\n",
       " datetime.datetime(2018, 11, 14, 6, 59, 49, 648637),\n",
       " datetime.datetime(2018, 11, 10, 6, 47, 56, 829450),\n",
       " datetime.datetime(2018, 11, 10, 4, 7, 28, 238419),\n",
       " datetime.datetime(2018, 11, 2, 17, 54, 39, 774541),\n",
       " datetime.datetime(2018, 11, 1, 3, 25, 25, 765741),\n",
       " datetime.datetime(2018, 10, 30, 22, 59, 44, 275649),\n",
       " datetime.datetime(2018, 10, 25, 2, 19, 41, 228263),\n",
       " datetime.datetime(2018, 10, 7, 12, 59, 57, 127133),\n",
       " datetime.datetime(2018, 10, 7, 3, 23, 7, 514183),\n",
       " datetime.datetime(2018, 9, 29, 0, 10, 16, 418728),\n",
       " datetime.datetime(2018, 9, 26, 14, 51, 58, 28045),\n",
       " datetime.datetime(2018, 9, 20, 12, 6, 49, 165082),\n",
       " datetime.datetime(2018, 9, 20, 6, 44, 17, 442090),\n",
       " datetime.datetime(2018, 9, 17, 4, 36, 24, 74784),\n",
       " datetime.datetime(2018, 9, 10, 15, 8, 6, 989522),\n",
       " datetime.datetime(2018, 9, 10, 12, 44, 51, 368029),\n",
       " datetime.datetime(2018, 8, 21, 18, 40, 56, 166769),\n",
       " datetime.datetime(2018, 8, 19, 19, 35, 56, 118359),\n",
       " datetime.datetime(2018, 8, 14, 4, 1, 43, 918616),\n",
       " datetime.datetime(2018, 8, 12, 2, 11, 51, 282456),\n",
       " datetime.datetime(2018, 8, 11, 13, 36, 37, 853044),\n",
       " datetime.datetime(2018, 8, 11, 2, 7, 41, 113348),\n",
       " datetime.datetime(2018, 8, 7, 8, 42, 14, 1357),\n",
       " datetime.datetime(2018, 8, 4, 14, 15, 32, 990307),\n",
       " datetime.datetime(2018, 7, 31, 6, 25, 25, 262158),\n",
       " datetime.datetime(2018, 7, 28, 15, 52, 43, 679113),\n",
       " datetime.datetime(2018, 7, 26, 11, 51, 52, 333720),\n",
       " datetime.datetime(2018, 7, 26, 2, 54, 39, 186588),\n",
       " datetime.datetime(2018, 7, 24, 12, 28, 35, 617482),\n",
       " datetime.datetime(2018, 7, 19, 0, 1, 38, 718729),\n",
       " datetime.datetime(2018, 7, 13, 6, 9, 4, 290520),\n",
       " datetime.datetime(2018, 7, 11, 2, 32, 58, 155553),\n",
       " datetime.datetime(2018, 7, 2, 0, 48, 55, 608811),\n",
       " datetime.datetime(2018, 6, 29, 10, 41, 14, 129690),\n",
       " datetime.datetime(2018, 6, 27, 22, 56, 53, 972712),\n",
       " datetime.datetime(2018, 6, 18, 23, 10, 6, 71820),\n",
       " datetime.datetime(2018, 6, 14, 20, 36, 47, 279401),\n",
       " datetime.datetime(2018, 5, 31, 9, 50, 4, 130498),\n",
       " datetime.datetime(2018, 5, 29, 5, 26, 5, 56538),\n",
       " datetime.datetime(2018, 5, 28, 14, 18, 20, 871198),\n",
       " datetime.datetime(2018, 5, 21, 12, 23, 31, 162624),\n",
       " datetime.datetime(2018, 5, 19, 21, 20, 7, 323249),\n",
       " datetime.datetime(2018, 5, 14, 4, 0, 7, 307882),\n",
       " datetime.datetime(2018, 5, 7, 12, 42, 12, 937555),\n",
       " datetime.datetime(2018, 5, 5, 21, 56, 42, 144017),\n",
       " datetime.datetime(2018, 5, 3, 13, 44, 34, 708207),\n",
       " datetime.datetime(2018, 5, 3, 7, 38, 12, 726598),\n",
       " datetime.datetime(2018, 4, 28, 3, 51, 20, 425510),\n",
       " datetime.datetime(2018, 4, 22, 2, 27, 28, 244073),\n",
       " datetime.datetime(2018, 4, 18, 19, 20, 18, 892446),\n",
       " datetime.datetime(2018, 4, 13, 18, 13, 50, 620030),\n",
       " datetime.datetime(2018, 4, 10, 22, 29, 39, 955295),\n",
       " datetime.datetime(2018, 4, 1, 17, 57, 13, 484726),\n",
       " datetime.datetime(2018, 3, 31, 21, 22, 17, 752186),\n",
       " datetime.datetime(2018, 3, 25, 8, 53, 3, 490299),\n",
       " datetime.datetime(2018, 3, 24, 1, 11, 44, 524464),\n",
       " datetime.datetime(2018, 3, 20, 0, 14, 46, 974625),\n",
       " datetime.datetime(2018, 3, 14, 0, 22, 40, 820062),\n",
       " datetime.datetime(2018, 3, 7, 0, 3, 44, 716594),\n",
       " datetime.datetime(2018, 2, 23, 18, 41, 58, 652100),\n",
       " datetime.datetime(2018, 2, 21, 4, 7, 51, 415176),\n",
       " datetime.datetime(2018, 2, 18, 23, 3, 36, 130614),\n",
       " datetime.datetime(2018, 2, 18, 0, 57, 45, 340570),\n",
       " datetime.datetime(2018, 2, 17, 21, 55, 58, 407378),\n",
       " datetime.datetime(2018, 2, 17, 19, 27, 39, 764561),\n",
       " datetime.datetime(2018, 2, 16, 23, 35, 30, 271384),\n",
       " datetime.datetime(2018, 2, 14, 18, 23, 19, 515844),\n",
       " datetime.datetime(2018, 2, 14, 1, 8, 36, 570059),\n",
       " datetime.datetime(2018, 2, 12, 20, 46, 26, 981889),\n",
       " datetime.datetime(2018, 2, 10, 16, 4, 12, 312933),\n",
       " datetime.datetime(2018, 2, 4, 19, 6, 24, 1126),\n",
       " datetime.datetime(2018, 2, 4, 1, 19, 23, 740624),\n",
       " datetime.datetime(2018, 2, 2, 5, 33, 5, 672224),\n",
       " datetime.datetime(2018, 1, 28, 18, 28, 51, 939089),\n",
       " datetime.datetime(2018, 1, 25, 21, 11, 1, 369509),\n",
       " datetime.datetime(2018, 1, 24, 11, 29, 11, 234783),\n",
       " datetime.datetime(2018, 1, 20, 20, 8, 38, 921298),\n",
       " datetime.datetime(2018, 1, 19, 3, 44, 10, 994967),\n",
       " datetime.datetime(2018, 1, 19, 2, 24, 7, 402530),\n",
       " datetime.datetime(2018, 1, 16, 21, 41, 58, 596015),\n",
       " datetime.datetime(2018, 1, 15, 8, 36, 52, 132531),\n",
       " datetime.datetime(2018, 1, 15, 8, 24, 16, 97778),\n",
       " datetime.datetime(2018, 1, 12, 12, 51, 24, 622750),\n",
       " datetime.datetime(2018, 1, 9, 0, 36, 46, 866929),\n",
       " datetime.datetime(2018, 1, 7, 0, 14, 41, 616282),\n",
       " datetime.datetime(2018, 1, 5, 12, 56, 32, 706964)]"
      ]
     },
     "execution_count": 28,
     "metadata": {},
     "output_type": "execute_result"
    }
   ],
   "source": [
    "timesForVisits"
   ]
  },
  {
   "cell_type": "code",
   "execution_count": null,
   "metadata": {
    "collapsed": true
   },
   "outputs": [],
   "source": []
  }
 ],
 "metadata": {
  "kernelspec": {
   "display_name": "Python 2",
   "language": "python",
   "name": "python2"
  },
  "language_info": {
   "codemirror_mode": {
    "name": "ipython",
    "version": 2
   },
   "file_extension": ".py",
   "mimetype": "text/x-python",
   "name": "python",
   "nbconvert_exporter": "python",
   "pygments_lexer": "ipython2",
   "version": "2.7.14"
  }
 },
 "nbformat": 4,
 "nbformat_minor": 2
}
