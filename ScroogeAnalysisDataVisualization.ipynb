{
 "cells": [
  {
   "cell_type": "markdown",
   "metadata": {},
   "source": [
    "# First, an overview of what a single panel of visits looks like"
   ]
  },
  {
   "cell_type": "code",
   "execution_count": 2,
   "metadata": {},
   "outputs": [],
   "source": [
    "import pandas as pd\n",
    "import numpy as np\n",
    "import os\n",
    "\n",
    "os.chdir(\"/Users/burke/Documents/research/scrooge\")\n",
    "\n",
    "oneDocscreeningServices = pd.read_excel(\"SingleProvider10YearLifetimeScreeningServices.xlsx\")\n",
    "oneDocscreeningServices['year'] = oneDocscreeningServices.visitDate.dt.year\n",
    "oneDocscreeningServices['timeWithSDM'] = oneDocscreeningServices.timeSpent + 5.2\n",
    "\n",
    "oneDocPanel = pd.read_excel(\"SingleProvider10YearPanel.xlsx\")\n",
    "oneDocVisits = pd.read_excel(\"SingleProvider10YearLifetimeVisits.xlsx\")\n",
    "oneDocVisits['year'] = oneDocVisits.visitDate.dt.year\n",
    "\n",
    "lastYearScreening = oneDocscreeningServices[oneDocscreeningServices.year==2026]\n",
    "\n",
    "\n",
    "lastYearVisits = oneDocVisits[oneDocVisits.year==2026]"
   ]
  },
  {
   "cell_type": "code",
   "execution_count": 3,
   "metadata": {},
   "outputs": [
    {
     "name": "stdout",
     "output_type": "stream",
     "text": [
      "3712\n",
      "8525\n",
      "18279.0\n"
     ]
    }
   ],
   "source": [
    "print len(lastYearVisits)\n",
    "print len(lastYearScreening)\n",
    "print lastYearScreening['timeSpent'].sum()"
   ]
  },
  {
   "cell_type": "code",
   "execution_count": 4,
   "metadata": {},
   "outputs": [
    {
     "data": {
      "text/html": [
       "<div>\n",
       "<style scoped>\n",
       "    .dataframe tbody tr th:only-of-type {\n",
       "        vertical-align: middle;\n",
       "    }\n",
       "\n",
       "    .dataframe tbody tr th {\n",
       "        vertical-align: top;\n",
       "    }\n",
       "\n",
       "    .dataframe thead th {\n",
       "        text-align: right;\n",
       "    }\n",
       "</style>\n",
       "<table border=\"1\" class=\"dataframe\">\n",
       "  <thead>\n",
       "    <tr style=\"text-align: right;\">\n",
       "      <th></th>\n",
       "      <th>Service</th>\n",
       "      <th>grade</th>\n",
       "      <th>localPatientID</th>\n",
       "      <th>screeningIndex</th>\n",
       "      <th>timeSpent</th>\n",
       "      <th>visitDate</th>\n",
       "      <th>year</th>\n",
       "      <th>timeWithSDM</th>\n",
       "    </tr>\n",
       "  </thead>\n",
       "  <tbody>\n",
       "    <tr>\n",
       "      <th>0</th>\n",
       "      <td>Skin Cancer Prevention: Behavioral Counseling</td>\n",
       "      <td>B</td>\n",
       "      <td>19818</td>\n",
       "      <td>6</td>\n",
       "      <td>1.50</td>\n",
       "      <td>2026-01-01 21:15:11.423</td>\n",
       "      <td>2026</td>\n",
       "      <td>6.70</td>\n",
       "    </tr>\n",
       "    <tr>\n",
       "      <th>1</th>\n",
       "      <td>Sexually Transmitted Infections: Behavioral Co...</td>\n",
       "      <td>B</td>\n",
       "      <td>19818</td>\n",
       "      <td>8</td>\n",
       "      <td>3.00</td>\n",
       "      <td>2026-01-01 21:15:11.423</td>\n",
       "      <td>2026</td>\n",
       "      <td>8.20</td>\n",
       "    </tr>\n",
       "    <tr>\n",
       "      <th>2</th>\n",
       "      <td>Intimate Partner Violence: Screening</td>\n",
       "      <td>B</td>\n",
       "      <td>19818</td>\n",
       "      <td>20</td>\n",
       "      <td>1.00</td>\n",
       "      <td>2026-01-01 21:15:11.423</td>\n",
       "      <td>2026</td>\n",
       "      <td>6.20</td>\n",
       "    </tr>\n",
       "    <tr>\n",
       "      <th>3</th>\n",
       "      <td>Human Immunodeficiency Virus (HIV) Infection: ...</td>\n",
       "      <td>A</td>\n",
       "      <td>19818</td>\n",
       "      <td>21</td>\n",
       "      <td>1.00</td>\n",
       "      <td>2026-01-01 21:15:11.423</td>\n",
       "      <td>2026</td>\n",
       "      <td>6.20</td>\n",
       "    </tr>\n",
       "    <tr>\n",
       "      <th>4</th>\n",
       "      <td>High Blood Pressure in Adults: Screening</td>\n",
       "      <td>A</td>\n",
       "      <td>19818</td>\n",
       "      <td>23</td>\n",
       "      <td>0.25</td>\n",
       "      <td>2026-01-01 21:15:11.423</td>\n",
       "      <td>2026</td>\n",
       "      <td>5.45</td>\n",
       "    </tr>\n",
       "  </tbody>\n",
       "</table>\n",
       "</div>"
      ],
      "text/plain": [
       "                                             Service grade  localPatientID  \\\n",
       "0      Skin Cancer Prevention: Behavioral Counseling     B           19818   \n",
       "1  Sexually Transmitted Infections: Behavioral Co...     B           19818   \n",
       "2               Intimate Partner Violence: Screening     B           19818   \n",
       "3  Human Immunodeficiency Virus (HIV) Infection: ...     A           19818   \n",
       "4           High Blood Pressure in Adults: Screening     A           19818   \n",
       "\n",
       "   screeningIndex  timeSpent               visitDate  year  timeWithSDM  \n",
       "0               6       1.50 2026-01-01 21:15:11.423  2026         6.70  \n",
       "1               8       3.00 2026-01-01 21:15:11.423  2026         8.20  \n",
       "2              20       1.00 2026-01-01 21:15:11.423  2026         6.20  \n",
       "3              21       1.00 2026-01-01 21:15:11.423  2026         6.20  \n",
       "4              23       0.25 2026-01-01 21:15:11.423  2026         5.45  "
      ]
     },
     "execution_count": 4,
     "metadata": {},
     "output_type": "execute_result"
    }
   ],
   "source": [
    "lastYearScreening.head(5)"
   ]
  },
  {
   "cell_type": "markdown",
   "metadata": {},
   "source": [
    "## Table 1 — Summary of Screening Services with and without SDM (Need some 95% CIs)"
   ]
  },
  {
   "cell_type": "code",
   "execution_count": 5,
   "metadata": {},
   "outputs": [
    {
     "data": {
      "text/html": [
       "<style  type=\"text/css\" >\n",
       "</style>  \n",
       "<table id=\"T_4c6f3175_a611_11e8_9200_f218981efa40\" > \n",
       "<thead>    <tr> \n",
       "        <th class=\"blank level0\" ></th> \n",
       "        <th class=\"col_heading level0 col0\" >timeWithSDM</th> \n",
       "        <th class=\"col_heading level0 col1\" >timeSpent</th> \n",
       "    </tr>    <tr> \n",
       "        <th class=\"index_name level0\" >Service</th> \n",
       "        <th class=\"blank\" ></th> \n",
       "        <th class=\"blank\" ></th> \n",
       "    </tr></thead> \n",
       "<tbody>    <tr> \n",
       "        <th id=\"T_4c6f3175_a611_11e8_9200_f218981efa40level0_row0\" class=\"row_heading level0 row0\" >Healthful Diet and Physical Activity for Cardiovascular Disease Prevention in Adults Without Known Risk Factors: Behavioral Counseling</th> \n",
       "        <td id=\"T_4c6f3175_a611_11e8_9200_f218981efa40row0_col0\" class=\"data row0 col0\" >102.95</td> \n",
       "        <td id=\"T_4c6f3175_a611_11e8_9200_f218981efa40row0_col1\" class=\"data row0 col1\" >72.18</td> \n",
       "    </tr>    <tr> \n",
       "        <th id=\"T_4c6f3175_a611_11e8_9200_f218981efa40level0_row1\" class=\"row_heading level0 row1\" >Healthful Diet and Physical Activity for Cardiovascular Disease Prevention in Adults With Cardiovascular Risk Factors: Behavioral Counseling</th> \n",
       "        <td id=\"T_4c6f3175_a611_11e8_9200_f218981efa40row1_col0\" class=\"data row1 col0\" >95.41</td> \n",
       "        <td id=\"T_4c6f3175_a611_11e8_9200_f218981efa40row1_col1\" class=\"data row1 col1\" >66.90</td> \n",
       "    </tr>    <tr> \n",
       "        <th id=\"T_4c6f3175_a611_11e8_9200_f218981efa40level0_row2\" class=\"row_heading level0 row2\" >Abnormal Blood Glucose and Type 2 Diabetes Mellitus: Screening</th> \n",
       "        <td id=\"T_4c6f3175_a611_11e8_9200_f218981efa40row2_col0\" class=\"data row2 col0\" >65.54</td> \n",
       "        <td id=\"T_4c6f3175_a611_11e8_9200_f218981efa40row2_col1\" class=\"data row2 col1\" >45.95</td> \n",
       "    </tr>    <tr> \n",
       "        <th id=\"T_4c6f3175_a611_11e8_9200_f218981efa40level0_row3\" class=\"row_heading level0 row3\" >Alcohol Misuse: Screening and Behavioral Counseling Interventions in Primary Care</th> \n",
       "        <td id=\"T_4c6f3175_a611_11e8_9200_f218981efa40row3_col0\" class=\"data row3 col0\" >33.49</td> \n",
       "        <td id=\"T_4c6f3175_a611_11e8_9200_f218981efa40row3_col1\" class=\"data row3 col1\" >16.42</td> \n",
       "    </tr>    <tr> \n",
       "        <th id=\"T_4c6f3175_a611_11e8_9200_f218981efa40level0_row4\" class=\"row_heading level0 row4\" >Skin Cancer Prevention: Behavioral Counseling</th> \n",
       "        <td id=\"T_4c6f3175_a611_11e8_9200_f218981efa40row4_col0\" class=\"data row4 col0\" >51.59</td> \n",
       "        <td id=\"T_4c6f3175_a611_11e8_9200_f218981efa40row4_col1\" class=\"data row4 col1\" >11.55</td> \n",
       "    </tr>    <tr> \n",
       "        <th id=\"T_4c6f3175_a611_11e8_9200_f218981efa40level0_row5\" class=\"row_heading level0 row5\" >Intimate Partner Violence: Screening</th> \n",
       "        <td id=\"T_4c6f3175_a611_11e8_9200_f218981efa40row5_col0\" class=\"data row5 col0\" >70.16</td> \n",
       "        <td id=\"T_4c6f3175_a611_11e8_9200_f218981efa40row5_col1\" class=\"data row5 col1\" >11.32</td> \n",
       "    </tr>    <tr> \n",
       "        <th id=\"T_4c6f3175_a611_11e8_9200_f218981efa40level0_row6\" class=\"row_heading level0 row6\" >Colorectal Cancer: Screening</th> \n",
       "        <td id=\"T_4c6f3175_a611_11e8_9200_f218981efa40row6_col0\" class=\"data row6 col0\" >44.12</td> \n",
       "        <td id=\"T_4c6f3175_a611_11e8_9200_f218981efa40row6_col1\" class=\"data row6 col1\" >7.12</td> \n",
       "    </tr>    <tr> \n",
       "        <th id=\"T_4c6f3175_a611_11e8_9200_f218981efa40level0_row7\" class=\"row_heading level0 row7\" >Human Immunodeficiency Virus (HIV) Infection: Screening One Tie</th> \n",
       "        <td id=\"T_4c6f3175_a611_11e8_9200_f218981efa40row7_col0\" class=\"data row7 col0\" >42.68</td> \n",
       "        <td id=\"T_4c6f3175_a611_11e8_9200_f218981efa40row7_col1\" class=\"data row7 col1\" >6.88</td> \n",
       "    </tr>    <tr> \n",
       "        <th id=\"T_4c6f3175_a611_11e8_9200_f218981efa40level0_row8\" class=\"row_heading level0 row8\" >Statin Use for the Primary Prevention of Cardiovascular Disease in Adults: Preventive Medication</th> \n",
       "        <td id=\"T_4c6f3175_a611_11e8_9200_f218981efa40row8_col0\" class=\"data row8 col0\" >18.87</td> \n",
       "        <td id=\"T_4c6f3175_a611_11e8_9200_f218981efa40row8_col1\" class=\"data row8 col1\" >6.12</td> \n",
       "    </tr>    <tr> \n",
       "        <th id=\"T_4c6f3175_a611_11e8_9200_f218981efa40level0_row9\" class=\"row_heading level0 row9\" >Influenza</th> \n",
       "        <td id=\"T_4c6f3175_a611_11e8_9200_f218981efa40row9_col0\" class=\"data row9 col0\" >64.51</td> \n",
       "        <td id=\"T_4c6f3175_a611_11e8_9200_f218981efa40row9_col1\" class=\"data row9 col1\" >5.66</td> \n",
       "    </tr>    <tr> \n",
       "        <th id=\"T_4c6f3175_a611_11e8_9200_f218981efa40level0_row10\" class=\"row_heading level0 row10\" >Tobacco Smoking Cessation in Adults: Behavioral and Pharmacotherapy Interventions</th> \n",
       "        <td id=\"T_4c6f3175_a611_11e8_9200_f218981efa40row10_col0\" class=\"data row10 col0\" >15.44</td> \n",
       "        <td id=\"T_4c6f3175_a611_11e8_9200_f218981efa40row10_col1\" class=\"data row10 col1\" >5.65</td> \n",
       "    </tr>    <tr> \n",
       "        <th id=\"T_4c6f3175_a611_11e8_9200_f218981efa40level0_row11\" class=\"row_heading level0 row11\" >Depression in Adults: Screening</th> \n",
       "        <td id=\"T_4c6f3175_a611_11e8_9200_f218981efa40row11_col0\" class=\"data row11 col0\" >44.94</td> \n",
       "        <td id=\"T_4c6f3175_a611_11e8_9200_f218981efa40row11_col1\" class=\"data row11 col1\" >3.94</td> \n",
       "    </tr>    <tr> \n",
       "        <th id=\"T_4c6f3175_a611_11e8_9200_f218981efa40level0_row12\" class=\"row_heading level0 row12\" >Obesity in Adults: Screening and Management</th> \n",
       "        <td id=\"T_4c6f3175_a611_11e8_9200_f218981efa40row12_col0\" class=\"data row12 col0\" >23.04</td> \n",
       "        <td id=\"T_4c6f3175_a611_11e8_9200_f218981efa40row12_col1\" class=\"data row12 col1\" >3.72</td> \n",
       "    </tr>    <tr> \n",
       "        <th id=\"T_4c6f3175_a611_11e8_9200_f218981efa40level0_row13\" class=\"row_heading level0 row13\" >Varicella</th> \n",
       "        <td id=\"T_4c6f3175_a611_11e8_9200_f218981efa40row13_col0\" class=\"data row13 col0\" >40.57</td> \n",
       "        <td id=\"T_4c6f3175_a611_11e8_9200_f218981efa40row13_col1\" class=\"data row13 col1\" >3.56</td> \n",
       "    </tr>    <tr> \n",
       "        <th id=\"T_4c6f3175_a611_11e8_9200_f218981efa40level0_row14\" class=\"row_heading level0 row14\" >Tetanus</th> \n",
       "        <td id=\"T_4c6f3175_a611_11e8_9200_f218981efa40row14_col0\" class=\"data row14 col0\" >40.57</td> \n",
       "        <td id=\"T_4c6f3175_a611_11e8_9200_f218981efa40row14_col1\" class=\"data row14 col1\" >3.56</td> \n",
       "    </tr>    <tr> \n",
       "        <th id=\"T_4c6f3175_a611_11e8_9200_f218981efa40level0_row15\" class=\"row_heading level0 row15\" >Pneumococcal</th> \n",
       "        <td id=\"T_4c6f3175_a611_11e8_9200_f218981efa40row15_col0\" class=\"data row15 col0\" >40.57</td> \n",
       "        <td id=\"T_4c6f3175_a611_11e8_9200_f218981efa40row15_col1\" class=\"data row15 col1\" >3.56</td> \n",
       "    </tr>    <tr> \n",
       "        <th id=\"T_4c6f3175_a611_11e8_9200_f218981efa40level0_row16\" class=\"row_heading level0 row16\" >Zoster</th> \n",
       "        <td id=\"T_4c6f3175_a611_11e8_9200_f218981efa40row16_col0\" class=\"data row16 col0\" >40.57</td> \n",
       "        <td id=\"T_4c6f3175_a611_11e8_9200_f218981efa40row16_col1\" class=\"data row16 col1\" >3.56</td> \n",
       "    </tr>    <tr> \n",
       "        <th id=\"T_4c6f3175_a611_11e8_9200_f218981efa40level0_row17\" class=\"row_heading level0 row17\" >Cervical Cancer: Screening</th> \n",
       "        <td id=\"T_4c6f3175_a611_11e8_9200_f218981efa40row17_col0\" class=\"data row17 col0\" >21.60</td> \n",
       "        <td id=\"T_4c6f3175_a611_11e8_9200_f218981efa40row17_col1\" class=\"data row17 col1\" >3.48</td> \n",
       "    </tr>    <tr> \n",
       "        <th id=\"T_4c6f3175_a611_11e8_9200_f218981efa40level0_row18\" class=\"row_heading level0 row18\" >High Blood Pressure in Adults: Screening</th> \n",
       "        <td id=\"T_4c6f3175_a611_11e8_9200_f218981efa40row18_col0\" class=\"data row18 col0\" >61.68</td> \n",
       "        <td id=\"T_4c6f3175_a611_11e8_9200_f218981efa40row18_col1\" class=\"data row18 col1\" >2.83</td> \n",
       "    </tr>    <tr> \n",
       "        <th id=\"T_4c6f3175_a611_11e8_9200_f218981efa40level0_row19\" class=\"row_heading level0 row19\" >Breast Cancer: Screening</th> \n",
       "        <td id=\"T_4c6f3175_a611_11e8_9200_f218981efa40row19_col0\" class=\"data row19 col0\" >15.81</td> \n",
       "        <td id=\"T_4c6f3175_a611_11e8_9200_f218981efa40row19_col1\" class=\"data row19 col1\" >2.55</td> \n",
       "    </tr>    <tr> \n",
       "        <th id=\"T_4c6f3175_a611_11e8_9200_f218981efa40level0_row20\" class=\"row_heading level0 row20\" >Hepatitis C: Screening</th> \n",
       "        <td id=\"T_4c6f3175_a611_11e8_9200_f218981efa40row20_col0\" class=\"data row20 col0\" >15.71</td> \n",
       "        <td id=\"T_4c6f3175_a611_11e8_9200_f218981efa40row20_col1\" class=\"data row20 col1\" >2.53</td> \n",
       "    </tr>    <tr> \n",
       "        <th id=\"T_4c6f3175_a611_11e8_9200_f218981efa40level0_row21\" class=\"row_heading level0 row21\" >Chlamydia and Gonorrhea: Screening</th> \n",
       "        <td id=\"T_4c6f3175_a611_11e8_9200_f218981efa40row21_col0\" class=\"data row21 col0\" >14.78</td> \n",
       "        <td id=\"T_4c6f3175_a611_11e8_9200_f218981efa40row21_col1\" class=\"data row21 col1\" >2.38</td> \n",
       "    </tr>    <tr> \n",
       "        <th id=\"T_4c6f3175_a611_11e8_9200_f218981efa40level0_row22\" class=\"row_heading level0 row22\" >Falls Prevention in Community-Dwelling Older Adults: Interventions</th> \n",
       "        <td id=\"T_4c6f3175_a611_11e8_9200_f218981efa40row22_col0\" class=\"data row22 col0\" >15.17</td> \n",
       "        <td id=\"T_4c6f3175_a611_11e8_9200_f218981efa40row22_col1\" class=\"data row22 col1\" >1.91</td> \n",
       "    </tr>    <tr> \n",
       "        <th id=\"T_4c6f3175_a611_11e8_9200_f218981efa40level0_row23\" class=\"row_heading level0 row23\" >Osteoporosis to Prevent Fractures: Screening — Under 65</th> \n",
       "        <td id=\"T_4c6f3175_a611_11e8_9200_f218981efa40row23_col0\" class=\"data row23 col0\" >8.89</td> \n",
       "        <td id=\"T_4c6f3175_a611_11e8_9200_f218981efa40row23_col1\" class=\"data row23 col1\" >1.43</td> \n",
       "    </tr>    <tr> \n",
       "        <th id=\"T_4c6f3175_a611_11e8_9200_f218981efa40level0_row24\" class=\"row_heading level0 row24\" >Prostate Cancer Screening</th> \n",
       "        <td id=\"T_4c6f3175_a611_11e8_9200_f218981efa40row24_col0\" class=\"data row24 col0\" >7.03</td> \n",
       "        <td id=\"T_4c6f3175_a611_11e8_9200_f218981efa40row24_col1\" class=\"data row24 col1\" >1.13</td> \n",
       "    </tr>    <tr> \n",
       "        <th id=\"T_4c6f3175_a611_11e8_9200_f218981efa40level0_row25\" class=\"row_heading level0 row25\" >Sexually Transmitted Infections: Behavioral Counseling - women under 25</th> \n",
       "        <td id=\"T_4c6f3175_a611_11e8_9200_f218981efa40row25_col0\" class=\"data row25 col0\" >3.01</td> \n",
       "        <td id=\"T_4c6f3175_a611_11e8_9200_f218981efa40row25_col1\" class=\"data row25 col1\" >1.10</td> \n",
       "    </tr>    <tr> \n",
       "        <th id=\"T_4c6f3175_a611_11e8_9200_f218981efa40level0_row26\" class=\"row_heading level0 row26\" >Aspirin Use to Prevent Cardiovascular Disease and Colorectal Cancer: Preventive Medication</th> \n",
       "        <td id=\"T_4c6f3175_a611_11e8_9200_f218981efa40row26_col0\" class=\"data row26 col0\" >4.47</td> \n",
       "        <td id=\"T_4c6f3175_a611_11e8_9200_f218981efa40row26_col1\" class=\"data row26 col1\" >1.00</td> \n",
       "    </tr>    <tr> \n",
       "        <th id=\"T_4c6f3175_a611_11e8_9200_f218981efa40level0_row27\" class=\"row_heading level0 row27\" >Latent Tuberculosis Infection: Screening Under 65</th> \n",
       "        <td id=\"T_4c6f3175_a611_11e8_9200_f218981efa40row27_col0\" class=\"data row27 col0\" >5.27</td> \n",
       "        <td id=\"T_4c6f3175_a611_11e8_9200_f218981efa40row27_col1\" class=\"data row27 col1\" >0.85</td> \n",
       "    </tr>    <tr> \n",
       "        <th id=\"T_4c6f3175_a611_11e8_9200_f218981efa40level0_row28\" class=\"row_heading level0 row28\" >Hepatitis B Virus Infection: Screening</th> \n",
       "        <td id=\"T_4c6f3175_a611_11e8_9200_f218981efa40row28_col0\" class=\"data row28 col0\" >5.17</td> \n",
       "        <td id=\"T_4c6f3175_a611_11e8_9200_f218981efa40row28_col1\" class=\"data row28 col1\" >0.83</td> \n",
       "    </tr>    <tr> \n",
       "        <th id=\"T_4c6f3175_a611_11e8_9200_f218981efa40level0_row29\" class=\"row_heading level0 row29\" >Osteoporosis to Prevent Fractures: Screening — Women over 65</th> \n",
       "        <td id=\"T_4c6f3175_a611_11e8_9200_f218981efa40row29_col0\" class=\"data row29 col0\" >5.06</td> \n",
       "        <td id=\"T_4c6f3175_a611_11e8_9200_f218981efa40row29_col1\" class=\"data row29 col1\" >0.82</td> \n",
       "    </tr>    <tr> \n",
       "        <th id=\"T_4c6f3175_a611_11e8_9200_f218981efa40level0_row30\" class=\"row_heading level0 row30\" >Breast Cancer: Medications for Risk Reduction</th> \n",
       "        <td id=\"T_4c6f3175_a611_11e8_9200_f218981efa40row30_col0\" class=\"data row30 col0\" >2.79</td> \n",
       "        <td id=\"T_4c6f3175_a611_11e8_9200_f218981efa40row30_col1\" class=\"data row30 col1\" >0.62</td> \n",
       "    </tr>    <tr> \n",
       "        <th id=\"T_4c6f3175_a611_11e8_9200_f218981efa40level0_row31\" class=\"row_heading level0 row31\" >Sexually Transmitted Infections: Behavioral Counseling - high risk</th> \n",
       "        <td id=\"T_4c6f3175_a611_11e8_9200_f218981efa40row31_col0\" class=\"data row31 col0\" >1.64</td> \n",
       "        <td id=\"T_4c6f3175_a611_11e8_9200_f218981efa40row31_col1\" class=\"data row31 col1\" >0.60</td> \n",
       "    </tr>    <tr> \n",
       "        <th id=\"T_4c6f3175_a611_11e8_9200_f218981efa40level0_row32\" class=\"row_heading level0 row32\" >Abdominal Aortic Aneurysm: Screening</th> \n",
       "        <td id=\"T_4c6f3175_a611_11e8_9200_f218981efa40row32_col0\" class=\"data row32 col0\" >3.10</td> \n",
       "        <td id=\"T_4c6f3175_a611_11e8_9200_f218981efa40row32_col1\" class=\"data row32 col1\" >0.50</td> \n",
       "    </tr>    <tr> \n",
       "        <th id=\"T_4c6f3175_a611_11e8_9200_f218981efa40level0_row33\" class=\"row_heading level0 row33\" >BRCA-Related Cancer: Risk Assessment, Genetic Counseling, and Genetic Testing</th> \n",
       "        <td id=\"T_4c6f3175_a611_11e8_9200_f218981efa40row33_col0\" class=\"data row33 col0\" >2.89</td> \n",
       "        <td id=\"T_4c6f3175_a611_11e8_9200_f218981efa40row33_col1\" class=\"data row33 col1\" >0.47</td> \n",
       "    </tr>    <tr> \n",
       "        <th id=\"T_4c6f3175_a611_11e8_9200_f218981efa40level0_row34\" class=\"row_heading level0 row34\" >Hep A and Hep B</th> \n",
       "        <td id=\"T_4c6f3175_a611_11e8_9200_f218981efa40row34_col0\" class=\"data row34 col0\" >5.03</td> \n",
       "        <td id=\"T_4c6f3175_a611_11e8_9200_f218981efa40row34_col1\" class=\"data row34 col1\" >0.44</td> \n",
       "    </tr>    <tr> \n",
       "        <th id=\"T_4c6f3175_a611_11e8_9200_f218981efa40level0_row35\" class=\"row_heading level0 row35\" >Lung Cancer: Screening(55-64)</th> \n",
       "        <td id=\"T_4c6f3175_a611_11e8_9200_f218981efa40row35_col0\" class=\"data row35 col0\" >2.48</td> \n",
       "        <td id=\"T_4c6f3175_a611_11e8_9200_f218981efa40row35_col1\" class=\"data row35 col1\" >0.40</td> \n",
       "    </tr>    <tr> \n",
       "        <th id=\"T_4c6f3175_a611_11e8_9200_f218981efa40level0_row36\" class=\"row_heading level0 row36\" >Human Immunodeficiency Virus (HIV) Infection: Screening Annual</th> \n",
       "        <td id=\"T_4c6f3175_a611_11e8_9200_f218981efa40row36_col0\" class=\"data row36 col0\" >2.17</td> \n",
       "        <td id=\"T_4c6f3175_a611_11e8_9200_f218981efa40row36_col1\" class=\"data row36 col1\" >0.35</td> \n",
       "    </tr>    <tr> \n",
       "        <th id=\"T_4c6f3175_a611_11e8_9200_f218981efa40level0_row37\" class=\"row_heading level0 row37\" >Syphilis Infection in Nonpregnant Adults and Adolescents: Screening</th> \n",
       "        <td id=\"T_4c6f3175_a611_11e8_9200_f218981efa40row37_col0\" class=\"data row37 col0\" >2.17</td> \n",
       "        <td id=\"T_4c6f3175_a611_11e8_9200_f218981efa40row37_col1\" class=\"data row37 col1\" >0.35</td> \n",
       "    </tr>    <tr> \n",
       "        <th id=\"T_4c6f3175_a611_11e8_9200_f218981efa40level0_row38\" class=\"row_heading level0 row38\" >Lung Cancer: Screening(65-74)</th> \n",
       "        <td id=\"T_4c6f3175_a611_11e8_9200_f218981efa40row38_col0\" class=\"data row38 col0\" >1.34</td> \n",
       "        <td id=\"T_4c6f3175_a611_11e8_9200_f218981efa40row38_col1\" class=\"data row38 col1\" >0.22</td> \n",
       "    </tr>    <tr> \n",
       "        <th id=\"T_4c6f3175_a611_11e8_9200_f218981efa40level0_row39\" class=\"row_heading level0 row39\" >Osteoporosis to Prevent Fractures: Screening — Men over 65</th> \n",
       "        <td id=\"T_4c6f3175_a611_11e8_9200_f218981efa40row39_col0\" class=\"data row39 col0\" >1.14</td> \n",
       "        <td id=\"T_4c6f3175_a611_11e8_9200_f218981efa40row39_col1\" class=\"data row39 col1\" >0.18</td> \n",
       "    </tr>    <tr> \n",
       "        <th id=\"T_4c6f3175_a611_11e8_9200_f218981efa40level0_row40\" class=\"row_heading level0 row40\" >Lung Cancer: Screening(75-80)</th> \n",
       "        <td id=\"T_4c6f3175_a611_11e8_9200_f218981efa40row40_col0\" class=\"data row40 col0\" >0.10</td> \n",
       "        <td id=\"T_4c6f3175_a611_11e8_9200_f218981efa40row40_col1\" class=\"data row40 col1\" >0.02</td> \n",
       "    </tr></tbody> \n",
       "</table> "
      ],
      "text/plain": [
       "<pandas.io.formats.style.Styler at 0x11f221dd0>"
      ]
     },
     "execution_count": 5,
     "metadata": {},
     "output_type": "execute_result"
    }
   ],
   "source": [
    "lastYearScreening.groupby(\"Service\").agg({'timeSpent' : lambda x : np.sum(x)/60, 'timeWithSDM' :lambda x : np.sum(x)/60 }).sort_values('timeSpent', ascending=False).style.format(\"{:4.2f}\")"
   ]
  },
  {
   "cell_type": "markdown",
   "metadata": {},
   "source": [
    "## Data Point  2 — Total time on screening services under different conditions"
   ]
  },
  {
   "cell_type": "markdown",
   "metadata": {},
   "source": [
    "### Overall Times in Base Case (time in minutes)"
   ]
  },
  {
   "cell_type": "code",
   "execution_count": 58,
   "metadata": {},
   "outputs": [
    {
     "data": {
      "text/plain": [
       "timeWithSDM    62609.0\n",
       "timeSpent      18279.0\n",
       "dtype: float64"
      ]
     },
     "execution_count": 58,
     "metadata": {},
     "output_type": "execute_result"
    }
   ],
   "source": [
    "lastYearScreening.agg({'timeSpent':np.sum, 'timeWithSDM' : np.sum})"
   ]
  },
  {
   "cell_type": "markdown",
   "metadata": {},
   "source": [
    "### Excluding Level C Screening (time in hours)"
   ]
  },
  {
   "cell_type": "code",
   "execution_count": 59,
   "metadata": {},
   "outputs": [
    {
     "data": {
      "text/plain": [
       "timeWithSDM    52620.1\n",
       "timeSpent      13136.5\n",
       "dtype: float64"
      ]
     },
     "execution_count": 59,
     "metadata": {},
     "output_type": "execute_result"
    }
   ],
   "source": [
    "noLevelC = lastYearScreening.loc[lastYearScreening.grade != 'C']\n",
    "noLevelC.agg({'timeSpent':np.sum, 'timeWithSDM' : np.sum})"
   ]
  },
  {
   "cell_type": "markdown",
   "metadata": {},
   "source": [
    "### Excluding Level B Screening"
   ]
  },
  {
   "cell_type": "code",
   "execution_count": 60,
   "metadata": {},
   "outputs": [
    {
     "data": {
      "text/plain": [
       "timeWithSDM    11391.35\n",
       "timeSpent       1599.75\n",
       "dtype: float64"
      ]
     },
     "execution_count": 60,
     "metadata": {},
     "output_type": "execute_result"
    }
   ],
   "source": [
    "levelAOnly = lastYearScreening.loc[lastYearScreening.grade == 'A']\n",
    "levelAOnly.agg({'timeSpent':np.sum, 'timeWithSDM' : np.sum})"
   ]
  },
  {
   "cell_type": "markdown",
   "metadata": {},
   "source": [
    "### What services are we talking about for Level A only..."
   ]
  },
  {
   "cell_type": "code",
   "execution_count": 61,
   "metadata": {},
   "outputs": [
    {
     "data": {
      "text/html": [
       "<style  type=\"text/css\" >\n",
       "</style>  \n",
       "<table id=\"T_61f8dd7d_a267_11e8_8a1f_f218981efa40\" > \n",
       "<thead>    <tr> \n",
       "        <th class=\"blank level0\" ></th> \n",
       "        <th class=\"col_heading level0 col0\" >timeWithSDM</th> \n",
       "        <th class=\"col_heading level0 col1\" >timeSpent</th> \n",
       "    </tr>    <tr> \n",
       "        <th class=\"index_name level0\" >Service</th> \n",
       "        <th class=\"blank\" ></th> \n",
       "        <th class=\"blank\" ></th> \n",
       "    </tr></thead> \n",
       "<tbody>    <tr> \n",
       "        <th id=\"T_61f8dd7d_a267_11e8_8a1f_f218981efa40level0_row0\" class=\"row_heading level0 row0\" >Colorectal Cancer: Screening</th> \n",
       "        <td id=\"T_61f8dd7d_a267_11e8_8a1f_f218981efa40row0_col0\" class=\"data row0 col0\" >44.12</td> \n",
       "        <td id=\"T_61f8dd7d_a267_11e8_8a1f_f218981efa40row0_col1\" class=\"data row0 col1\" >7.12</td> \n",
       "    </tr>    <tr> \n",
       "        <th id=\"T_61f8dd7d_a267_11e8_8a1f_f218981efa40level0_row1\" class=\"row_heading level0 row1\" >Human Immunodeficiency Virus (HIV) Infection: Screening One Tie</th> \n",
       "        <td id=\"T_61f8dd7d_a267_11e8_8a1f_f218981efa40row1_col0\" class=\"data row1 col0\" >42.68</td> \n",
       "        <td id=\"T_61f8dd7d_a267_11e8_8a1f_f218981efa40row1_col1\" class=\"data row1 col1\" >6.88</td> \n",
       "    </tr>    <tr> \n",
       "        <th id=\"T_61f8dd7d_a267_11e8_8a1f_f218981efa40level0_row2\" class=\"row_heading level0 row2\" >Tobacco Smoking Cessation in Adults: Behavioral and Pharmacotherapy Interventions</th> \n",
       "        <td id=\"T_61f8dd7d_a267_11e8_8a1f_f218981efa40row2_col0\" class=\"data row2 col0\" >15.44</td> \n",
       "        <td id=\"T_61f8dd7d_a267_11e8_8a1f_f218981efa40row2_col1\" class=\"data row2 col1\" >5.65</td> \n",
       "    </tr>    <tr> \n",
       "        <th id=\"T_61f8dd7d_a267_11e8_8a1f_f218981efa40level0_row3\" class=\"row_heading level0 row3\" >Cervical Cancer: Screening</th> \n",
       "        <td id=\"T_61f8dd7d_a267_11e8_8a1f_f218981efa40row3_col0\" class=\"data row3 col0\" >21.60</td> \n",
       "        <td id=\"T_61f8dd7d_a267_11e8_8a1f_f218981efa40row3_col1\" class=\"data row3 col1\" >3.48</td> \n",
       "    </tr>    <tr> \n",
       "        <th id=\"T_61f8dd7d_a267_11e8_8a1f_f218981efa40level0_row4\" class=\"row_heading level0 row4\" >High Blood Pressure in Adults: Screening</th> \n",
       "        <td id=\"T_61f8dd7d_a267_11e8_8a1f_f218981efa40row4_col0\" class=\"data row4 col0\" >61.68</td> \n",
       "        <td id=\"T_61f8dd7d_a267_11e8_8a1f_f218981efa40row4_col1\" class=\"data row4 col1\" >2.83</td> \n",
       "    </tr>    <tr> \n",
       "        <th id=\"T_61f8dd7d_a267_11e8_8a1f_f218981efa40level0_row5\" class=\"row_heading level0 row5\" >Human Immunodeficiency Virus (HIV) Infection: Screening Annual</th> \n",
       "        <td id=\"T_61f8dd7d_a267_11e8_8a1f_f218981efa40row5_col0\" class=\"data row5 col0\" >2.17</td> \n",
       "        <td id=\"T_61f8dd7d_a267_11e8_8a1f_f218981efa40row5_col1\" class=\"data row5 col1\" >0.35</td> \n",
       "    </tr>    <tr> \n",
       "        <th id=\"T_61f8dd7d_a267_11e8_8a1f_f218981efa40level0_row6\" class=\"row_heading level0 row6\" >Syphilis Infection in Nonpregnant Adults and Adolescents: Screening</th> \n",
       "        <td id=\"T_61f8dd7d_a267_11e8_8a1f_f218981efa40row6_col0\" class=\"data row6 col0\" >2.17</td> \n",
       "        <td id=\"T_61f8dd7d_a267_11e8_8a1f_f218981efa40row6_col1\" class=\"data row6 col1\" >0.35</td> \n",
       "    </tr></tbody> \n",
       "</table> "
      ],
      "text/plain": [
       "<pandas.io.formats.style.Styler at 0x120b1d810>"
      ]
     },
     "execution_count": 61,
     "metadata": {},
     "output_type": "execute_result"
    }
   ],
   "source": [
    "levelAOnly.groupby(\"Service\").agg({'timeSpent' : lambda x : np.sum(x)/60, 'timeWithSDM' :lambda x : np.sum(x)/60 }).sort_values('timeSpent', ascending=False).style.format(\"{:4.2f}\")"
   ]
  },
  {
   "cell_type": "markdown",
   "metadata": {},
   "source": [
    "\n",
    "\n",
    "# Then, looking across 400 providers (will increase the estimate) to capture some variance"
   ]
  },
  {
   "cell_type": "code",
   "execution_count": 233,
   "metadata": {},
   "outputs": [],
   "source": [
    "allScreeningServices = pd.read_csv(\"allScreenings.csv\")\n",
    "allScreeningServices.visitDate = pd.to_datetime(allScreeningServices.visitDate)\n",
    "\n",
    "allScreeningServices['year'] = allScreeningServices.visitDate.dt.year\n",
    "allScreeningServices['timeWithSDM'] = allScreeningServices.timeSpent + 5.2\n",
    "\n",
    "allVisits = pd.read_csv(\"allVisits.csv\")\n",
    "allVisits.visitDate = pd.to_datetime(allVisits.visitDate)\n",
    "allVisits['year'] = allVisits.visitDate.dt.year\n",
    "\n",
    "\n",
    "lastYearAllScreening = allScreeningServices[allScreeningServices.year==2026]\n",
    "lastYearAllVisits = allVisits[allVisits.year==2026]\n",
    "\n",
    "allProviders = pd.read_csv(\"allProviders.csv\")"
   ]
  },
  {
   "cell_type": "markdown",
   "metadata": {},
   "source": [
    "# Total Time Needed for Prevention + SDM"
   ]
  },
  {
   "cell_type": "markdown",
   "metadata": {},
   "source": [
    "### Total hours of screening and variation at the provider level with SDM"
   ]
  },
  {
   "cell_type": "code",
   "execution_count": 234,
   "metadata": {},
   "outputs": [
    {
     "name": "stdout",
     "output_type": "stream",
     "text": [
      "count    400.000000\n",
      "mean       3.797402\n",
      "std        0.786779\n",
      "min        1.265424\n",
      "25%        3.260305\n",
      "50%        3.788752\n",
      "75%        4.345497\n",
      "max        6.153122\n",
      "Name: timeWithSDM, dtype: float64\n"
     ]
    }
   ],
   "source": [
    "# note -  will convert all hours of yearly screening to hours of screeing per day by dividing by \n",
    "# 48 weeks * 5 days per week = 240\n",
    "print (lastYearAllScreening.groupby('providerID')['timeWithSDM'].sum() / 60 / 240).describe()\n",
    "meanTimeForCompleteScreeningPlusSDM = (lastYearAllScreening.groupby('providerID')['timeWithSDM'].sum() / 60 / 240).mean()"
   ]
  },
  {
   "cell_type": "markdown",
   "metadata": {},
   "source": [
    "### Total hours of screening ande variation at the provider level without SDM"
   ]
  },
  {
   "cell_type": "code",
   "execution_count": 235,
   "metadata": {},
   "outputs": [
    {
     "name": "stdout",
     "output_type": "stream",
     "text": [
      "count    400.000000\n",
      "mean       1.103902\n",
      "std        0.228285\n",
      "min        0.356507\n",
      "25%        0.949602\n",
      "50%        1.100398\n",
      "75%        1.260938\n",
      "max        1.807510\n",
      "Name: timeSpent, dtype: float64\n"
     ]
    }
   ],
   "source": [
    "print (lastYearAllScreening.groupby('providerID')['timeSpent'].sum() / 60 / 240).describe()\n",
    "meanTImeForCompleteScreeningMinusSDM = (lastYearAllScreening.groupby('providerID')['timeSpent'].sum() / 60 / 240).mean()"
   ]
  },
  {
   "cell_type": "markdown",
   "metadata": {},
   "source": [
    "### Total iours of screening and vartiation at the provider level omitting level C screening"
   ]
  },
  {
   "cell_type": "code",
   "execution_count": 236,
   "metadata": {},
   "outputs": [
    {
     "name": "stdout",
     "output_type": "stream",
     "text": [
      "count    400.000000\n",
      "mean       0.799102\n",
      "std        0.165744\n",
      "min        0.263021\n",
      "25%        0.684314\n",
      "50%        0.798849\n",
      "75%        0.916965\n",
      "max        1.301233\n",
      "Name: timeSpent, dtype: float64\n",
      "count    400.000000\n",
      "mean       3.195440\n",
      "std        0.662353\n",
      "min        1.079854\n",
      "25%        2.738302\n",
      "50%        3.196462\n",
      "75%        3.658668\n",
      "max        5.162594\n",
      "Name: timeWithSDM, dtype: float64\n"
     ]
    }
   ],
   "source": [
    "noLevelC = lastYearAllScreening.loc[lastYearAllScreening.grade != 'C']\n",
    "print (noLevelC.groupby('providerID')['timeSpent'].sum() / 60 /240).describe()\n",
    "print (noLevelC.groupby('providerID')['timeWithSDM'].sum() / 60 / 240).describe()"
   ]
  },
  {
   "cell_type": "markdown",
   "metadata": {},
   "source": [
    "### Total hours of screening and variation at the provider level omitting level B and level C screening"
   ]
  },
  {
   "cell_type": "code",
   "execution_count": 237,
   "metadata": {},
   "outputs": [
    {
     "name": "stdout",
     "output_type": "stream",
     "text": [
      "count    400.000000\n",
      "mean       0.098687\n",
      "std        0.020599\n",
      "min        0.033628\n",
      "25%        0.084596\n",
      "50%        0.097786\n",
      "75%        0.112339\n",
      "max        0.160660\n",
      "Name: timeSpent, dtype: float64\n",
      "count    400.000000\n",
      "mean       0.691412\n",
      "std        0.143854\n",
      "min        0.234767\n",
      "25%        0.593496\n",
      "50%        0.686408\n",
      "75%        0.788883\n",
      "max        1.120493\n",
      "Name: timeWithSDM, dtype: float64\n"
     ]
    }
   ],
   "source": [
    "levelAOnly = lastYearAllScreening.loc[lastYearAllScreening.grade == 'A']\n",
    "print (levelAOnly.groupby('providerID')['timeSpent'].sum() / 60 / 240).describe()\n",
    "print (levelAOnly.groupby('providerID')['timeWithSDM'].sum() / 60 / 240).describe()\n"
   ]
  },
  {
   "cell_type": "code",
   "execution_count": 238,
   "metadata": {},
   "outputs": [],
   "source": [
    "levelAWithSDM = (levelAOnly.groupby('providerID')['timeWithSDM'].sum() / 60 / 240).mean()\n",
    "levelAWithoutSDM = (levelAOnly.groupby('providerID')['timeSpent'].sum() / 60 / 240).mean()\n",
    "\n",
    "levelBOnly = lastYearAllScreening.loc[lastYearAllScreening.grade == 'B']\n",
    "levelBWithSDM = (levelBOnly.groupby('providerID')['timeWithSDM'].sum() / 60 / 240).mean()\n",
    "levelBWithoutSDM = (levelBOnly.groupby('providerID')['timeSpent'].sum() / 60 / 240).mean()\n",
    "\n",
    "levelCOnly = lastYearAllScreening.loc[lastYearAllScreening.grade == 'C']\n",
    "levelCWithSDM = (levelCOnly.groupby('providerID')['timeWithSDM'].sum() / 60 / 240).mean()\n",
    "levelCWithoutSDM = (levelCOnly.groupby('providerID')['timeSpent'].sum() / 60 / 240).mean()"
   ]
  },
  {
   "cell_type": "markdown",
   "metadata": {},
   "source": [
    "# Total Time available for Prevention"
   ]
  },
  {
   "cell_type": "code",
   "execution_count": 239,
   "metadata": {},
   "outputs": [],
   "source": [
    "allProviders['totalClinicalTime'] = allProviders.hoursWorked * allProviders.proportionClinical\n",
    "allProviders['totalTimePerDay'] = allProviders.hoursWorked / 240\n",
    "allProviders['fractionPreventive'] = np.random.normal(.168, .04, len(allProviders))\n",
    "allProviders['fractionPreventivePlusDoc'] = allProviders.fractionPreventive + allProviders.fractionPreventive * np.random.normal(.385, 0.02, len(allProviders))\n",
    "# for now, our time available for prevention will not include documentation time\n",
    "allProviders['timeAvailableForPreventionPerYear'] = allProviders.fractionPreventive * allProviders.totalClinicalTime\n",
    "allProviders['timeAvailableForPreventionPerDay'] = allProviders.timeAvailableForPreventionPerYear / 240\n",
    "allProviders['totalClinicalTimePerDay'] = allProviders.totalClinicalTime / 240\n",
    "allProviders['totalNonClinicalTimePerDay'] = allProviders.hoursWorked * (1-allProviders.proportionClinical) / 240\n",
    "allProviders['totalClincalNonPreventionTimePerDay'] = allProviders.totalClinicalTimePerDay- allProviders.timeAvailableForPreventionPerDay"
   ]
  },
  {
   "cell_type": "code",
   "execution_count": 240,
   "metadata": {},
   "outputs": [
    {
     "data": {
      "text/plain": [
       "count    400.000000\n",
       "mean       0.472245\n",
       "std        0.138204\n",
       "min        0.182454\n",
       "25%        0.376645\n",
       "50%        0.466239\n",
       "75%        0.550189\n",
       "max        0.938797\n",
       "Name: timeAvailableForPreventionPerDay, dtype: float64"
      ]
     },
     "execution_count": 240,
     "metadata": {},
     "output_type": "execute_result"
    }
   ],
   "source": [
    "allProviders.timeAvailableForPreventionPerDay.describe()"
   ]
  },
  {
   "cell_type": "code",
   "execution_count": 241,
   "metadata": {},
   "outputs": [
    {
     "name": "stdout",
     "output_type": "stream",
     "text": [
      "10.6040220653\n",
      "2.8605820071\n",
      "7.74344005824\n",
      "2.38833695601\n",
      "0.472245051084\n"
     ]
    }
   ],
   "source": [
    "print allProviders.totalTimePerDay.mean()\n",
    "print allProviders.totalClinicalTimePerDay.mean()\n",
    "print allProviders.totalNonClinicalTimePerDay.mean()\n",
    "print allProviders.totalClincalNonPreventionTimePerDay.mean()\n",
    "print allProviders.timeAvailableForPreventionPerDay.mean()"
   ]
  },
  {
   "cell_type": "code",
   "execution_count": 242,
   "metadata": {},
   "outputs": [
    {
     "name": "stdout",
     "output_type": "stream",
     "text": [
      "10.6040220653\n",
      "0.139909326295\n"
     ]
    },
    {
     "data": {
      "image/png": "[encoded data removed]",
      "text/plain": [
       "<Figure size 432x288 with 1 Axes>"
      ]
     },
     "metadata": {},
     "output_type": "display_data"
    }
   ],
   "source": [
    "%matplotlib inline\n",
    "import matplotlib.pyplot as plt\n",
    "\n",
    "totalTimePerDay = allProviders.totalNonClinicalTimePerDay.mean() +  allProviders.totalClincalNonPreventionTimePerDay.mean() + allProviders.timeAvailableForPreventionPerDay.mean()\n",
    "print totalTimePerDay\n",
    "\n",
    "plt.pie([allProviders.totalNonClinicalTimePerDay.mean(), allProviders.totalClincalNonPreventionTimePerDay.mean(), \n",
    "        allProviders.timeAvailableForPreventionPerDay.mean()], \n",
    "        labels=['Non Clinical Time', 'Clinical, not prevention', 'Clinical, Prevention'], explode = [0,0,.3])\n",
    "\n",
    "timeAvailableForPreventionArea = 3.141592653589 * allProviders.timeAvailableForPreventionPerDay.mean()/totalTimePerDay\n",
    "print timeAvailableForPreventionArea"
   ]
  },
  {
   "cell_type": "code",
   "execution_count": 243,
   "metadata": {},
   "outputs": [
    {
     "name": "stdout",
     "output_type": "stream",
     "text": [
      "[0.6914121354166725, 1.6684035763889684, 0.6019628298611068]\n",
      "[0.23344491 0.56331139 0.2032437 ]\n",
      "[0.09868706597222227, 0.6271144097222219, 0.3047999826388873]\n",
      "[0.09575677 0.60849362 0.29574961]\n"
     ]
    },
    {
     "data": {
      "text/plain": [
       "([<matplotlib.patches.Wedge at 0x18abb4410>,\n",
       "  <matplotlib.patches.Wedge at 0x18abb4390>,\n",
       "  <matplotlib.patches.Wedge at 0x174e35350>],\n",
       " [Text(0.150247,0.358056,'A'),\n",
       "  Text(-0.376766,-0.0939473,'B'),\n",
       "  Text(0.387683,-0.021912,'C')])"
      ]
     },
     "execution_count": 243,
     "metadata": {},
     "output_type": "execute_result"
    },
    {
     "data": {
      "image/png": "[encoded data removed]",
      "text/plain": [
       "<Figure size 432x288 with 1 Axes>"
      ]
     },
     "metadata": {},
     "output_type": "display_data"
    }
   ],
   "source": [
    "areaOfOuterCircle = timeAvailableForPreventionArea * meanTimeForCompleteScreeningPlusSDM / allProviders.timeAvailableForPreventionPerDay.mean()\n",
    "radiusOfOuterCircle = np.sqrt(areaOfOuterCircle / 3.141592653589)\n",
    "\n",
    "areaOfInnerCircle = areaOfOuterCircle * (levelAWithoutSDM + levelBWithoutSDM + levelCWithoutSDM) / (levelAWithSDM + levelBWithSDM + levelCWithSDM)\n",
    "radiusOfInnerCircle = np.sqrt(areaOfInnerCircle  / 3.141592653589)\n",
    "\n",
    "\n",
    "fig, ax = plt.subplots()\n",
    "cmap = plt.get_cmap(\"tab20c\")\n",
    "outer_colors = cmap(np.array([3,6,9]))\n",
    "inner_colors = cmap(np.array([1, 2, 3]))\n",
    "\n",
    "print [levelAWithSDM, levelBWithSDM, levelCWithSDM]\n",
    "totalWithoutSDM = np.array([levelAWithSDM, levelBWithSDM, levelCWithSDM]).sum()\n",
    "print [levelAWithSDM, levelBWithSDM, levelCWithSDM]/ totalWithoutSDM\n",
    "print [levelAWithoutSDM, levelBWithoutSDM, levelCWithoutSDM]\n",
    "totalWithSDM = np.array([levelAWithoutSDM, levelBWithoutSDM, levelCWithoutSDM]).sum()\n",
    "print [levelAWithoutSDM, levelBWithoutSDM, levelCWithoutSDM] / totalWithSDM\n",
    "\n",
    "ax.pie([levelAWithSDM, levelBWithSDM, levelCWithSDM], labels=['A with SDM', 'B with SDM', 'C with SDM'], radius=radiusOfOuterCircle,\n",
    "      colors=outer_colors)\n",
    "ax.pie([levelAWithoutSDM, levelBWithoutSDM, levelCWithoutSDM], radius=radiusOfInnerCircle, \n",
    "       startangle=50, colors=inner_colors, labels=['A','B','C'])\n"
   ]
  },
  {
   "cell_type": "markdown",
   "metadata": {},
   "source": [
    "## Negative/Positive prevention Time"
   ]
  },
  {
   "cell_type": "code",
   "execution_count": 244,
   "metadata": {},
   "outputs": [],
   "source": [
    "dailyTimeForAllScreeningAndSDM = (lastYearAllScreening.groupby(\"providerID\")['timeWithSDM'].sum() / 240 / 60)\n",
    "dailyTimeForAllScreeningAndSDM.rename(\"dailyTimeForAllScreeningAndSDM\", inplace=True)\n",
    "allProviders = allProviders.join(dailyTimeForAllScreeningAndSDM, on='providerID')\n",
    "\n",
    "dailyTimeForAllScreeningAndNoSDM = (lastYearAllScreening.groupby(\"providerID\")['timeSpent'].sum() / 240 / 60)\n",
    "dailyTimeForAllScreeningAndNoSDM.rename(\"dailyTimeForAllScreeningAndNoSDM\", inplace=True)\n",
    "allProviders = allProviders.join(dailyTimeForAllScreeningAndNoSDM, on='providerID')\n",
    "\n",
    "dailyTimeForABScreeningAndSDM = (noLevelC.groupby(\"providerID\")['timeWithSDM'].sum() / 240 / 60)\n",
    "dailyTimeForABScreeningAndSDM.rename(\"dailyTimeForABScreeningAndSDM\", inplace=True)\n",
    "allProviders = allProviders.join(dailyTimeForABScreeningAndSDM, on='providerID')\n",
    "\n",
    "dailyTimeForABScreeningAndNoSDM = (noLevelC.groupby(\"providerID\")['timeSpent'].sum() / 240 / 60)\n",
    "dailyTimeForABScreeningAndNoSDM.rename(\"dailyTimeForABScreeningAndNoSDM\", inplace=True)\n",
    "allProviders = allProviders.join(dailyTimeForABScreeningAndNoSDM, on='providerID')\n",
    "\n",
    "dailyTimeForAScreeningAndSDM = (levelAOnly.groupby(\"providerID\")['timeWithSDM'].sum() / 240 / 60)\n",
    "dailyTimeForAScreeningAndSDM.rename(\"dailyTimeForAScreeningAndSDM\", inplace=True)\n",
    "allProviders =  allProviders.join(dailyTimeForAScreeningAndSDM, on='providerID')\n",
    "\n",
    "dailyTimeForAScreeningAndNoSDM = (levelAOnly.groupby(\"providerID\")['timeSpent'].sum() / 240 / 60)\n",
    "dailyTimeForAScreeningAndNoSDM.rename(\"dailyTimeForAScreeningAndNoSDM\", inplace=True)\n",
    "allProviders =  allProviders.join(dailyTimeForAScreeningAndNoSDM, on='providerID')\n",
    "\n",
    "dailyTimeForNoScreening = allProviders.totalTimePerDay - allProviders.timeAvailableForPreventionPerDay\n",
    "dailyTimeForNoScreening.rename(\"dailyTimeForNoScreening\", inplace=True)\n",
    "allProviders =  allProviders.join(dailyTimeForNoScreening, on='providerID')"
   ]
  },
  {
   "cell_type": "code",
   "execution_count": 245,
   "metadata": {},
   "outputs": [],
   "source": [
    "netTimeAllServicesWithSDM = allProviders.timeAvailableForPreventionPerDay - allProviders.dailyTimeForAllScreeningAndSDM\n",
    "netTimeAllServicesNoSDM = allProviders.timeAvailableForPreventionPerDay - allProviders.dailyTimeForAllScreeningAndNoSDM"
   ]
  },
  {
   "cell_type": "code",
   "execution_count": 246,
   "metadata": {},
   "outputs": [
    {
     "data": {
      "text/plain": [
       "<matplotlib.axes._subplots.AxesSubplot at 0x187c45dd0>"
      ]
     },
     "execution_count": 246,
     "metadata": {},
     "output_type": "execute_result"
    },
    {
     "data": {
      "image/png": "[encoded data removed]",
      "text/plain": [
       "<Figure size 432x288 with 1 Axes>"
      ]
     },
     "metadata": {},
     "output_type": "display_data"
    }
   ],
   "source": [
    "netTimeAllServicesWithSDM.hist()\n",
    "netTimeAllServicesNoSDM.hist()"
   ]
  },
  {
   "cell_type": "markdown",
   "metadata": {},
   "source": [
    "#### What % of providres are under water on time with and without SDM"
   ]
  },
  {
   "cell_type": "code",
   "execution_count": 247,
   "metadata": {},
   "outputs": [
    {
     "name": "stdout",
     "output_type": "stream",
     "text": [
      "0.0\n",
      "0.0075\n"
     ]
    }
   ],
   "source": [
    "print (netTimeAllServicesWithSDM >0).sum() / float(len(netTimeAllServicesWithSDM))\n",
    "print (netTimeAllServicesNoSDM > 0).sum() / float(len(netTimeAllServicesNoSDM))"
   ]
  },
  {
   "cell_type": "markdown",
   "metadata": {},
   "source": [
    "#### Net time, exclude level C"
   ]
  },
  {
   "cell_type": "code",
   "execution_count": 248,
   "metadata": {},
   "outputs": [
    {
     "name": "stdout",
     "output_type": "stream",
     "text": [
      "0.0\n",
      "0.0725\n"
     ]
    },
    {
     "data": {
      "image/png": "[encoded data removed]",
      "text/plain": [
       "<Figure size 432x288 with 1 Axes>"
      ]
     },
     "metadata": {},
     "output_type": "display_data"
    }
   ],
   "source": [
    "netTimeNoLevelCWithSDM= allProviders.timeAvailableForPreventionPerDay - allProviders.dailyTimeForABScreeningAndSDM\n",
    "netTimeNoLevelCNoSDM = allProviders.timeAvailableForPreventionPerDay - allProviders.dailyTimeForABScreeningAndNoSDM\n",
    "\n",
    "plt.hist(netTimeNoLevelCWithSDM.dropna())\n",
    "plt.hist(netTimeNoLevelCNoSDM.dropna())\n",
    "\n",
    "print (netTimeNoLevelCWithSDM.dropna() >0).sum() / float(len(netTimeNoLevelCWithSDM.dropna()))\n",
    "print (netTimeNoLevelCNoSDM.dropna() > 0).sum() / float(len(netTimeNoLevelCNoSDM.dropna()))"
   ]
  },
  {
   "cell_type": "markdown",
   "metadata": {},
   "source": [
    "#### Net time, exclude level B amnd level C"
   ]
  },
  {
   "cell_type": "code",
   "execution_count": 249,
   "metadata": {},
   "outputs": [
    {
     "name": "stdout",
     "output_type": "stream",
     "text": [
      "0.145\n",
      "1.0\n"
     ]
    },
    {
     "data": {
      "image/png": "[encoded data removed]",
      "text/plain": [
       "<Figure size 432x288 with 1 Axes>"
      ]
     },
     "metadata": {},
     "output_type": "display_data"
    }
   ],
   "source": [
    "netTimeNoLevelBCWithSDM= allProviders.timeAvailableForPreventionPerDay - allProviders.dailyTimeForAScreeningAndSDM\n",
    "netTimeNoLevelBCNoSDM = allProviders.timeAvailableForPreventionPerDay - allProviders.dailyTimeForAScreeningAndNoSDM\n",
    "\n",
    "plt.hist(netTimeNoLevelBCWithSDM.dropna())\n",
    "plt.hist(netTimeNoLevelBCNoSDM.dropna())\n",
    "\n",
    "print (netTimeNoLevelBCWithSDM.dropna() >0).sum() / float(len(netTimeNoLevelBCWithSDM.dropna()))\n",
    "print (netTimeNoLevelBCNoSDM.dropna() > 0).sum() / float(len(netTimeNoLevelBCNoSDM.dropna()))"
   ]
  },
  {
   "cell_type": "markdown",
   "metadata": {},
   "source": [
    "Data from - Relationship Between Clerical Burden and\n",
    "Characteristics of the Electronic Environment With\n",
    "Physician Burnout and Professional Satisfaction\n",
    "\n",
    "Going to solve for the logistic intercept implied by their OR on hours of work, using their mean burnout rate (55%) and the median number of hours worke (50) the Odds ratio per hour (1.02 is converted to a beta - .02469)"
   ]
  },
  {
   "cell_type": "code",
   "execution_count": 250,
   "metadata": {},
   "outputs": [
    {
     "name": "stdout",
     "output_type": "stream",
     "text": [
      "-1.0218312226098338\n"
     ]
    }
   ],
   "source": [
    "intercept = np.log(.553/(1-.553)) - 50 * 0.024692612590372\n",
    "print intercept"
   ]
  },
  {
   "cell_type": "code",
   "execution_count": 251,
   "metadata": {},
   "outputs": [],
   "source": [
    "allProviders['dailyTimeWithAllScreeningAndSDM'] = allProviders.dailyTimeForAllScreeningAndSDM + allProviders.dailyTimeForNoScreening\n",
    "allProviders['dailyTimeWithABScreeningAndSDM'] = allProviders.dailyTimeForABScreeningAndSDM + allProviders.dailyTimeForNoScreening\n",
    "allProviders['dailyTimeWithAScreeningAndSDM'] = allProviders.dailyTimeForAScreeningAndSDM + allProviders.dailyTimeForNoScreening\n",
    "allProviders['dailyTimeWithAllScreeningAndNoSDM'] = allProviders.dailyTimeForAllScreeningAndNoSDM + allProviders.dailyTimeForNoScreening\n",
    "allProviders['dailyTimeWithABScreeningAndNoSDM'] = allProviders.dailyTimeForABScreeningAndNoSDM + allProviders.dailyTimeForNoScreening\n",
    "allProviders['dailyTimeWithAScreeningAndNoSDM'] = allProviders.dailyTimeForAScreeningAndNoSDM + allProviders.dailyTimeForNoScreening"
   ]
  },
  {
   "cell_type": "code",
   "execution_count": 252,
   "metadata": {},
   "outputs": [
    {
     "data": {
      "text/plain": [
       "(array([ 3., 16., 35., 64., 89., 82., 55., 30., 16.,  9.]),\n",
       " array([26.45093811, 31.31207184, 36.17320556, 41.03433929, 45.89547301,\n",
       "        50.75660674, 55.61774046, 60.47887419, 65.34000791, 70.20114164,\n",
       "        75.06227536]),\n",
       " <a list of 10 Patch objects>)"
      ]
     },
     "execution_count": 252,
     "metadata": {},
     "output_type": "execute_result"
    },
    {
     "data": {
      "image/png": "[encoded data removed]",
      "text/plain": [
       "<Figure size 432x288 with 1 Axes>"
      ]
     },
     "metadata": {},
     "output_type": "display_data"
    }
   ],
   "source": [
    "plt.hist(allProviders.dailyTimeWithAllScreeningAndSDM.dropna() * 5)\n",
    "plt.hist(allProviders.dailyTimeWithABScreeningAndSDM.dropna() * 5)\n",
    "plt.hist(allProviders.dailyTimeWithAScreeningAndSDM.dropna() * 5)\n",
    "plt.hist(allProviders.dailyTimeWithAllScreeningAndNoSDM.dropna() * 5)\n",
    "plt.hist(allProviders.dailyTimeWithABScreeningAndNoSDM.dropna() * 5)\n",
    "plt.hist(allProviders.dailyTimeWithAScreeningAndNoSDM.dropna() * 5)\n",
    "plt.hist(allProviders.dailyTimeForNoScreening.dropna() * 5)"
   ]
  },
  {
   "cell_type": "code",
   "execution_count": 265,
   "metadata": {},
   "outputs": [],
   "source": [
    "allProviders['burnOutFullScreeningWithSDMXB'] = intercept + allProviders.dailyTimeWithAllScreeningAndSDM * 5 *  0.024692612590372\n",
    "allProviders['probBurnOutFullScreeningWithSDM'] = np.exp(allProviders.burnOutFullScreeningWithSDMXB) / (1 + np.exp(allProviders.burnOutFullScreeningWithSDMXB))\n",
    "\n",
    "allProviders['burnOutWithABScreeningAndSDMXB'] = intercept + allProviders.dailyTimeWithABScreeningAndSDM * 5 *  0.024692612590372\n",
    "allProviders['probBurnOutABScreeningWithSDM'] = np.exp(allProviders.burnOutWithABScreeningAndSDMXB) / (1 + np.exp(allProviders.burnOutWithABScreeningAndSDMXB))\n",
    "\n",
    "allProviders['burnOutWithAScreeningAndSDMXB'] = intercept + allProviders.dailyTimeWithAScreeningAndSDM * 5 *  0.024692612590372\n",
    "allProviders['probBurnOutAScreeningWithSDM'] = np.exp(allProviders.burnOutWithAScreeningAndSDMXB) / (1 + np.exp(allProviders.burnOutWithAScreeningAndSDMXB))\n",
    "\n",
    "allProviders['burnOutWithFullScreeningAndNoSDMXB'] = intercept + allProviders.dailyTimeWithAllScreeningAndNoSDM * 5 *  0.024692612590372\n",
    "allProviders['probBurnOutFullScreeningAndNoSDM'] = np.exp(allProviders.burnOutWithFullScreeningAndNoSDMXB) / (1 + np.exp(allProviders.burnOutWithFullScreeningAndNoSDMXB))\n",
    "\n",
    "allProviders['burnOutWithABScreeningAndNoSDMXB'] = intercept + allProviders.dailyTimeWithABScreeningAndNoSDM * 5 *  0.024692612590372\n",
    "allProviders['probBurnOutABScreeningAndNoSDM'] = np.exp(allProviders.burnOutWithABScreeningAndNoSDMXB) / (1 + np.exp(allProviders.burnOutWithABScreeningAndNoSDMXB))\n",
    "\n",
    "allProviders['burnOutWithAScreeningAndNoSDMXB'] = intercept + allProviders.dailyTimeWithAScreeningAndNoSDM * 5 *  0.024692612590372\n",
    "allProviders['probBurnOutAScreeningAndNoSDM'] = np.exp(allProviders.burnOutWithAScreeningAndNoSDMXB) / (1 + np.exp(allProviders.burnOutWithAScreeningAndNoSDMXB))\n",
    "\n",
    "allProviders['burnOutWithNoScreenXB'] = intercept + allProviders.dailyTimeForNoScreening * 5 *  0.024692612590372\n",
    "allProviders['probBurnOutWithNoScreen'] = np.exp(allProviders.burnOutWithNoScreenXB) / (1 + np.exp(allProviders.burnOutWithNoScreenXB))\n"
   ]
  },
  {
   "cell_type": "code",
   "execution_count": 266,
   "metadata": {},
   "outputs": [
    {
     "name": "stdout",
     "output_type": "stream",
     "text": [
      "0.665422872183\n",
      "0.649006205594\n",
      "0.576951008295\n",
      "0.589165356413\n",
      "0.58015062567\n",
      "0.559228172948\n",
      "0.556260481991\n"
     ]
    }
   ],
   "source": [
    "print allProviders.probBurnOutFullScreeningWithSDM.mean()\n",
    "print allProviders.probBurnOutABScreeningWithSDM.mean()\n",
    "print allProviders.probBurnOutAScreeningWithSDM.mean()\n",
    "print allProviders.probBurnOutFullScreeningAndNoSDM.mean()\n",
    "print allProviders.probBurnOutABScreeningAndNoSDM.mean()\n",
    "print allProviders.probBurnOutAScreeningAndNoSDM.mean()\n",
    "print allProviders.probBurnOutWithNoScreen.mean()"
   ]
  },
  {
   "cell_type": "code",
   "execution_count": null,
   "metadata": {},
   "outputs": [],
   "source": []
  }
 ],
 "metadata": {
  "kernelspec": {
   "display_name": "Python 2",
   "language": "python",
   "name": "python2"
  },
  "language_info": {
   "codemirror_mode": {
    "name": "ipython",
    "version": 2
   },
   "file_extension": ".py",
   "mimetype": "text/x-python",
   "name": "python",
   "nbconvert_exporter": "python",
   "pygments_lexer": "ipython2",
   "version": "2.7.15"
  }
 },
 "nbformat": 4,
 "nbformat_minor": 2
}
