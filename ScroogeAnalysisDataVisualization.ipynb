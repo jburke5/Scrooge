{
 "cells": [
  {
   "cell_type": "code",
   "execution_count": 80,
   "metadata": {},
   "outputs": [],
   "source": [
    "import pandas as pd\n",
    "import numpy as np\n",
    "import os\n",
    "\n",
    "os.chdir(\"/Users/burke/Documents/research/scrooge\")"
   ]
  },
  {
   "cell_type": "markdown",
   "metadata": {},
   "source": [
    "\n",
    "\n",
    "# Then, looking across 400 providers (will increase the estimate) to capture some variance"
   ]
  },
  {
   "cell_type": "code",
   "execution_count": 2,
   "metadata": {},
   "outputs": [],
   "source": [
    "allScreeningServices = pd.read_csv(\"allScreenings.csv\")\n",
    "allScreeningServices.visitDate = pd.to_datetime(allScreeningServices.visitDate)\n",
    "\n",
    "allScreeningServices['year'] = allScreeningServices.visitDate.dt.year\n",
    "allScreeningServices['timeWithSDM'] = allScreeningServices.timeSpent + 5.2\n",
    "\n",
    "allVisits = pd.read_csv(\"allVisits.csv\")\n",
    "allVisits.visitDate = pd.to_datetime(allVisits.visitDate)\n",
    "allVisits['year'] = allVisits.visitDate.dt.year\n",
    "\n",
    "\n",
    "lastYearAllScreening = allScreeningServices[allScreeningServices.year==2026]\n",
    "lastYearAllVisits = allVisits[allVisits.year==2026]\n",
    "\n",
    "allProviders = pd.read_csv(\"allProviders.csv\")"
   ]
  },
  {
   "cell_type": "code",
   "execution_count": 3,
   "metadata": {},
   "outputs": [
    {
     "data": {
      "text/plain": [
       "count    657382.000000\n",
       "mean          2.098926\n",
       "std           1.147029\n",
       "min           1.000000\n",
       "25%           1.000000\n",
       "50%           2.000000\n",
       "75%           3.000000\n",
       "max          12.000000\n",
       "Name: providerID, dtype: float64"
      ]
     },
     "execution_count": 3,
     "metadata": {},
     "output_type": "execute_result"
    }
   ],
   "source": [
    "lastYearAllVisits.groupby([\"providerID\", \"localPatientID\"])['providerID'].count().describe()"
   ]
  },
  {
   "cell_type": "code",
   "execution_count": 5,
   "metadata": {},
   "outputs": [
    {
     "data": {
      "text/plain": [
       "count    238168.000000\n",
       "mean         12.527166\n",
       "std           4.870970\n",
       "min           1.000000\n",
       "25%           8.000000\n",
       "50%          14.000000\n",
       "75%          16.000000\n",
       "max          25.000000\n",
       "Name: localPatientID, dtype: float64"
      ]
     },
     "execution_count": 5,
     "metadata": {},
     "output_type": "execute_result"
    }
   ],
   "source": [
    "lastYearAllScreening.groupby([\"providerID\", \"localPatientID\"])['localPatientID'].count().describe()\n"
   ]
  },
  {
   "cell_type": "code",
   "execution_count": 18,
   "metadata": {},
   "outputs": [
    {
     "data": {
      "text/plain": [
       "count     400.00000\n",
       "mean     1643.45500\n",
       "std       328.44951\n",
       "min       559.00000\n",
       "25%      1426.00000\n",
       "50%      1657.00000\n",
       "75%      1861.75000\n",
       "max      2676.00000\n",
       "Name: localPatientID, dtype: float64"
      ]
     },
     "execution_count": 18,
     "metadata": {},
     "output_type": "execute_result"
    }
   ],
   "source": [
    "lastYearAllVisits.groupby(\"providerID\")['localPatientID'].nunique().describe()"
   ]
  },
  {
   "cell_type": "markdown",
   "metadata": {},
   "source": [
    "# Total Time Needed for Prevention + SDM"
   ]
  },
  {
   "cell_type": "markdown",
   "metadata": {},
   "source": [
    "### Total hours of screening and variation at the provider level with SDM"
   ]
  },
  {
   "cell_type": "code",
   "execution_count": 6,
   "metadata": {},
   "outputs": [
    {
     "name": "stdout",
     "output_type": "stream",
     "text": [
      "count    400.000000\n",
      "mean       3.797402\n",
      "std        0.786779\n",
      "min        1.265424\n",
      "25%        3.260305\n",
      "50%        3.788752\n",
      "75%        4.345497\n",
      "max        6.153122\n",
      "Name: timeWithSDM, dtype: float64\n"
     ]
    }
   ],
   "source": [
    "# note -  will convert all hours of yearly screening to hours of screeing per day by dividing by \n",
    "# 48 weeks * 5 days per week = 240\n",
    "print (lastYearAllScreening.groupby('providerID')['timeWithSDM'].sum() / 60 / 240).describe()\n",
    "meanTimeForCompleteScreeningPlusSDM = (lastYearAllScreening.groupby('providerID')['timeWithSDM'].sum() / 60 / 240).mean()"
   ]
  },
  {
   "cell_type": "markdown",
   "metadata": {},
   "source": [
    "### Total hours of screening ande variation at the provider level without SDM"
   ]
  },
  {
   "cell_type": "code",
   "execution_count": 7,
   "metadata": {},
   "outputs": [
    {
     "name": "stdout",
     "output_type": "stream",
     "text": [
      "count    400.000000\n",
      "mean       1.103902\n",
      "std        0.228285\n",
      "min        0.356507\n",
      "25%        0.949602\n",
      "50%        1.100398\n",
      "75%        1.260938\n",
      "max        1.807510\n",
      "Name: timeSpent, dtype: float64\n"
     ]
    }
   ],
   "source": [
    "print (lastYearAllScreening.groupby('providerID')['timeSpent'].sum() / 60 / 240).describe()\n",
    "meanTImeForCompleteScreeningMinusSDM = (lastYearAllScreening.groupby('providerID')['timeSpent'].sum() / 60 / 240).mean()"
   ]
  },
  {
   "cell_type": "markdown",
   "metadata": {},
   "source": [
    "### Total iours of screening and vartiation at the provider level omitting level C screening"
   ]
  },
  {
   "cell_type": "code",
   "execution_count": 8,
   "metadata": {},
   "outputs": [
    {
     "name": "stdout",
     "output_type": "stream",
     "text": [
      "count    400.000000\n",
      "mean       0.799102\n",
      "std        0.165744\n",
      "min        0.263021\n",
      "25%        0.684314\n",
      "50%        0.798849\n",
      "75%        0.916965\n",
      "max        1.301233\n",
      "Name: timeSpent, dtype: float64\n",
      "count    400.000000\n",
      "mean       3.195440\n",
      "std        0.662353\n",
      "min        1.079854\n",
      "25%        2.738302\n",
      "50%        3.196462\n",
      "75%        3.658668\n",
      "max        5.162594\n",
      "Name: timeWithSDM, dtype: float64\n"
     ]
    }
   ],
   "source": [
    "noLevelC = lastYearAllScreening.loc[lastYearAllScreening.grade != 'C']\n",
    "print (noLevelC.groupby('providerID')['timeSpent'].sum() / 60 /240).describe()\n",
    "print (noLevelC.groupby('providerID')['timeWithSDM'].sum() / 60 / 240).describe()"
   ]
  },
  {
   "cell_type": "markdown",
   "metadata": {},
   "source": [
    "### Total hours of screening and variation at the provider level omitting level B and level C screening"
   ]
  },
  {
   "cell_type": "code",
   "execution_count": 9,
   "metadata": {},
   "outputs": [
    {
     "name": "stdout",
     "output_type": "stream",
     "text": [
      "count    400.000000\n",
      "mean       0.098687\n",
      "std        0.020599\n",
      "min        0.033628\n",
      "25%        0.084596\n",
      "50%        0.097786\n",
      "75%        0.112339\n",
      "max        0.160660\n",
      "Name: timeSpent, dtype: float64\n",
      "count    400.000000\n",
      "mean       0.691412\n",
      "std        0.143854\n",
      "min        0.234767\n",
      "25%        0.593496\n",
      "50%        0.686408\n",
      "75%        0.788883\n",
      "max        1.120493\n",
      "Name: timeWithSDM, dtype: float64\n"
     ]
    }
   ],
   "source": [
    "levelAOnly = lastYearAllScreening.loc[lastYearAllScreening.grade == 'A']\n",
    "print (levelAOnly.groupby('providerID')['timeSpent'].sum() / 60 / 240).describe()\n",
    "print (levelAOnly.groupby('providerID')['timeWithSDM'].sum() / 60 / 240).describe()\n"
   ]
  },
  {
   "cell_type": "code",
   "execution_count": 10,
   "metadata": {},
   "outputs": [],
   "source": [
    "levelAWithSDM = (levelAOnly.groupby('providerID')['timeWithSDM'].sum() / 60 / 240).mean()\n",
    "levelAWithoutSDM = (levelAOnly.groupby('providerID')['timeSpent'].sum() / 60 / 240).mean()\n",
    "\n",
    "levelBOnly = lastYearAllScreening.loc[lastYearAllScreening.grade == 'B']\n",
    "levelBWithSDM = (levelBOnly.groupby('providerID')['timeWithSDM'].sum() / 60 / 240).mean()\n",
    "levelBWithoutSDM = (levelBOnly.groupby('providerID')['timeSpent'].sum() / 60 / 240).mean()\n",
    "\n",
    "levelCOnly = lastYearAllScreening.loc[lastYearAllScreening.grade == 'C']\n",
    "levelCWithSDM = (levelCOnly.groupby('providerID')['timeWithSDM'].sum() / 60 / 240).mean()\n",
    "levelCWithoutSDM = (levelCOnly.groupby('providerID')['timeSpent'].sum() / 60 / 240).mean()"
   ]
  },
  {
   "cell_type": "markdown",
   "metadata": {},
   "source": [
    "# Total Time available for Prevention"
   ]
  },
  {
   "cell_type": "code",
   "execution_count": 11,
   "metadata": {},
   "outputs": [],
   "source": [
    "allProviders['totalClinicalTime'] = allProviders.hoursWorked * allProviders.proportionClinical\n",
    "allProviders['totalTimePerDay'] = allProviders.hoursWorked / 240\n",
    "allProviders['fractionPreventive'] = np.random.normal(.168, .04, len(allProviders))\n",
    "allProviders['fractionPreventivePlusDoc'] = allProviders.fractionPreventive + allProviders.fractionPreventive * np.random.normal(.385, 0.02, len(allProviders))\n",
    "# for now, our time available for prevention will not include documentation time\n",
    "allProviders['timeAvailableForPreventionPerYear'] = allProviders.fractionPreventive * allProviders.totalClinicalTime\n",
    "allProviders['timeAvailableForPreventionPerDay'] = allProviders.timeAvailableForPreventionPerYear / 240\n",
    "allProviders['totalClinicalTimePerDay'] = allProviders.totalClinicalTime / 240\n",
    "allProviders['totalNonClinicalTimePerDay'] = allProviders.hoursWorked * (1-allProviders.proportionClinical) / 240\n",
    "allProviders['totalClincalNonPreventionTimePerDay'] = allProviders.totalClinicalTimePerDay- allProviders.timeAvailableForPreventionPerDay"
   ]
  },
  {
   "cell_type": "code",
   "execution_count": 12,
   "metadata": {},
   "outputs": [
    {
     "data": {
      "text/plain": [
       "count    400.000000\n",
       "mean       0.475410\n",
       "std        0.142676\n",
       "min        0.089951\n",
       "25%        0.384233\n",
       "50%        0.467408\n",
       "75%        0.559095\n",
       "max        1.009735\n",
       "Name: timeAvailableForPreventionPerDay, dtype: float64"
      ]
     },
     "execution_count": 12,
     "metadata": {},
     "output_type": "execute_result"
    }
   ],
   "source": [
    "allProviders.timeAvailableForPreventionPerDay.describe()"
   ]
  },
  {
   "cell_type": "code",
   "execution_count": 13,
   "metadata": {},
   "outputs": [
    {
     "name": "stdout",
     "output_type": "stream",
     "text": [
      "10.6040220653\n",
      "2.8605820071\n",
      "7.74344005824\n",
      "2.38517168242\n",
      "0.475410324674\n"
     ]
    }
   ],
   "source": [
    "print allProviders.totalTimePerDay.mean()\n",
    "print allProviders.totalClinicalTimePerDay.mean()\n",
    "print allProviders.totalNonClinicalTimePerDay.mean()\n",
    "print allProviders.totalClincalNonPreventionTimePerDay.mean()\n",
    "print allProviders.timeAvailableForPreventionPerDay.mean()"
   ]
  },
  {
   "cell_type": "code",
   "execution_count": 14,
   "metadata": {},
   "outputs": [
    {
     "name": "stdout",
     "output_type": "stream",
     "text": [
      "10.6040220653\n",
      "0.140847083704\n"
     ]
    },
    {
     "data": {
      "image/png": "[encoded data removed]",
      "text/plain": [
       "<Figure size 432x288 with 1 Axes>"
      ]
     },
     "metadata": {},
     "output_type": "display_data"
    }
   ],
   "source": [
    "%matplotlib inline\n",
    "import matplotlib.pyplot as plt\n",
    "\n",
    "totalTimePerDay = allProviders.totalNonClinicalTimePerDay.mean() +  allProviders.totalClincalNonPreventionTimePerDay.mean() + allProviders.timeAvailableForPreventionPerDay.mean()\n",
    "print totalTimePerDay\n",
    "\n",
    "plt.pie([allProviders.totalNonClinicalTimePerDay.mean(), allProviders.totalClincalNonPreventionTimePerDay.mean(), \n",
    "        allProviders.timeAvailableForPreventionPerDay.mean()], \n",
    "        labels=['Non Clinical Time', 'Clinical, not prevention', 'Clinical, Prevention'], explode = [0,0,.3])\n",
    "\n",
    "timeAvailableForPreventionArea = 3.141592653589 * allProviders.timeAvailableForPreventionPerDay.mean()/totalTimePerDay\n",
    "print timeAvailableForPreventionArea"
   ]
  },
  {
   "cell_type": "code",
   "execution_count": 15,
   "metadata": {},
   "outputs": [
    {
     "name": "stdout",
     "output_type": "stream",
     "text": [
      "[0.6914121354166725, 1.6684035763889684, 0.6019628298611068]\n",
      "[0.23344491 0.56331139 0.2032437 ]\n",
      "[0.09868706597222227, 0.6271144097222219, 0.3047999826388873]\n",
      "[0.09575677 0.60849362 0.29574961]\n"
     ]
    },
    {
     "data": {
      "text/plain": [
       "([<matplotlib.patches.Wedge at 0x144895e50>,\n",
       "  <matplotlib.patches.Wedge at 0x144ce84d0>,\n",
       "  <matplotlib.patches.Wedge at 0x144ce8a50>],\n",
       " [Text(0.150247,0.358056,'A'),\n",
       "  Text(-0.376766,-0.0939473,'B'),\n",
       "  Text(0.387683,-0.021912,'C')])"
      ]
     },
     "execution_count": 15,
     "metadata": {},
     "output_type": "execute_result"
    },
    {
     "data": {
      "image/png": "[encoded data removed]",
      "text/plain": [
       "<Figure size 432x288 with 1 Axes>"
      ]
     },
     "metadata": {},
     "output_type": "display_data"
    }
   ],
   "source": [
    "areaOfOuterCircle = timeAvailableForPreventionArea * meanTimeForCompleteScreeningPlusSDM / allProviders.timeAvailableForPreventionPerDay.mean()\n",
    "radiusOfOuterCircle = np.sqrt(areaOfOuterCircle / 3.141592653589)\n",
    "\n",
    "areaOfInnerCircle = areaOfOuterCircle * (levelAWithoutSDM + levelBWithoutSDM + levelCWithoutSDM) / (levelAWithSDM + levelBWithSDM + levelCWithSDM)\n",
    "radiusOfInnerCircle = np.sqrt(areaOfInnerCircle  / 3.141592653589)\n",
    "\n",
    "\n",
    "fig, ax = plt.subplots()\n",
    "cmap = plt.get_cmap(\"tab20c\")\n",
    "outer_colors = cmap(np.array([3,6,9]))\n",
    "inner_colors = cmap(np.array([1, 2, 3]))\n",
    "\n",
    "print [levelAWithSDM, levelBWithSDM, levelCWithSDM]\n",
    "totalWithoutSDM = np.array([levelAWithSDM, levelBWithSDM, levelCWithSDM]).sum()\n",
    "print [levelAWithSDM, levelBWithSDM, levelCWithSDM]/ totalWithoutSDM\n",
    "print [levelAWithoutSDM, levelBWithoutSDM, levelCWithoutSDM]\n",
    "totalWithSDM = np.array([levelAWithoutSDM, levelBWithoutSDM, levelCWithoutSDM]).sum()\n",
    "print [levelAWithoutSDM, levelBWithoutSDM, levelCWithoutSDM] / totalWithSDM\n",
    "\n",
    "ax.pie([levelAWithSDM, levelBWithSDM, levelCWithSDM], labels=['A with SDM', 'B with SDM', 'C with SDM'], radius=radiusOfOuterCircle,\n",
    "      colors=outer_colors)\n",
    "ax.pie([levelAWithoutSDM, levelBWithoutSDM, levelCWithoutSDM], radius=radiusOfInnerCircle, \n",
    "       startangle=50, colors=inner_colors, labels=['A','B','C'])\n"
   ]
  },
  {
   "cell_type": "markdown",
   "metadata": {},
   "source": [
    "## Negative/Positive prevention Time"
   ]
  },
  {
   "cell_type": "code",
   "execution_count": 16,
   "metadata": {},
   "outputs": [],
   "source": [
    "dailyTimeForAllScreeningAndSDM = (lastYearAllScreening.groupby(\"providerID\")['timeWithSDM'].sum() / 240 / 60)\n",
    "dailyTimeForAllScreeningAndSDM.rename(\"dailyTimeForAllScreeningAndSDM\", inplace=True)\n",
    "allProviders = allProviders.join(dailyTimeForAllScreeningAndSDM, on='providerID')\n",
    "\n",
    "dailyTimeForAllScreeningAndNoSDM = (lastYearAllScreening.groupby(\"providerID\")['timeSpent'].sum() / 240 / 60)\n",
    "dailyTimeForAllScreeningAndNoSDM.rename(\"dailyTimeForAllScreeningAndNoSDM\", inplace=True)\n",
    "allProviders = allProviders.join(dailyTimeForAllScreeningAndNoSDM, on='providerID')\n",
    "\n",
    "dailyTimeForABScreeningAndSDM = (noLevelC.groupby(\"providerID\")['timeWithSDM'].sum() / 240 / 60)\n",
    "dailyTimeForABScreeningAndSDM.rename(\"dailyTimeForABScreeningAndSDM\", inplace=True)\n",
    "allProviders = allProviders.join(dailyTimeForABScreeningAndSDM, on='providerID')\n",
    "\n",
    "dailyTimeForABScreeningAndNoSDM = (noLevelC.groupby(\"providerID\")['timeSpent'].sum() / 240 / 60)\n",
    "dailyTimeForABScreeningAndNoSDM.rename(\"dailyTimeForABScreeningAndNoSDM\", inplace=True)\n",
    "allProviders = allProviders.join(dailyTimeForABScreeningAndNoSDM, on='providerID')\n",
    "\n",
    "dailyTimeForAScreeningAndSDM = (levelAOnly.groupby(\"providerID\")['timeWithSDM'].sum() / 240 / 60)\n",
    "dailyTimeForAScreeningAndSDM.rename(\"dailyTimeForAScreeningAndSDM\", inplace=True)\n",
    "allProviders =  allProviders.join(dailyTimeForAScreeningAndSDM, on='providerID')\n",
    "\n",
    "dailyTimeForAScreeningAndNoSDM = (levelAOnly.groupby(\"providerID\")['timeSpent'].sum() / 240 / 60)\n",
    "dailyTimeForAScreeningAndNoSDM.rename(\"dailyTimeForAScreeningAndNoSDM\", inplace=True)\n",
    "allProviders =  allProviders.join(dailyTimeForAScreeningAndNoSDM, on='providerID')\n",
    "\n",
    "dailyTimeForNoScreening = allProviders.totalTimePerDay - allProviders.timeAvailableForPreventionPerDay\n",
    "dailyTimeForNoScreening.rename(\"dailyTimeForNoScreening\", inplace=True)\n",
    "allProviders =  allProviders.join(dailyTimeForNoScreening, on='providerID')"
   ]
  },
  {
   "cell_type": "code",
   "execution_count": 17,
   "metadata": {},
   "outputs": [],
   "source": [
    "netTimeAllServicesWithSDM = allProviders.timeAvailableForPreventionPerDay - allProviders.dailyTimeForAllScreeningAndSDM\n",
    "netTimeAllServicesNoSDM = allProviders.timeAvailableForPreventionPerDay - allProviders.dailyTimeForAllScreeningAndNoSDM"
   ]
  },
  {
   "cell_type": "code",
   "execution_count": 19,
   "metadata": {},
   "outputs": [
    {
     "name": "stdout",
     "output_type": "stream",
     "text": [
      "count    400.000000\n",
      "mean      -3.321992\n",
      "std        0.803731\n",
      "min       -5.616695\n",
      "25%       -3.884907\n",
      "50%       -3.329840\n",
      "75%       -2.723216\n",
      "max       -0.732206\n",
      "dtype: float64\n",
      "count    400.000000\n",
      "mean      -0.628491\n",
      "std        0.272782\n",
      "min       -1.305356\n",
      "25%       -0.823951\n",
      "50%       -0.637319\n",
      "75%       -0.435264\n",
      "max        0.233824\n",
      "dtype: float64\n"
     ]
    }
   ],
   "source": [
    "print netTimeAllServicesWithSDM.describe()\n",
    "print netTimeAllServicesNoSDM.describe()"
   ]
  },
  {
   "cell_type": "code",
   "execution_count": 33,
   "metadata": {},
   "outputs": [
    {
     "data": {
      "image/png": "[encoded data removed]",
      "text/plain": [
       "<Figure size 432x288 with 1 Axes>"
      ]
     },
     "metadata": {},
     "output_type": "display_data"
    }
   ],
   "source": [
    "hist1= plt.hist(netTimeAllServicesWithSDM, label=\"With SDM\")\n",
    "hist2 = plt.hist(netTimeAllServicesNoSDM, label=\"No SDM\")\n",
    "plt.title(\"PTSD\")\n",
    "plt.xlabel(\"Hours of PTSD\")\n",
    "plt.legend()\n",
    "plt.savefig(\"PTSD.pdf\", format='pdf')"
   ]
  },
  {
   "cell_type": "markdown",
   "metadata": {},
   "source": [
    "#### What % of providres are under water on time with and without SDM"
   ]
  },
  {
   "cell_type": "code",
   "execution_count": 247,
   "metadata": {},
   "outputs": [
    {
     "name": "stdout",
     "output_type": "stream",
     "text": [
      "0.0\n",
      "0.0075\n"
     ]
    }
   ],
   "source": [
    "print (netTimeAllServicesWithSDM >0).sum() / float(len(netTimeAllServicesWithSDM))\n",
    "print (netTimeAllServicesNoSDM > 0).sum() / float(len(netTimeAllServicesNoSDM))"
   ]
  },
  {
   "cell_type": "markdown",
   "metadata": {},
   "source": [
    "#### Net time, exclude level C"
   ]
  },
  {
   "cell_type": "code",
   "execution_count": 248,
   "metadata": {},
   "outputs": [
    {
     "name": "stdout",
     "output_type": "stream",
     "text": [
      "0.0\n",
      "0.0725\n"
     ]
    },
    {
     "data": {
      "image/png": "[encoded data removed]",
      "text/plain": [
       "<Figure size 432x288 with 1 Axes>"
      ]
     },
     "metadata": {},
     "output_type": "display_data"
    }
   ],
   "source": [
    "netTimeNoLevelCWithSDM= allProviders.timeAvailableForPreventionPerDay - allProviders.dailyTimeForABScreeningAndSDM\n",
    "netTimeNoLevelCNoSDM = allProviders.timeAvailableForPreventionPerDay - allProviders.dailyTimeForABScreeningAndNoSDM\n",
    "\n",
    "plt.hist(netTimeNoLevelCWithSDM.dropna())\n",
    "plt.hist(netTimeNoLevelCNoSDM.dropna())\n",
    "\n",
    "print (netTimeNoLevelCWithSDM.dropna() >0).sum() / float(len(netTimeNoLevelCWithSDM.dropna()))\n",
    "print (netTimeNoLevelCNoSDM.dropna() > 0).sum() / float(len(netTimeNoLevelCNoSDM.dropna()))"
   ]
  },
  {
   "cell_type": "markdown",
   "metadata": {},
   "source": [
    "#### Net time, exclude level B amnd level C"
   ]
  },
  {
   "cell_type": "code",
   "execution_count": 249,
   "metadata": {},
   "outputs": [
    {
     "name": "stdout",
     "output_type": "stream",
     "text": [
      "0.145\n",
      "1.0\n"
     ]
    },
    {
     "data": {
      "image/png": "[encoded data removed]",
      "text/plain": [
       "<Figure size 432x288 with 1 Axes>"
      ]
     },
     "metadata": {},
     "output_type": "display_data"
    }
   ],
   "source": [
    "netTimeNoLevelBCWithSDM= allProviders.timeAvailableForPreventionPerDay - allProviders.dailyTimeForAScreeningAndSDM\n",
    "netTimeNoLevelBCNoSDM = allProviders.timeAvailableForPreventionPerDay - allProviders.dailyTimeForAScreeningAndNoSDM\n",
    "\n",
    "plt.hist(netTimeNoLevelBCWithSDM.dropna())\n",
    "plt.hist(netTimeNoLevelBCNoSDM.dropna())\n",
    "\n",
    "print (netTimeNoLevelBCWithSDM.dropna() >0).sum() / float(len(netTimeNoLevelBCWithSDM.dropna()))\n",
    "print (netTimeNoLevelBCNoSDM.dropna() > 0).sum() / float(len(netTimeNoLevelBCNoSDM.dropna()))"
   ]
  },
  {
   "cell_type": "markdown",
   "metadata": {},
   "source": [
    "Time for prevention, relative to total clincial time..."
   ]
  },
  {
   "cell_type": "code",
   "execution_count": 41,
   "metadata": {},
   "outputs": [
    {
     "name": "stdout",
     "output_type": "stream",
     "text": [
      "count    400.000000\n",
      "mean      -0.936820\n",
      "std        0.937430\n",
      "min       -3.438374\n",
      "25%       -1.572768\n",
      "50%       -0.901748\n",
      "75%       -0.236904\n",
      "max        1.631545\n",
      "dtype: float64\n",
      "1.0\n"
     ]
    }
   ],
   "source": [
    "netTimeRelativeToAllClinicalTime= allProviders.totalClinicalTimePerDay - allProviders.dailyTimeForAllScreeningAndSDM\n",
    "netTimeAllServicesNoSDM\n",
    "print netTimeRelativeToAllClinicalTime.describe()\n",
    "\n",
    "print float(len(netTimeRelativeToAllClinicalTime < 0)) / float(len(netTimeRelativeToAllClinicalTime))"
   ]
  },
  {
   "cell_type": "markdown",
   "metadata": {},
   "source": [
    "Data from - Relationship Between Clerical Burden and\n",
    "Characteristics of the Electronic Environment With\n",
    "Physician Burnout and Professional Satisfaction\n",
    "\n",
    "Going to solve for the logistic intercept implied by their OR on hours of work, using their mean burnout rate (55%) and the median number of hours worke (50) the Odds ratio per hour (1.02 is converted to a beta - .02469)"
   ]
  },
  {
   "cell_type": "code",
   "execution_count": 250,
   "metadata": {},
   "outputs": [
    {
     "name": "stdout",
     "output_type": "stream",
     "text": [
      "-1.0218312226098338\n"
     ]
    }
   ],
   "source": [
    "intercept = np.log(.553/(1-.553)) - 50 * 0.024692612590372\n",
    "print intercept"
   ]
  },
  {
   "cell_type": "code",
   "execution_count": 251,
   "metadata": {},
   "outputs": [],
   "source": [
    "allProviders['dailyTimeWithAllScreeningAndSDM'] = allProviders.dailyTimeForAllScreeningAndSDM + allProviders.dailyTimeForNoScreening\n",
    "allProviders['dailyTimeWithABScreeningAndSDM'] = allProviders.dailyTimeForABScreeningAndSDM + allProviders.dailyTimeForNoScreening\n",
    "allProviders['dailyTimeWithAScreeningAndSDM'] = allProviders.dailyTimeForAScreeningAndSDM + allProviders.dailyTimeForNoScreening\n",
    "allProviders['dailyTimeWithAllScreeningAndNoSDM'] = allProviders.dailyTimeForAllScreeningAndNoSDM + allProviders.dailyTimeForNoScreening\n",
    "allProviders['dailyTimeWithABScreeningAndNoSDM'] = allProviders.dailyTimeForABScreeningAndNoSDM + allProviders.dailyTimeForNoScreening\n",
    "allProviders['dailyTimeWithAScreeningAndNoSDM'] = allProviders.dailyTimeForAScreeningAndNoSDM + allProviders.dailyTimeForNoScreening"
   ]
  },
  {
   "cell_type": "code",
   "execution_count": 252,
   "metadata": {},
   "outputs": [
    {
     "data": {
      "text/plain": [
       "(array([ 3., 16., 35., 64., 89., 82., 55., 30., 16.,  9.]),\n",
       " array([26.45093811, 31.31207184, 36.17320556, 41.03433929, 45.89547301,\n",
       "        50.75660674, 55.61774046, 60.47887419, 65.34000791, 70.20114164,\n",
       "        75.06227536]),\n",
       " <a list of 10 Patch objects>)"
      ]
     },
     "execution_count": 252,
     "metadata": {},
     "output_type": "execute_result"
    },
    {
     "data": {
      "image/png": "[encoded data removed]",
      "text/plain": [
       "<Figure size 432x288 with 1 Axes>"
      ]
     },
     "metadata": {},
     "output_type": "display_data"
    }
   ],
   "source": [
    "plt.hist(allProviders.dailyTimeWithAllScreeningAndSDM.dropna() * 5)\n",
    "plt.hist(allProviders.dailyTimeWithABScreeningAndSDM.dropna() * 5)\n",
    "plt.hist(allProviders.dailyTimeWithAScreeningAndSDM.dropna() * 5)\n",
    "plt.hist(allProviders.dailyTimeWithAllScreeningAndNoSDM.dropna() * 5)\n",
    "plt.hist(allProviders.dailyTimeWithABScreeningAndNoSDM.dropna() * 5)\n",
    "plt.hist(allProviders.dailyTimeWithAScreeningAndNoSDM.dropna() * 5)\n",
    "plt.hist(allProviders.dailyTimeForNoScreening.dropna() * 5)"
   ]
  },
  {
   "cell_type": "code",
   "execution_count": 265,
   "metadata": {},
   "outputs": [],
   "source": [
    "allProviders['burnOutFullScreeningWithSDMXB'] = intercept + allProviders.dailyTimeWithAllScreeningAndSDM * 5 *  0.024692612590372\n",
    "allProviders['probBurnOutFullScreeningWithSDM'] = np.exp(allProviders.burnOutFullScreeningWithSDMXB) / (1 + np.exp(allProviders.burnOutFullScreeningWithSDMXB))\n",
    "\n",
    "allProviders['burnOutWithABScreeningAndSDMXB'] = intercept + allProviders.dailyTimeWithABScreeningAndSDM * 5 *  0.024692612590372\n",
    "allProviders['probBurnOutABScreeningWithSDM'] = np.exp(allProviders.burnOutWithABScreeningAndSDMXB) / (1 + np.exp(allProviders.burnOutWithABScreeningAndSDMXB))\n",
    "\n",
    "allProviders['burnOutWithAScreeningAndSDMXB'] = intercept + allProviders.dailyTimeWithAScreeningAndSDM * 5 *  0.024692612590372\n",
    "allProviders['probBurnOutAScreeningWithSDM'] = np.exp(allProviders.burnOutWithAScreeningAndSDMXB) / (1 + np.exp(allProviders.burnOutWithAScreeningAndSDMXB))\n",
    "\n",
    "allProviders['burnOutWithFullScreeningAndNoSDMXB'] = intercept + allProviders.dailyTimeWithAllScreeningAndNoSDM * 5 *  0.024692612590372\n",
    "allProviders['probBurnOutFullScreeningAndNoSDM'] = np.exp(allProviders.burnOutWithFullScreeningAndNoSDMXB) / (1 + np.exp(allProviders.burnOutWithFullScreeningAndNoSDMXB))\n",
    "\n",
    "allProviders['burnOutWithABScreeningAndNoSDMXB'] = intercept + allProviders.dailyTimeWithABScreeningAndNoSDM * 5 *  0.024692612590372\n",
    "allProviders['probBurnOutABScreeningAndNoSDM'] = np.exp(allProviders.burnOutWithABScreeningAndNoSDMXB) / (1 + np.exp(allProviders.burnOutWithABScreeningAndNoSDMXB))\n",
    "\n",
    "allProviders['burnOutWithAScreeningAndNoSDMXB'] = intercept + allProviders.dailyTimeWithAScreeningAndNoSDM * 5 *  0.024692612590372\n",
    "allProviders['probBurnOutAScreeningAndNoSDM'] = np.exp(allProviders.burnOutWithAScreeningAndNoSDMXB) / (1 + np.exp(allProviders.burnOutWithAScreeningAndNoSDMXB))\n",
    "\n",
    "allProviders['burnOutWithNoScreenXB'] = intercept + allProviders.dailyTimeForNoScreening * 5 *  0.024692612590372\n",
    "allProviders['probBurnOutWithNoScreen'] = np.exp(allProviders.burnOutWithNoScreenXB) / (1 + np.exp(allProviders.burnOutWithNoScreenXB))\n"
   ]
  },
  {
   "cell_type": "code",
   "execution_count": 266,
   "metadata": {},
   "outputs": [
    {
     "name": "stdout",
     "output_type": "stream",
     "text": [
      "0.665422872183\n",
      "0.649006205594\n",
      "0.576951008295\n",
      "0.589165356413\n",
      "0.58015062567\n",
      "0.559228172948\n",
      "0.556260481991\n"
     ]
    }
   ],
   "source": [
    "print allProviders.probBurnOutFullScreeningWithSDM.mean()\n",
    "print allProviders.probBurnOutABScreeningWithSDM.mean()\n",
    "print allProviders.probBurnOutAScreeningWithSDM.mean()\n",
    "print allProviders.probBurnOutFullScreeningAndNoSDM.mean()\n",
    "print allProviders.probBurnOutABScreeningAndNoSDM.mean()\n",
    "print allProviders.probBurnOutAScreeningAndNoSDM.mean()\n",
    "print allProviders.probBurnOutWithNoScreen.mean()"
   ]
  },
  {
   "cell_type": "code",
   "execution_count": null,
   "metadata": {},
   "outputs": [],
   "source": []
  }
 ],
 "metadata": {
  "kernelspec": {
   "display_name": "Python 2",
   "language": "python",
   "name": "python2"
  },
  "language_info": {
   "codemirror_mode": {
    "name": "ipython",
    "version": 2
   },
   "file_extension": ".py",
   "mimetype": "text/x-python",
   "name": "python",
   "nbconvert_exporter": "python",
   "pygments_lexer": "ipython2",
   "version": "2.7.15"
  }
 },
 "nbformat": 4,
 "nbformat_minor": 2
}
